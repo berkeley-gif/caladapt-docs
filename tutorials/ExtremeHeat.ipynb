{
 "cells": [
  {
   "cell_type": "markdown",
   "metadata": {},
   "source": [
    "# Calculating Extreme Heat data using daily projections from Cal-Adapt API"
   ]
  },
  {
   "cell_type": "markdown",
   "metadata": {},
   "source": [
    "This notebook walks you through how we calculate Extreme Heat Days for an area. We will begin with getting observed daily tasmax data for an area. Using a baseline period of 1961 - 1990, we will calculate the 98th percentile value of all temperatures from April - October. This value is used as Extreme Heat Threshold for the area. Then we get the projected data for this area for four models. From the projected data, all days with tasmax above Extreme Heat Threshold are considered Extreme Heat Days. You can modify this approach for your needs.\n",
    "\n",
    "**We reccomended using decadal or multi-decadal averages for reporting Extreme Heat Day counts for future time periods.**"
   ]
  },
  {
   "cell_type": "markdown",
   "metadata": {},
   "source": [
    "Begin by importing all python modules we will need."
   ]
  },
  {
   "cell_type": "code",
   "execution_count": 1,
   "metadata": {
    "collapsed": true
   },
   "outputs": [],
   "source": [
    "import requests \n",
    "import numpy as np\n",
    "import pandas as pd\n",
    "from datetime import datetime"
   ]
  },
  {
   "cell_type": "markdown",
   "metadata": {},
   "source": [
    "Defining some functions and values that we use later in the code. "
   ]
  },
  {
   "cell_type": "code",
   "execution_count": 2,
   "metadata": {
    "collapsed": true
   },
   "outputs": [],
   "source": [
    "# Convert value from degrees Celsius to degrees Fahrenheit (used for observed data)\n",
    "def celsius_to_F(val):\n",
    "    return val * 9/5 + 32 \n",
    "\n",
    "# Convert value from Kelvin to degrees Fahrenheit (used for modeled data)\n",
    "def kelvin_to_F(val):\n",
    "    return  (val - 273.15) * 9/5 + 32\n",
    "\n",
    "# Request header\n",
    "headers = {'ContentType': 'json'}"
   ]
  },
  {
   "cell_type": "markdown",
   "metadata": {},
   "source": [
    "### You can get data for a point or an area of your interest\n",
    "\n",
    "If you are requesting data for a point or polygon use the `g` parameter to specify geometry. Geometry can be written in various formats including WKT, GeoJSON, KML. The examples below use WKT (Well Known Text) format."
   ]
  },
  {
   "cell_type": "code",
   "execution_count": 3,
   "metadata": {
    "collapsed": true
   },
   "outputs": [],
   "source": [
    "# Uncomment the following lines to get data for a point location\n",
    "#point = 'POINT(-121.4687 38.5938)'\n",
    "#params = {'g': point}\n",
    "\n",
    "# Uncomment the following lines to get data for a polygon\n",
    "#polygon = 'POLYGON ((-123.35449 39.09596, -122.27783 39.09596, -122.27783 39.97712, -123.35449 39.97712, -123.35449 39.09596))' \n",
    "#params = {'g': polygon, 'stat': 'mean'}"
   ]
  },
  {
   "cell_type": "markdown",
   "metadata": {},
   "source": [
    "### If you want to use polygon geometry from Cal-Adapt API, it's a 2-step process\n",
    "\n",
    "- First get a polygon from a boundary layer in the API (e.g. counties, census tracts, place, etc.) that intersects your point of interest. Build a string that references the id of the polygon.\n",
    "- Then use the `ref` param instead of the `g` param to request data\n",
    "\n",
    "[Complete list of boundaries in Cal-Adapt API](https://berkeley-gif.github.io/caladapt-docs/data-catalog.html#vector-data). **Note: Requests might time out if the polygon is too large**. Subsetting the daily data has been tested with counties, census tracts, places and hydrounits. If you need data for a large boundary we reccomend downloading the daily rasters and processing the data locally. "
   ]
  },
  {
   "cell_type": "code",
   "execution_count": 4,
   "metadata": {},
   "outputs": [
    {
     "name": "stdout",
     "output_type": "stream",
     "text": [
      "/api/counties/34/\n"
     ]
    }
   ],
   "source": [
    "# Your point of interest\n",
    "point = 'POINT(-121.4687 38.5938)'\n",
    "# Name of boundary layer in API\n",
    "resource = 'counties'\n",
    "# Request url\n",
    "url = 'http://api.cal-adapt.org/api/%s/' % resource\n",
    "# Request params to find intersecting boundaries\n",
    "params = {'intersects': point, 'srs': 4326, 'simplify': .0001, 'precision': 4}\n",
    "ref = ''\n",
    "\n",
    "# Get geometry\n",
    "response = requests.get(url, params=params, headers=headers)\n",
    "if response.ok:\n",
    "    data = response.json()\n",
    "    feature = data['features'][0]\n",
    "    if (feature):\n",
    "        ref = '/api/%s/%s/' % (resource, feature['id'])\n",
    "        print(ref)\n",
    "    else:\n",
    "        print('Did not find any polygons that intersect your point')\n",
    "\n",
    "params = {'ref': ref, 'stat': 'mean'}"
   ]
  },
  {
   "cell_type": "markdown",
   "metadata": {},
   "source": [
    "### 1. Get observed daily tasmax\n",
    "\n",
    "Daily data is stored as a multiband raster. So the observed daily timeseries (1950 -2013) has 23376 bands with each band corresponding to one day, starting from 1950-01-01."
   ]
  },
  {
   "cell_type": "code",
   "execution_count": 5,
   "metadata": {
    "scrolled": true
   },
   "outputs": [],
   "source": [
    "# Request url\n",
    "url = 'http://api.cal-adapt.org/api/series/tasmax_day_livneh/' + 'rasters/'\n",
    "\n",
    "# Make request\n",
    "response = requests.get(url, params=params, headers=headers)\n",
    "\n",
    "# Variable stores observed daily data in a Pandas dataframe\n",
    "observedDF = None\n",
    "\n",
    "if response.ok:\n",
    "    json = response.json()\n",
    "    data = json['results'][0]\n",
    "    \n",
    "    # Multiband raster data is returned by the API as a 3D array having a shape (233376, 1, 1)\n",
    "    # Flatten the 3D array into a 1D array\n",
    "    values_arr = np.array(data['image'])\n",
    "    values_arr = values_arr.flatten()\n",
    "    \n",
    "    # Get start date of timeseries\n",
    "    start_date = datetime.strptime(data['event'], '%Y-%m-%d')\n",
    "    \n",
    "    # Get total number of values -> number of days\n",
    "    length = len(values_arr)\n",
    "    \n",
    "    # Create new pandas dataframe and map each value in list to a date index\n",
    "    observedDF = pd.DataFrame(values_arr,\n",
    "        index=pd.date_range(start_date, freq='1D', periods=length),\n",
    "        columns=['value'])\n",
    "    \n",
    "    # Convert celsius to Fahrenheit\n",
    "    observedDF.value = observedDF.value.apply(lambda x: celsius_to_F(x))"
   ]
  },
  {
   "cell_type": "markdown",
   "metadata": {},
   "source": [
    "Explore the data. Units for the observed data is degrees Celsius."
   ]
  },
  {
   "cell_type": "code",
   "execution_count": 6,
   "metadata": {},
   "outputs": [
    {
     "name": "stdout",
     "output_type": "stream",
     "text": [
      "                value\n",
      "1950-01-01  47.537341\n",
      "1950-01-02  43.417568\n",
      "1950-01-03  46.940557\n",
      "1950-01-04  43.705381\n",
      "1950-01-05  45.215155\n",
      "\n",
      "                value\n",
      "2013-12-27  61.920082\n",
      "2013-12-28  65.755937\n",
      "2013-12-29  64.220372\n",
      "2013-12-30  64.782641\n",
      "2013-12-31  64.359176\n"
     ]
    }
   ],
   "source": [
    "print(observedDF.head())\n",
    "print()\n",
    "print(observedDF.tail())"
   ]
  },
  {
   "cell_type": "markdown",
   "metadata": {},
   "source": [
    "### 2. Calculate Extreme Heat Threshold\n",
    "\n",
    "For the Cal-Adapt Extreme Heat Tool, Extreme Heat Threshold is the 98th percentile of historical maximum temperatures between April 1 and October 31 based on observed daily temperature data from 1961–1990."
   ]
  },
  {
   "cell_type": "code",
   "execution_count": 7,
   "metadata": {},
   "outputs": [
    {
     "name": "stdout",
     "output_type": "stream",
     "text": [
      "                value\n",
      "1961-04-01  73.500947\n",
      "1961-04-02  78.862910\n",
      "1961-04-03  83.878230\n",
      "1961-04-04  83.873029\n",
      "1961-04-05  79.941237\n",
      "\n",
      "                value\n",
      "1990-10-27  83.352703\n",
      "1990-10-28  82.617298\n",
      "1990-10-29  77.272040\n",
      "1990-10-30  73.994929\n",
      "1990-10-31  71.551565\n"
     ]
    }
   ],
   "source": [
    "# Filter years\n",
    "baselineDF = observedDF.loc['1961-01-01':'1990-12-31']\n",
    "\n",
    "# Filter months\n",
    "baselineDF = baselineDF[(baselineDF.index.month >= 4) & (baselineDF.index.month <= 10)]\n",
    "\n",
    "print(baselineDF.head())\n",
    "print()\n",
    "print(baselineDF.tail())"
   ]
  },
  {
   "cell_type": "code",
   "execution_count": 8,
   "metadata": {},
   "outputs": [
    {
     "name": "stdout",
     "output_type": "stream",
     "text": [
      "Extreme Heat Threshold value is 102.7 degrees Fahrenheit\n"
     ]
    }
   ],
   "source": [
    "threshold = baselineDF['value'].quantile(0.98, interpolation='linear')\n",
    "print('Extreme Heat Threshold value is', round(threshold, 1), 'degrees Fahrenheit', sep = ' ')"
   ]
  },
  {
   "cell_type": "markdown",
   "metadata": {
    "collapsed": true
   },
   "source": [
    "### 3. Get modeled data\n",
    "\n",
    "For this example we will get modeled projections for one scenario (RCP 8.5) and one model (HadGEM2-ES)."
   ]
  },
  {
   "cell_type": "code",
   "execution_count": 9,
   "metadata": {
    "collapsed": true
   },
   "outputs": [],
   "source": [
    "# Request url\n",
    "url = 'http://api.cal-adapt.org/api/series/tasmax_day_HadGEM2-ES_rcp85/' + 'rasters/'\n",
    "\n",
    "# Make request\n",
    "response = requests.get(url, params=params, headers=headers)\n",
    "\n",
    "# Variable stores modeled daily data in a Pandas dataframe\n",
    "modeledDF = None\n",
    "\n",
    "if response.ok:\n",
    "    json = response.json()\n",
    "    data = json['results'][0]\n",
    "    \n",
    "    # Multiband raster data is returned by the API as a 3D array having a shape (233376, 1, 1)\n",
    "    # Flatten the 3D array into a 1D array\n",
    "    values_arr = np.array(data['image'])\n",
    "    values_arr = values_arr.flatten()\n",
    "    \n",
    "    # Get start date of timeseries\n",
    "    start_date = datetime.strptime(data['event'], '%Y-%m-%d')\n",
    "    \n",
    "    # Get total number of values -> number of days\n",
    "    length = len(values_arr)\n",
    "    \n",
    "    # Create new pandas dataframe and map each value in list to a date index\n",
    "    modeledDF = pd.DataFrame(values_arr,\n",
    "        index=pd.date_range(start_date, freq='1D', periods=length),\n",
    "        columns=['value'])\n",
    "    \n",
    "    # Convert Kelvin to Fahrenheit\n",
    "    modeledDF.value = modeledDF.value.apply(lambda x: kelvin_to_F(x))"
   ]
  },
  {
   "cell_type": "code",
   "execution_count": 10,
   "metadata": {},
   "outputs": [
    {
     "name": "stdout",
     "output_type": "stream",
     "text": [
      "                value\n",
      "2006-01-01  54.075602\n",
      "2006-01-02  51.549680\n",
      "2006-01-03  51.462877\n",
      "2006-01-04  51.992432\n",
      "2006-01-05  45.609325\n",
      "\n",
      "                value\n",
      "2099-12-27  56.904231\n",
      "2099-12-28  61.793922\n",
      "2099-12-29  61.170569\n",
      "2099-12-30  62.885722\n",
      "2099-12-31  64.597578\n"
     ]
    }
   ],
   "source": [
    "print(modeledDF.head())\n",
    "print()\n",
    "print(modeledDF.tail())"
   ]
  },
  {
   "cell_type": "markdown",
   "metadata": {},
   "source": [
    "### 4. Calculate extreme heat days"
   ]
  },
  {
   "cell_type": "code",
   "execution_count": 11,
   "metadata": {},
   "outputs": [
    {
     "name": "stdout",
     "output_type": "stream",
     "text": [
      "                 value\n",
      "2070-05-13  104.988558\n",
      "2070-05-14  104.404348\n",
      "2070-05-15  103.318491\n",
      "2070-05-20  107.368962\n",
      "2070-05-21  107.779928\n",
      "\n",
      "                 value\n",
      "2099-09-16  108.722550\n",
      "2099-09-17  107.535428\n",
      "2099-09-18  105.261943\n",
      "2099-09-19  103.908101\n",
      "2099-09-20  104.712273\n"
     ]
    }
   ],
   "source": [
    "# Filter years\n",
    "filteredDF = modeledDF.loc['2070-01-01':'2099-12-31']\n",
    "\n",
    "# Filter months\n",
    "filteredDF = filteredDF[(filteredDF.index.month >= 4) & (filteredDF.index.month <= 10)]\n",
    "\n",
    "# Filter days > threshold\n",
    "filteredDF = filteredDF[filteredDF.value > threshold]\n",
    "\n",
    "print(filteredDF.head())\n",
    "print()\n",
    "print(filteredDF.tail())"
   ]
  },
  {
   "cell_type": "markdown",
   "metadata": {},
   "source": [
    "Count of extreme heat days by year (April through October)"
   ]
  },
  {
   "cell_type": "code",
   "execution_count": 12,
   "metadata": {
    "scrolled": true
   },
   "outputs": [
    {
     "data": {
      "text/plain": [
       "2070-01-01    55\n",
       "2071-01-01    32\n",
       "2072-01-01    67\n",
       "2073-01-01    36\n",
       "2074-01-01    33\n",
       "2075-01-01    53\n",
       "2076-01-01    49\n",
       "2077-01-01    63\n",
       "2078-01-01    65\n",
       "2079-01-01    41\n",
       "2080-01-01    57\n",
       "2081-01-01    44\n",
       "2082-01-01    52\n",
       "2083-01-01    63\n",
       "2084-01-01    71\n",
       "2085-01-01    57\n",
       "2086-01-01    49\n",
       "2087-01-01    53\n",
       "2088-01-01    54\n",
       "2089-01-01    53\n",
       "2090-01-01    70\n",
       "2091-01-01    51\n",
       "2092-01-01    70\n",
       "2093-01-01    71\n",
       "2094-01-01    78\n",
       "2095-01-01    72\n",
       "2096-01-01    68\n",
       "2097-01-01    41\n",
       "2098-01-01    77\n",
       "2099-01-01    43\n",
       "Freq: AS-JAN, Name: value, dtype: int64"
      ]
     },
     "execution_count": 12,
     "metadata": {},
     "output_type": "execute_result"
    }
   ],
   "source": [
    "filteredDF.value.resample('1AS').count()"
   ]
  },
  {
   "cell_type": "markdown",
   "metadata": {},
   "source": [
    "Count of extreme heat days averaged over 2070-2099 (April through October)"
   ]
  },
  {
   "cell_type": "code",
   "execution_count": 13,
   "metadata": {},
   "outputs": [
    {
     "data": {
      "text/plain": [
       "56.266666666666666"
      ]
     },
     "execution_count": 13,
     "metadata": {},
     "output_type": "execute_result"
    }
   ],
   "source": [
    "filteredDF.value.resample('1AS').count().mean()"
   ]
  }
 ],
 "metadata": {
  "kernelspec": {
   "display_name": "Python 3",
   "language": "python",
   "name": "python3"
  },
  "language_info": {
   "codemirror_mode": {
    "name": "ipython",
    "version": 3
   },
   "file_extension": ".py",
   "mimetype": "text/x-python",
   "name": "python",
   "nbconvert_exporter": "python",
   "pygments_lexer": "ipython3",
   "version": "3.5.2"
  }
 },
 "nbformat": 4,
 "nbformat_minor": 2
}

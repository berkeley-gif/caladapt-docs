{
 "cells": [
  {
   "cell_type": "markdown",
   "metadata": {
    "deletable": true,
    "editable": true
   },
   "source": [
    "# Working with Annual Averages in Cal-Adapt API"
   ]
  },
  {
   "cell_type": "code",
   "execution_count": 2,
   "metadata": {
    "collapsed": false,
    "deletable": true,
    "editable": true
   },
   "outputs": [],
   "source": [
    "import requests \n",
    "import json\n",
    "headers = {'ContentType': 'json'}\n",
    "\n",
    "api = 'http://api.cal-adapt.org/api'\n",
    "resource = 'series'"
   ]
  },
  {
   "cell_type": "markdown",
   "metadata": {
    "deletable": true,
    "editable": true
   },
   "source": [
    "### Get a list of annual timeseries from Cal-Adapt API for maximum temperature"
   ]
  },
  {
   "cell_type": "code",
   "execution_count": 3,
   "metadata": {
    "collapsed": false,
    "deletable": true,
    "editable": true
   },
   "outputs": [
    {
     "data": {
      "text/plain": [
       "'http://api.cal-adapt.org/api/series/?name=yearly+average+maximum+temperature&pagesize=100'"
      ]
     },
     "execution_count": 3,
     "metadata": {},
     "output_type": "execute_result"
    }
   ],
   "source": [
    "search_str = 'yearly+average+maximum+temperature'\n",
    "params = {'name': search_str, 'pagesize': 100}\n",
    "params_str = \"&\".join(\"%s=%s\" % (k,v) for k,v in params.items())\n",
    "url = api + '/' + resource + '/' + '?' + params_str\n",
    "url"
   ]
  },
  {
   "cell_type": "code",
   "execution_count": 4,
   "metadata": {
    "collapsed": false,
    "deletable": true,
    "editable": true,
    "scrolled": true
   },
   "outputs": [
    {
     "name": "stdout",
     "output_type": "stream",
     "text": [
      "yearly average maximum temperature ACCESS1-0 modeled historical\n",
      "yearly average maximum temperature ACCESS1-0 RCP 4.5\n",
      "yearly average maximum temperature ACCESS1-0 RCP 8.5\n",
      "yearly average maximum temperature CCSM4 modeled historical\n",
      "yearly average maximum temperature CCSM4 RCP 4.5\n",
      "yearly average maximum temperature CCSM4 RCP 8.5\n",
      "yearly average maximum temperature CESM1-BGC modeled historical\n",
      "yearly average maximum temperature CESM1-BGC RCP 4.5\n",
      "yearly average maximum temperature CESM1-BGC RCP 8.5\n",
      "yearly average maximum temperature CMCC-CMS modeled historical\n",
      "yearly average maximum temperature CMCC-CMS RCP 4.5\n",
      "yearly average maximum temperature CMCC-CMS RCP 8.5\n",
      "yearly average maximum temperature CNRM-CM5 modeled historical\n",
      "yearly average maximum temperature CNRM-CM5 RCP 4.5\n",
      "yearly average maximum temperature CNRM-CM5 RCP 8.5\n",
      "yearly average maximum temperature CanESM2 modeled historical\n",
      "yearly average maximum temperature CanESM2 RCP 4.5\n",
      "yearly average maximum temperature CanESM2 RCP 8.5\n",
      "yearly average maximum temperature GFDL-CM3 modeled historical\n",
      "yearly average maximum temperature GFDL-CM3 RCP 4.5\n",
      "yearly average maximum temperature GFDL-CM3 RCP 8.5\n",
      "yearly average maximum temperature HadGEM2-CC modeled historical\n",
      "yearly average maximum temperature HadGEM2-CC RCP 4.5\n",
      "yearly average maximum temperature HadGEM2-CC RCP 8.5\n",
      "yearly average maximum temperature HadGEM2-ES modeled historical\n",
      "yearly average maximum temperature HadGEM2-ES RCP 4.5\n",
      "yearly average maximum temperature HadGEM2-ES RCP 8.5\n",
      "yearly average maximum temperature MIROC5 modeled historical\n",
      "yearly average maximum temperature MIROC5 RCP 4.5\n",
      "yearly average maximum temperature MIROC5 RCP 8.5\n",
      "yearly average maximum temperature Livneh\n"
     ]
    }
   ],
   "source": [
    "timeseries = None\n",
    "response = requests.get(url, headers=headers)\n",
    "if response.status_code == requests.codes.ok:\n",
    "    data = response.json()\n",
    "    timeseries = data['results']\n",
    "    for item in timeseries:\n",
    "        print(item['name'])"
   ]
  },
  {
   "cell_type": "markdown",
   "metadata": {
    "deletable": true,
    "editable": true
   },
   "source": [
    "### Get url for model HadGEM2-ES and RCP 8.5"
   ]
  },
  {
   "cell_type": "code",
   "execution_count": 7,
   "metadata": {
    "collapsed": false,
    "deletable": true,
    "editable": true,
    "scrolled": true
   },
   "outputs": [
    {
     "data": {
      "text/plain": [
       "{'begin': '1950-01-01T00:00:00Z',\n",
       " 'end': '2013-01-01T00:00:00Z',\n",
       " 'name': 'yearly average maximum temperature Livneh',\n",
       " 'rasters': ['http://api.cal-adapt.org/api/rstores/tasmax_year_livneh_1950/',\n",
       "  'http://api.cal-adapt.org/api/rstores/tasmax_year_livneh_1951/',\n",
       "  'http://api.cal-adapt.org/api/rstores/tasmax_year_livneh_1952/',\n",
       "  'http://api.cal-adapt.org/api/rstores/tasmax_year_livneh_1953/',\n",
       "  'http://api.cal-adapt.org/api/rstores/tasmax_year_livneh_1954/',\n",
       "  'http://api.cal-adapt.org/api/rstores/tasmax_year_livneh_1955/',\n",
       "  'http://api.cal-adapt.org/api/rstores/tasmax_year_livneh_1956/',\n",
       "  'http://api.cal-adapt.org/api/rstores/tasmax_year_livneh_1957/',\n",
       "  'http://api.cal-adapt.org/api/rstores/tasmax_year_livneh_1958/',\n",
       "  'http://api.cal-adapt.org/api/rstores/tasmax_year_livneh_1959/',\n",
       "  'http://api.cal-adapt.org/api/rstores/tasmax_year_livneh_1960/',\n",
       "  'http://api.cal-adapt.org/api/rstores/tasmax_year_livneh_1961/',\n",
       "  'http://api.cal-adapt.org/api/rstores/tasmax_year_livneh_1962/',\n",
       "  'http://api.cal-adapt.org/api/rstores/tasmax_year_livneh_1963/',\n",
       "  'http://api.cal-adapt.org/api/rstores/tasmax_year_livneh_1964/',\n",
       "  'http://api.cal-adapt.org/api/rstores/tasmax_year_livneh_1965/',\n",
       "  'http://api.cal-adapt.org/api/rstores/tasmax_year_livneh_1966/',\n",
       "  'http://api.cal-adapt.org/api/rstores/tasmax_year_livneh_1967/',\n",
       "  'http://api.cal-adapt.org/api/rstores/tasmax_year_livneh_1968/',\n",
       "  'http://api.cal-adapt.org/api/rstores/tasmax_year_livneh_1969/',\n",
       "  'http://api.cal-adapt.org/api/rstores/tasmax_year_livneh_1970/',\n",
       "  'http://api.cal-adapt.org/api/rstores/tasmax_year_livneh_1971/',\n",
       "  'http://api.cal-adapt.org/api/rstores/tasmax_year_livneh_1972/',\n",
       "  'http://api.cal-adapt.org/api/rstores/tasmax_year_livneh_1973/',\n",
       "  'http://api.cal-adapt.org/api/rstores/tasmax_year_livneh_1974/',\n",
       "  'http://api.cal-adapt.org/api/rstores/tasmax_year_livneh_1975/',\n",
       "  'http://api.cal-adapt.org/api/rstores/tasmax_year_livneh_1976/',\n",
       "  'http://api.cal-adapt.org/api/rstores/tasmax_year_livneh_1977/',\n",
       "  'http://api.cal-adapt.org/api/rstores/tasmax_year_livneh_1978/',\n",
       "  'http://api.cal-adapt.org/api/rstores/tasmax_year_livneh_1979/',\n",
       "  'http://api.cal-adapt.org/api/rstores/tasmax_year_livneh_1980/',\n",
       "  'http://api.cal-adapt.org/api/rstores/tasmax_year_livneh_1981/',\n",
       "  'http://api.cal-adapt.org/api/rstores/tasmax_year_livneh_1982/',\n",
       "  'http://api.cal-adapt.org/api/rstores/tasmax_year_livneh_1983/',\n",
       "  'http://api.cal-adapt.org/api/rstores/tasmax_year_livneh_1984/',\n",
       "  'http://api.cal-adapt.org/api/rstores/tasmax_year_livneh_1985/',\n",
       "  'http://api.cal-adapt.org/api/rstores/tasmax_year_livneh_1986/',\n",
       "  'http://api.cal-adapt.org/api/rstores/tasmax_year_livneh_1987/',\n",
       "  'http://api.cal-adapt.org/api/rstores/tasmax_year_livneh_1988/',\n",
       "  'http://api.cal-adapt.org/api/rstores/tasmax_year_livneh_1989/',\n",
       "  'http://api.cal-adapt.org/api/rstores/tasmax_year_livneh_1990/',\n",
       "  'http://api.cal-adapt.org/api/rstores/tasmax_year_livneh_1991/',\n",
       "  'http://api.cal-adapt.org/api/rstores/tasmax_year_livneh_1992/',\n",
       "  'http://api.cal-adapt.org/api/rstores/tasmax_year_livneh_1993/',\n",
       "  'http://api.cal-adapt.org/api/rstores/tasmax_year_livneh_1994/',\n",
       "  'http://api.cal-adapt.org/api/rstores/tasmax_year_livneh_1995/',\n",
       "  'http://api.cal-adapt.org/api/rstores/tasmax_year_livneh_1996/',\n",
       "  'http://api.cal-adapt.org/api/rstores/tasmax_year_livneh_1997/',\n",
       "  'http://api.cal-adapt.org/api/rstores/tasmax_year_livneh_1998/',\n",
       "  'http://api.cal-adapt.org/api/rstores/tasmax_year_livneh_1999/',\n",
       "  'http://api.cal-adapt.org/api/rstores/tasmax_year_livneh_2000/',\n",
       "  'http://api.cal-adapt.org/api/rstores/tasmax_year_livneh_2001/',\n",
       "  'http://api.cal-adapt.org/api/rstores/tasmax_year_livneh_2002/',\n",
       "  'http://api.cal-adapt.org/api/rstores/tasmax_year_livneh_2003/',\n",
       "  'http://api.cal-adapt.org/api/rstores/tasmax_year_livneh_2004/',\n",
       "  'http://api.cal-adapt.org/api/rstores/tasmax_year_livneh_2005/',\n",
       "  'http://api.cal-adapt.org/api/rstores/tasmax_year_livneh_2006/',\n",
       "  'http://api.cal-adapt.org/api/rstores/tasmax_year_livneh_2007/',\n",
       "  'http://api.cal-adapt.org/api/rstores/tasmax_year_livneh_2008/',\n",
       "  'http://api.cal-adapt.org/api/rstores/tasmax_year_livneh_2009/',\n",
       "  'http://api.cal-adapt.org/api/rstores/tasmax_year_livneh_2010/',\n",
       "  'http://api.cal-adapt.org/api/rstores/tasmax_year_livneh_2011/',\n",
       "  'http://api.cal-adapt.org/api/rstores/tasmax_year_livneh_2012/',\n",
       "  'http://api.cal-adapt.org/api/rstores/tasmax_year_livneh_2013/'],\n",
       " 'slug': 'tasmax_year_livneh',\n",
       " 'tags': ['climate', 'tasmax', 'temperature'],\n",
       " 'url': 'http://api.cal-adapt.org/api/series/tasmax_year_livneh/'}"
      ]
     },
     "execution_count": 7,
     "metadata": {},
     "output_type": "execute_result"
    }
   ],
   "source": [
    "ts = [x for x in timeseries if (x['name'].find('Livneh') > -1)]\n",
    "model_ts = ts[0]\n",
    "model_ts"
   ]
  },
  {
   "cell_type": "markdown",
   "metadata": {
    "deletable": true,
    "editable": true
   },
   "source": [
    "### Setup parameters for requesting data"
   ]
  },
  {
   "cell_type": "code",
   "execution_count": 5,
   "metadata": {
    "collapsed": true,
    "deletable": true,
    "editable": true
   },
   "outputs": [],
   "source": [
    "# Period\n",
    "startYear = 1961\n",
    "endYear = 1990\n",
    "period = str(startYear) + '-01-01/' + str(endYear) + '-12-31'\n",
    "# Alternatively get complete timeseries and filter dates later on\n",
    "period = 'rasters'"
   ]
  },
  {
   "cell_type": "code",
   "execution_count": 6,
   "metadata": {
    "collapsed": true,
    "deletable": true,
    "editable": true
   },
   "outputs": [],
   "source": [
    "# Point location in geojson format\n",
    "lat = 38.5938\n",
    "lng = -121.4687\n",
    "point = '{\"type\":\"Point\",\"coordinates\":[' + str(lng) + ',' + str(lat) + ']}'"
   ]
  },
  {
   "cell_type": "code",
   "execution_count": 7,
   "metadata": {
    "collapsed": true,
    "deletable": true,
    "editable": true
   },
   "outputs": [],
   "source": [
    "# Pagesize - number of records returned, default is 10\n",
    "pagesize = 100"
   ]
  },
  {
   "cell_type": "code",
   "execution_count": 8,
   "metadata": {
    "collapsed": true,
    "deletable": true,
    "editable": true
   },
   "outputs": [],
   "source": [
    "params = {'pagesize': pagesize, 'g': point}\n",
    "params_str = \"&\".join(\"%s=%s\" % (k,v) for k,v in params.items())"
   ]
  },
  {
   "cell_type": "markdown",
   "metadata": {
    "deletable": true,
    "editable": true
   },
   "source": [
    "### Request annual averages for a timeseries and location"
   ]
  },
  {
   "cell_type": "code",
   "execution_count": 9,
   "metadata": {
    "collapsed": false,
    "deletable": true,
    "editable": true
   },
   "outputs": [
    {
     "name": "stdout",
     "output_type": "stream",
     "text": [
      "http://api.cal-adapt.org/api/series/tasmax_year_HadGEM2-ES_rcp85/rasters/?pagesize=100&g={\"type\":\"Point\",\"coordinates\":[-121.4687,38.5938]}\n",
      "[{'id': 12320, 'tileurl': 'http://api.cal-adapt.org/tiles/tasmax_year_HadGEM2-ES_rcp85_2006/{z}/{x}/{y}.png', 'url': 'http://api.cal-adapt.org/api/rstores/tasmax_year_HadGEM2-ES_rcp85_2006/', 'image': 297.0770568847656, 'width': 179, 'height': 195, 'geom': {'type': 'Polygon', 'coordinates': [[[-124.5625, 31.5625], [-113.375, 31.5625], [-113.375, 43.75], [-124.5625, 43.75], [-124.5625, 31.5625]]]}, 'event': '2006-01-01', 'srs': 'GEOGCS[\"WGS 84\",DATUM[\"WGS_1984\",SPHEROID[\"WGS 84\",6378137,298.257223563,AUTHORITY[\"EPSG\",\"7030\"]],AUTHORITY[\"EPSG\",\"6326\"]],PRIMEM[\"Greenwich\",0],UNIT[\"degree\",0.0174532925199433],AUTHORITY[\"EPSG\",\"4326\"]]', 'minval': 277.29461669921875, 'maxval': 306.6802673339844, 'nodata': 1.0000000150474662e+30, 'xpixsize': 0.0625, 'ypixsize': -0.0625, 'name': 'yearly average maximum temperature HadGEM2-ES RCP 8.5', 'slug': 'tasmax_year_HadGEM2-ES_rcp85_2006', 'units': 'K'}, {'id': 12321, 'tileurl': 'http://api.cal-adapt.org/tiles/tasmax_year_HadGEM2-ES_rcp85_2007/{z}/{x}/{y}.png', 'url': 'http://api.cal-adapt.org/api/rstores/tasmax_year_HadGEM2-ES_rcp85_2007/', 'image': 298.8393249511719, 'width': 179, 'height': 195, 'geom': {'type': 'Polygon', 'coordinates': [[[-124.5625, 31.5625], [-113.375, 31.5625], [-113.375, 43.75], [-124.5625, 43.75], [-124.5625, 31.5625]]]}, 'event': '2007-01-01', 'srs': 'GEOGCS[\"WGS 84\",DATUM[\"WGS_1984\",SPHEROID[\"WGS 84\",6378137,298.257223563,AUTHORITY[\"EPSG\",\"7030\"]],AUTHORITY[\"EPSG\",\"6326\"]],PRIMEM[\"Greenwich\",0],UNIT[\"degree\",0.0174532925199433],AUTHORITY[\"EPSG\",\"4326\"]]', 'minval': 279.4617614746094, 'maxval': 306.5152893066406, 'nodata': 1.0000000150474662e+30, 'xpixsize': 0.0625, 'ypixsize': -0.0625, 'name': 'yearly average maximum temperature HadGEM2-ES RCP 8.5', 'slug': 'tasmax_year_HadGEM2-ES_rcp85_2007', 'units': 'K'}, {'id': 12322, 'tileurl': 'http://api.cal-adapt.org/tiles/tasmax_year_HadGEM2-ES_rcp85_2008/{z}/{x}/{y}.png', 'url': 'http://api.cal-adapt.org/api/rstores/tasmax_year_HadGEM2-ES_rcp85_2008/', 'image': 297.4252624511719, 'width': 179, 'height': 195, 'geom': {'type': 'Polygon', 'coordinates': [[[-124.5625, 31.5625], [-113.375, 31.5625], [-113.375, 43.75], [-124.5625, 43.75], [-124.5625, 31.5625]]]}, 'event': '2008-01-01', 'srs': 'GEOGCS[\"WGS 84\",DATUM[\"WGS_1984\",SPHEROID[\"WGS 84\",6378137,298.257223563,AUTHORITY[\"EPSG\",\"7030\"]],AUTHORITY[\"EPSG\",\"6326\"]],PRIMEM[\"Greenwich\",0],UNIT[\"degree\",0.0174532925199433],AUTHORITY[\"EPSG\",\"4326\"]]', 'minval': 277.1359558105469, 'maxval': 306.3923034667969, 'nodata': 1.0000000150474662e+30, 'xpixsize': 0.0625, 'ypixsize': -0.0625, 'name': 'yearly average maximum temperature HadGEM2-ES RCP 8.5', 'slug': 'tasmax_year_HadGEM2-ES_rcp85_2008', 'units': 'K'}, {'id': 12323, 'tileurl': 'http://api.cal-adapt.org/tiles/tasmax_year_HadGEM2-ES_rcp85_2009/{z}/{x}/{y}.png', 'url': 'http://api.cal-adapt.org/api/rstores/tasmax_year_HadGEM2-ES_rcp85_2009/', 'image': 297.4148254394531, 'width': 179, 'height': 195, 'geom': {'type': 'Polygon', 'coordinates': [[[-124.5625, 31.5625], [-113.375, 31.5625], [-113.375, 43.75], [-124.5625, 43.75], [-124.5625, 31.5625]]]}, 'event': '2009-01-01', 'srs': 'GEOGCS[\"WGS 84\",DATUM[\"WGS_1984\",SPHEROID[\"WGS 84\",6378137,298.257223563,AUTHORITY[\"EPSG\",\"7030\"]],AUTHORITY[\"EPSG\",\"6326\"]],PRIMEM[\"Greenwich\",0],UNIT[\"degree\",0.0174532925199433],AUTHORITY[\"EPSG\",\"4326\"]]', 'minval': 277.8224182128906, 'maxval': 306.00103759765625, 'nodata': 1.0000000150474662e+30, 'xpixsize': 0.0625, 'ypixsize': -0.0625, 'name': 'yearly average maximum temperature HadGEM2-ES RCP 8.5', 'slug': 'tasmax_year_HadGEM2-ES_rcp85_2009', 'units': 'K'}, {'id': 12324, 'tileurl': 'http://api.cal-adapt.org/tiles/tasmax_year_HadGEM2-ES_rcp85_2010/{z}/{x}/{y}.png', 'url': 'http://api.cal-adapt.org/api/rstores/tasmax_year_HadGEM2-ES_rcp85_2010/', 'image': 296.6776428222656, 'width': 179, 'height': 195, 'geom': {'type': 'Polygon', 'coordinates': [[[-124.5625, 31.5625], [-113.375, 31.5625], [-113.375, 43.75], [-124.5625, 43.75], [-124.5625, 31.5625]]]}, 'event': '2010-01-01', 'srs': 'GEOGCS[\"WGS 84\",DATUM[\"WGS_1984\",SPHEROID[\"WGS 84\",6378137,298.257223563,AUTHORITY[\"EPSG\",\"7030\"]],AUTHORITY[\"EPSG\",\"6326\"]],PRIMEM[\"Greenwich\",0],UNIT[\"degree\",0.0174532925199433],AUTHORITY[\"EPSG\",\"4326\"]]', 'minval': 277.1539001464844, 'maxval': 305.3856506347656, 'nodata': 1.0000000150474662e+30, 'xpixsize': 0.0625, 'ypixsize': -0.0625, 'name': 'yearly average maximum temperature HadGEM2-ES RCP 8.5', 'slug': 'tasmax_year_HadGEM2-ES_rcp85_2010', 'units': 'K'}, {'id': 12325, 'tileurl': 'http://api.cal-adapt.org/tiles/tasmax_year_HadGEM2-ES_rcp85_2011/{z}/{x}/{y}.png', 'url': 'http://api.cal-adapt.org/api/rstores/tasmax_year_HadGEM2-ES_rcp85_2011/', 'image': 297.5523986816406, 'width': 179, 'height': 195, 'geom': {'type': 'Polygon', 'coordinates': [[[-124.5625, 31.5625], [-113.375, 31.5625], [-113.375, 43.75], [-124.5625, 43.75], [-124.5625, 31.5625]]]}, 'event': '2011-01-01', 'srs': 'GEOGCS[\"WGS 84\",DATUM[\"WGS_1984\",SPHEROID[\"WGS 84\",6378137,298.257223563,AUTHORITY[\"EPSG\",\"7030\"]],AUTHORITY[\"EPSG\",\"6326\"]],PRIMEM[\"Greenwich\",0],UNIT[\"degree\",0.0174532925199433],AUTHORITY[\"EPSG\",\"4326\"]]', 'minval': 277.8375244140625, 'maxval': 306.5774841308594, 'nodata': 1.0000000150474662e+30, 'xpixsize': 0.0625, 'ypixsize': -0.0625, 'name': 'yearly average maximum temperature HadGEM2-ES RCP 8.5', 'slug': 'tasmax_year_HadGEM2-ES_rcp85_2011', 'units': 'K'}, {'id': 12326, 'tileurl': 'http://api.cal-adapt.org/tiles/tasmax_year_HadGEM2-ES_rcp85_2012/{z}/{x}/{y}.png', 'url': 'http://api.cal-adapt.org/api/rstores/tasmax_year_HadGEM2-ES_rcp85_2012/', 'image': 298.17181396484375, 'width': 179, 'height': 195, 'geom': {'type': 'Polygon', 'coordinates': [[[-124.5625, 31.5625], [-113.375, 31.5625], [-113.375, 43.75], [-124.5625, 43.75], [-124.5625, 31.5625]]]}, 'event': '2012-01-01', 'srs': 'GEOGCS[\"WGS 84\",DATUM[\"WGS_1984\",SPHEROID[\"WGS 84\",6378137,298.257223563,AUTHORITY[\"EPSG\",\"7030\"]],AUTHORITY[\"EPSG\",\"6326\"]],PRIMEM[\"Greenwich\",0],UNIT[\"degree\",0.0174532925199433],AUTHORITY[\"EPSG\",\"4326\"]]', 'minval': 277.7983703613281, 'maxval': 308.5238952636719, 'nodata': 1.0000000150474662e+30, 'xpixsize': 0.0625, 'ypixsize': -0.0625, 'name': 'yearly average maximum temperature HadGEM2-ES RCP 8.5', 'slug': 'tasmax_year_HadGEM2-ES_rcp85_2012', 'units': 'K'}, {'id': 12327, 'tileurl': 'http://api.cal-adapt.org/tiles/tasmax_year_HadGEM2-ES_rcp85_2013/{z}/{x}/{y}.png', 'url': 'http://api.cal-adapt.org/api/rstores/tasmax_year_HadGEM2-ES_rcp85_2013/', 'image': 298.0115051269531, 'width': 179, 'height': 195, 'geom': {'type': 'Polygon', 'coordinates': [[[-124.5625, 31.5625], [-113.375, 31.5625], [-113.375, 43.75], [-124.5625, 43.75], [-124.5625, 31.5625]]]}, 'event': '2013-01-01', 'srs': 'GEOGCS[\"WGS 84\",DATUM[\"WGS_1984\",SPHEROID[\"WGS 84\",6378137,298.257223563,AUTHORITY[\"EPSG\",\"7030\"]],AUTHORITY[\"EPSG\",\"6326\"]],PRIMEM[\"Greenwich\",0],UNIT[\"degree\",0.0174532925199433],AUTHORITY[\"EPSG\",\"4326\"]]', 'minval': 278.1610107421875, 'maxval': 307.828125, 'nodata': 1.0000000150474662e+30, 'xpixsize': 0.0625, 'ypixsize': -0.0625, 'name': 'yearly average maximum temperature HadGEM2-ES RCP 8.5', 'slug': 'tasmax_year_HadGEM2-ES_rcp85_2013', 'units': 'K'}, {'id': 12328, 'tileurl': 'http://api.cal-adapt.org/tiles/tasmax_year_HadGEM2-ES_rcp85_2014/{z}/{x}/{y}.png', 'url': 'http://api.cal-adapt.org/api/rstores/tasmax_year_HadGEM2-ES_rcp85_2014/', 'image': 297.9910888671875, 'width': 179, 'height': 195, 'geom': {'type': 'Polygon', 'coordinates': [[[-124.5625, 31.5625], [-113.375, 31.5625], [-113.375, 43.75], [-124.5625, 43.75], [-124.5625, 31.5625]]]}, 'event': '2014-01-01', 'srs': 'GEOGCS[\"WGS 84\",DATUM[\"WGS_1984\",SPHEROID[\"WGS 84\",6378137,298.257223563,AUTHORITY[\"EPSG\",\"7030\"]],AUTHORITY[\"EPSG\",\"6326\"]],PRIMEM[\"Greenwich\",0],UNIT[\"degree\",0.0174532925199433],AUTHORITY[\"EPSG\",\"4326\"]]', 'minval': 277.98077392578125, 'maxval': 307.5710754394531, 'nodata': 1.0000000150474662e+30, 'xpixsize': 0.0625, 'ypixsize': -0.0625, 'name': 'yearly average maximum temperature HadGEM2-ES RCP 8.5', 'slug': 'tasmax_year_HadGEM2-ES_rcp85_2014', 'units': 'K'}, {'id': 12329, 'tileurl': 'http://api.cal-adapt.org/tiles/tasmax_year_HadGEM2-ES_rcp85_2015/{z}/{x}/{y}.png', 'url': 'http://api.cal-adapt.org/api/rstores/tasmax_year_HadGEM2-ES_rcp85_2015/', 'image': 296.99609375, 'width': 179, 'height': 195, 'geom': {'type': 'Polygon', 'coordinates': [[[-124.5625, 31.5625], [-113.375, 31.5625], [-113.375, 43.75], [-124.5625, 43.75], [-124.5625, 31.5625]]]}, 'event': '2015-01-01', 'srs': 'GEOGCS[\"WGS 84\",DATUM[\"WGS_1984\",SPHEROID[\"WGS 84\",6378137,298.257223563,AUTHORITY[\"EPSG\",\"7030\"]],AUTHORITY[\"EPSG\",\"6326\"]],PRIMEM[\"Greenwich\",0],UNIT[\"degree\",0.0174532925199433],AUTHORITY[\"EPSG\",\"4326\"]]', 'minval': 277.3817138671875, 'maxval': 305.7711486816406, 'nodata': 1.0000000150474662e+30, 'xpixsize': 0.0625, 'ypixsize': -0.0625, 'name': 'yearly average maximum temperature HadGEM2-ES RCP 8.5', 'slug': 'tasmax_year_HadGEM2-ES_rcp85_2015', 'units': 'K'}, {'id': 12330, 'tileurl': 'http://api.cal-adapt.org/tiles/tasmax_year_HadGEM2-ES_rcp85_2016/{z}/{x}/{y}.png', 'url': 'http://api.cal-adapt.org/api/rstores/tasmax_year_HadGEM2-ES_rcp85_2016/', 'image': 297.88983154296875, 'width': 179, 'height': 195, 'geom': {'type': 'Polygon', 'coordinates': [[[-124.5625, 31.5625], [-113.375, 31.5625], [-113.375, 43.75], [-124.5625, 43.75], [-124.5625, 31.5625]]]}, 'event': '2016-01-01', 'srs': 'GEOGCS[\"WGS 84\",DATUM[\"WGS_1984\",SPHEROID[\"WGS 84\",6378137,298.257223563,AUTHORITY[\"EPSG\",\"7030\"]],AUTHORITY[\"EPSG\",\"6326\"]],PRIMEM[\"Greenwich\",0],UNIT[\"degree\",0.0174532925199433],AUTHORITY[\"EPSG\",\"4326\"]]', 'minval': 277.9286804199219, 'maxval': 306.8661804199219, 'nodata': 1.0000000150474662e+30, 'xpixsize': 0.0625, 'ypixsize': -0.0625, 'name': 'yearly average maximum temperature HadGEM2-ES RCP 8.5', 'slug': 'tasmax_year_HadGEM2-ES_rcp85_2016', 'units': 'K'}, {'id': 12331, 'tileurl': 'http://api.cal-adapt.org/tiles/tasmax_year_HadGEM2-ES_rcp85_2017/{z}/{x}/{y}.png', 'url': 'http://api.cal-adapt.org/api/rstores/tasmax_year_HadGEM2-ES_rcp85_2017/', 'image': 298.2940979003906, 'width': 179, 'height': 195, 'geom': {'type': 'Polygon', 'coordinates': [[[-124.5625, 31.5625], [-113.375, 31.5625], [-113.375, 43.75], [-124.5625, 43.75], [-124.5625, 31.5625]]]}, 'event': '2017-01-01', 'srs': 'GEOGCS[\"WGS 84\",DATUM[\"WGS_1984\",SPHEROID[\"WGS 84\",6378137,298.257223563,AUTHORITY[\"EPSG\",\"7030\"]],AUTHORITY[\"EPSG\",\"6326\"]],PRIMEM[\"Greenwich\",0],UNIT[\"degree\",0.0174532925199433],AUTHORITY[\"EPSG\",\"4326\"]]', 'minval': 278.68902587890625, 'maxval': 306.60052490234375, 'nodata': 1.0000000150474662e+30, 'xpixsize': 0.0625, 'ypixsize': -0.0625, 'name': 'yearly average maximum temperature HadGEM2-ES RCP 8.5', 'slug': 'tasmax_year_HadGEM2-ES_rcp85_2017', 'units': 'K'}, {'id': 12332, 'tileurl': 'http://api.cal-adapt.org/tiles/tasmax_year_HadGEM2-ES_rcp85_2018/{z}/{x}/{y}.png', 'url': 'http://api.cal-adapt.org/api/rstores/tasmax_year_HadGEM2-ES_rcp85_2018/', 'image': 297.20330810546875, 'width': 179, 'height': 195, 'geom': {'type': 'Polygon', 'coordinates': [[[-124.5625, 31.5625], [-113.375, 31.5625], [-113.375, 43.75], [-124.5625, 43.75], [-124.5625, 31.5625]]]}, 'event': '2018-01-01', 'srs': 'GEOGCS[\"WGS 84\",DATUM[\"WGS_1984\",SPHEROID[\"WGS 84\",6378137,298.257223563,AUTHORITY[\"EPSG\",\"7030\"]],AUTHORITY[\"EPSG\",\"6326\"]],PRIMEM[\"Greenwich\",0],UNIT[\"degree\",0.0174532925199433],AUTHORITY[\"EPSG\",\"4326\"]]', 'minval': 277.908203125, 'maxval': 306.9542541503906, 'nodata': 1.0000000150474662e+30, 'xpixsize': 0.0625, 'ypixsize': -0.0625, 'name': 'yearly average maximum temperature HadGEM2-ES RCP 8.5', 'slug': 'tasmax_year_HadGEM2-ES_rcp85_2018', 'units': 'K'}, {'id': 12333, 'tileurl': 'http://api.cal-adapt.org/tiles/tasmax_year_HadGEM2-ES_rcp85_2019/{z}/{x}/{y}.png', 'url': 'http://api.cal-adapt.org/api/rstores/tasmax_year_HadGEM2-ES_rcp85_2019/', 'image': 298.09075927734375, 'width': 179, 'height': 195, 'geom': {'type': 'Polygon', 'coordinates': [[[-124.5625, 31.5625], [-113.375, 31.5625], [-113.375, 43.75], [-124.5625, 43.75], [-124.5625, 31.5625]]]}, 'event': '2019-01-01', 'srs': 'GEOGCS[\"WGS 84\",DATUM[\"WGS_1984\",SPHEROID[\"WGS 84\",6378137,298.257223563,AUTHORITY[\"EPSG\",\"7030\"]],AUTHORITY[\"EPSG\",\"6326\"]],PRIMEM[\"Greenwich\",0],UNIT[\"degree\",0.0174532925199433],AUTHORITY[\"EPSG\",\"4326\"]]', 'minval': 278.517822265625, 'maxval': 307.8184814453125, 'nodata': 1.0000000150474662e+30, 'xpixsize': 0.0625, 'ypixsize': -0.0625, 'name': 'yearly average maximum temperature HadGEM2-ES RCP 8.5', 'slug': 'tasmax_year_HadGEM2-ES_rcp85_2019', 'units': 'K'}, {'id': 12334, 'tileurl': 'http://api.cal-adapt.org/tiles/tasmax_year_HadGEM2-ES_rcp85_2020/{z}/{x}/{y}.png', 'url': 'http://api.cal-adapt.org/api/rstores/tasmax_year_HadGEM2-ES_rcp85_2020/', 'image': 299.2225341796875, 'width': 179, 'height': 195, 'geom': {'type': 'Polygon', 'coordinates': [[[-124.5625, 31.5625], [-113.375, 31.5625], [-113.375, 43.75], [-124.5625, 43.75], [-124.5625, 31.5625]]]}, 'event': '2020-01-01', 'srs': 'GEOGCS[\"WGS 84\",DATUM[\"WGS_1984\",SPHEROID[\"WGS 84\",6378137,298.257223563,AUTHORITY[\"EPSG\",\"7030\"]],AUTHORITY[\"EPSG\",\"6326\"]],PRIMEM[\"Greenwich\",0],UNIT[\"degree\",0.0174532925199433],AUTHORITY[\"EPSG\",\"4326\"]]', 'minval': 279.5223083496094, 'maxval': 308.37432861328125, 'nodata': 1.0000000150474662e+30, 'xpixsize': 0.0625, 'ypixsize': -0.0625, 'name': 'yearly average maximum temperature HadGEM2-ES RCP 8.5', 'slug': 'tasmax_year_HadGEM2-ES_rcp85_2020', 'units': 'K'}, {'id': 12335, 'tileurl': 'http://api.cal-adapt.org/tiles/tasmax_year_HadGEM2-ES_rcp85_2021/{z}/{x}/{y}.png', 'url': 'http://api.cal-adapt.org/api/rstores/tasmax_year_HadGEM2-ES_rcp85_2021/', 'image': 297.91497802734375, 'width': 179, 'height': 195, 'geom': {'type': 'Polygon', 'coordinates': [[[-124.5625, 31.5625], [-113.375, 31.5625], [-113.375, 43.75], [-124.5625, 43.75], [-124.5625, 31.5625]]]}, 'event': '2021-01-01', 'srs': 'GEOGCS[\"WGS 84\",DATUM[\"WGS_1984\",SPHEROID[\"WGS 84\",6378137,298.257223563,AUTHORITY[\"EPSG\",\"7030\"]],AUTHORITY[\"EPSG\",\"6326\"]],PRIMEM[\"Greenwich\",0],UNIT[\"degree\",0.0174532925199433],AUTHORITY[\"EPSG\",\"4326\"]]', 'minval': 278.16912841796875, 'maxval': 306.29766845703125, 'nodata': 1.0000000150474662e+30, 'xpixsize': 0.0625, 'ypixsize': -0.0625, 'name': 'yearly average maximum temperature HadGEM2-ES RCP 8.5', 'slug': 'tasmax_year_HadGEM2-ES_rcp85_2021', 'units': 'K'}, {'id': 12336, 'tileurl': 'http://api.cal-adapt.org/tiles/tasmax_year_HadGEM2-ES_rcp85_2022/{z}/{x}/{y}.png', 'url': 'http://api.cal-adapt.org/api/rstores/tasmax_year_HadGEM2-ES_rcp85_2022/', 'image': 299.7674865722656, 'width': 179, 'height': 195, 'geom': {'type': 'Polygon', 'coordinates': [[[-124.5625, 31.5625], [-113.375, 31.5625], [-113.375, 43.75], [-124.5625, 43.75], [-124.5625, 31.5625]]]}, 'event': '2022-01-01', 'srs': 'GEOGCS[\"WGS 84\",DATUM[\"WGS_1984\",SPHEROID[\"WGS 84\",6378137,298.257223563,AUTHORITY[\"EPSG\",\"7030\"]],AUTHORITY[\"EPSG\",\"6326\"]],PRIMEM[\"Greenwich\",0],UNIT[\"degree\",0.0174532925199433],AUTHORITY[\"EPSG\",\"4326\"]]', 'minval': 279.7778625488281, 'maxval': 308.180908203125, 'nodata': 1.0000000150474662e+30, 'xpixsize': 0.0625, 'ypixsize': -0.0625, 'name': 'yearly average maximum temperature HadGEM2-ES RCP 8.5', 'slug': 'tasmax_year_HadGEM2-ES_rcp85_2022', 'units': 'K'}, {'id': 12337, 'tileurl': 'http://api.cal-adapt.org/tiles/tasmax_year_HadGEM2-ES_rcp85_2023/{z}/{x}/{y}.png', 'url': 'http://api.cal-adapt.org/api/rstores/tasmax_year_HadGEM2-ES_rcp85_2023/', 'image': 298.9476623535156, 'width': 179, 'height': 195, 'geom': {'type': 'Polygon', 'coordinates': [[[-124.5625, 31.5625], [-113.375, 31.5625], [-113.375, 43.75], [-124.5625, 43.75], [-124.5625, 31.5625]]]}, 'event': '2023-01-01', 'srs': 'GEOGCS[\"WGS 84\",DATUM[\"WGS_1984\",SPHEROID[\"WGS 84\",6378137,298.257223563,AUTHORITY[\"EPSG\",\"7030\"]],AUTHORITY[\"EPSG\",\"6326\"]],PRIMEM[\"Greenwich\",0],UNIT[\"degree\",0.0174532925199433],AUTHORITY[\"EPSG\",\"4326\"]]', 'minval': 279.236083984375, 'maxval': 307.4947204589844, 'nodata': 1.0000000150474662e+30, 'xpixsize': 0.0625, 'ypixsize': -0.0625, 'name': 'yearly average maximum temperature HadGEM2-ES RCP 8.5', 'slug': 'tasmax_year_HadGEM2-ES_rcp85_2023', 'units': 'K'}, {'id': 12338, 'tileurl': 'http://api.cal-adapt.org/tiles/tasmax_year_HadGEM2-ES_rcp85_2024/{z}/{x}/{y}.png', 'url': 'http://api.cal-adapt.org/api/rstores/tasmax_year_HadGEM2-ES_rcp85_2024/', 'image': 298.179931640625, 'width': 179, 'height': 195, 'geom': {'type': 'Polygon', 'coordinates': [[[-124.5625, 31.5625], [-113.375, 31.5625], [-113.375, 43.75], [-124.5625, 43.75], [-124.5625, 31.5625]]]}, 'event': '2024-01-01', 'srs': 'GEOGCS[\"WGS 84\",DATUM[\"WGS_1984\",SPHEROID[\"WGS 84\",6378137,298.257223563,AUTHORITY[\"EPSG\",\"7030\"]],AUTHORITY[\"EPSG\",\"6326\"]],PRIMEM[\"Greenwich\",0],UNIT[\"degree\",0.0174532925199433],AUTHORITY[\"EPSG\",\"4326\"]]', 'minval': 278.8973083496094, 'maxval': 307.26605224609375, 'nodata': 1.0000000150474662e+30, 'xpixsize': 0.0625, 'ypixsize': -0.0625, 'name': 'yearly average maximum temperature HadGEM2-ES RCP 8.5', 'slug': 'tasmax_year_HadGEM2-ES_rcp85_2024', 'units': 'K'}, {'id': 12339, 'tileurl': 'http://api.cal-adapt.org/tiles/tasmax_year_HadGEM2-ES_rcp85_2025/{z}/{x}/{y}.png', 'url': 'http://api.cal-adapt.org/api/rstores/tasmax_year_HadGEM2-ES_rcp85_2025/', 'image': 298.59735107421875, 'width': 179, 'height': 195, 'geom': {'type': 'Polygon', 'coordinates': [[[-124.5625, 31.5625], [-113.375, 31.5625], [-113.375, 43.75], [-124.5625, 43.75], [-124.5625, 31.5625]]]}, 'event': '2025-01-01', 'srs': 'GEOGCS[\"WGS 84\",DATUM[\"WGS_1984\",SPHEROID[\"WGS 84\",6378137,298.257223563,AUTHORITY[\"EPSG\",\"7030\"]],AUTHORITY[\"EPSG\",\"6326\"]],PRIMEM[\"Greenwich\",0],UNIT[\"degree\",0.0174532925199433],AUTHORITY[\"EPSG\",\"4326\"]]', 'minval': 278.7230224609375, 'maxval': 307.84906005859375, 'nodata': 1.0000000150474662e+30, 'xpixsize': 0.0625, 'ypixsize': -0.0625, 'name': 'yearly average maximum temperature HadGEM2-ES RCP 8.5', 'slug': 'tasmax_year_HadGEM2-ES_rcp85_2025', 'units': 'K'}, {'id': 12340, 'tileurl': 'http://api.cal-adapt.org/tiles/tasmax_year_HadGEM2-ES_rcp85_2026/{z}/{x}/{y}.png', 'url': 'http://api.cal-adapt.org/api/rstores/tasmax_year_HadGEM2-ES_rcp85_2026/', 'image': 298.8981628417969, 'width': 179, 'height': 195, 'geom': {'type': 'Polygon', 'coordinates': [[[-124.5625, 31.5625], [-113.375, 31.5625], [-113.375, 43.75], [-124.5625, 43.75], [-124.5625, 31.5625]]]}, 'event': '2026-01-01', 'srs': 'GEOGCS[\"WGS 84\",DATUM[\"WGS_1984\",SPHEROID[\"WGS 84\",6378137,298.257223563,AUTHORITY[\"EPSG\",\"7030\"]],AUTHORITY[\"EPSG\",\"6326\"]],PRIMEM[\"Greenwich\",0],UNIT[\"degree\",0.0174532925199433],AUTHORITY[\"EPSG\",\"4326\"]]', 'minval': 279.27923583984375, 'maxval': 307.536865234375, 'nodata': 1.0000000150474662e+30, 'xpixsize': 0.0625, 'ypixsize': -0.0625, 'name': 'yearly average maximum temperature HadGEM2-ES RCP 8.5', 'slug': 'tasmax_year_HadGEM2-ES_rcp85_2026', 'units': 'K'}, {'id': 12341, 'tileurl': 'http://api.cal-adapt.org/tiles/tasmax_year_HadGEM2-ES_rcp85_2027/{z}/{x}/{y}.png', 'url': 'http://api.cal-adapt.org/api/rstores/tasmax_year_HadGEM2-ES_rcp85_2027/', 'image': 298.2749938964844, 'width': 179, 'height': 195, 'geom': {'type': 'Polygon', 'coordinates': [[[-124.5625, 31.5625], [-113.375, 31.5625], [-113.375, 43.75], [-124.5625, 43.75], [-124.5625, 31.5625]]]}, 'event': '2027-01-01', 'srs': 'GEOGCS[\"WGS 84\",DATUM[\"WGS_1984\",SPHEROID[\"WGS 84\",6378137,298.257223563,AUTHORITY[\"EPSG\",\"7030\"]],AUTHORITY[\"EPSG\",\"6326\"]],PRIMEM[\"Greenwich\",0],UNIT[\"degree\",0.0174532925199433],AUTHORITY[\"EPSG\",\"4326\"]]', 'minval': 278.8616027832031, 'maxval': 307.6346130371094, 'nodata': 1.0000000150474662e+30, 'xpixsize': 0.0625, 'ypixsize': -0.0625, 'name': 'yearly average maximum temperature HadGEM2-ES RCP 8.5', 'slug': 'tasmax_year_HadGEM2-ES_rcp85_2027', 'units': 'K'}, {'id': 12342, 'tileurl': 'http://api.cal-adapt.org/tiles/tasmax_year_HadGEM2-ES_rcp85_2028/{z}/{x}/{y}.png', 'url': 'http://api.cal-adapt.org/api/rstores/tasmax_year_HadGEM2-ES_rcp85_2028/', 'image': 299.03448486328125, 'width': 179, 'height': 195, 'geom': {'type': 'Polygon', 'coordinates': [[[-124.5625, 31.5625], [-113.375, 31.5625], [-113.375, 43.75], [-124.5625, 43.75], [-124.5625, 31.5625]]]}, 'event': '2028-01-01', 'srs': 'GEOGCS[\"WGS 84\",DATUM[\"WGS_1984\",SPHEROID[\"WGS 84\",6378137,298.257223563,AUTHORITY[\"EPSG\",\"7030\"]],AUTHORITY[\"EPSG\",\"6326\"]],PRIMEM[\"Greenwich\",0],UNIT[\"degree\",0.0174532925199433],AUTHORITY[\"EPSG\",\"4326\"]]', 'minval': 279.0320739746094, 'maxval': 307.3746337890625, 'nodata': 1.0000000150474662e+30, 'xpixsize': 0.0625, 'ypixsize': -0.0625, 'name': 'yearly average maximum temperature HadGEM2-ES RCP 8.5', 'slug': 'tasmax_year_HadGEM2-ES_rcp85_2028', 'units': 'K'}, {'id': 12343, 'tileurl': 'http://api.cal-adapt.org/tiles/tasmax_year_HadGEM2-ES_rcp85_2029/{z}/{x}/{y}.png', 'url': 'http://api.cal-adapt.org/api/rstores/tasmax_year_HadGEM2-ES_rcp85_2029/', 'image': 298.6297912597656, 'width': 179, 'height': 195, 'geom': {'type': 'Polygon', 'coordinates': [[[-124.5625, 31.5625], [-113.375, 31.5625], [-113.375, 43.75], [-124.5625, 43.75], [-124.5625, 31.5625]]]}, 'event': '2029-01-01', 'srs': 'GEOGCS[\"WGS 84\",DATUM[\"WGS_1984\",SPHEROID[\"WGS 84\",6378137,298.257223563,AUTHORITY[\"EPSG\",\"7030\"]],AUTHORITY[\"EPSG\",\"6326\"]],PRIMEM[\"Greenwich\",0],UNIT[\"degree\",0.0174532925199433],AUTHORITY[\"EPSG\",\"4326\"]]', 'minval': 279.3484802246094, 'maxval': 307.46722412109375, 'nodata': 1.0000000150474662e+30, 'xpixsize': 0.0625, 'ypixsize': -0.0625, 'name': 'yearly average maximum temperature HadGEM2-ES RCP 8.5', 'slug': 'tasmax_year_HadGEM2-ES_rcp85_2029', 'units': 'K'}, {'id': 12344, 'tileurl': 'http://api.cal-adapt.org/tiles/tasmax_year_HadGEM2-ES_rcp85_2030/{z}/{x}/{y}.png', 'url': 'http://api.cal-adapt.org/api/rstores/tasmax_year_HadGEM2-ES_rcp85_2030/', 'image': 297.803955078125, 'width': 179, 'height': 195, 'geom': {'type': 'Polygon', 'coordinates': [[[-124.5625, 31.5625], [-113.375, 31.5625], [-113.375, 43.75], [-124.5625, 43.75], [-124.5625, 31.5625]]]}, 'event': '2030-01-01', 'srs': 'GEOGCS[\"WGS 84\",DATUM[\"WGS_1984\",SPHEROID[\"WGS 84\",6378137,298.257223563,AUTHORITY[\"EPSG\",\"7030\"]],AUTHORITY[\"EPSG\",\"6326\"]],PRIMEM[\"Greenwich\",0],UNIT[\"degree\",0.0174532925199433],AUTHORITY[\"EPSG\",\"4326\"]]', 'minval': 278.46337890625, 'maxval': 307.27484130859375, 'nodata': 1.0000000150474662e+30, 'xpixsize': 0.0625, 'ypixsize': -0.0625, 'name': 'yearly average maximum temperature HadGEM2-ES RCP 8.5', 'slug': 'tasmax_year_HadGEM2-ES_rcp85_2030', 'units': 'K'}, {'id': 12345, 'tileurl': 'http://api.cal-adapt.org/tiles/tasmax_year_HadGEM2-ES_rcp85_2031/{z}/{x}/{y}.png', 'url': 'http://api.cal-adapt.org/api/rstores/tasmax_year_HadGEM2-ES_rcp85_2031/', 'image': 298.1686706542969, 'width': 179, 'height': 195, 'geom': {'type': 'Polygon', 'coordinates': [[[-124.5625, 31.5625], [-113.375, 31.5625], [-113.375, 43.75], [-124.5625, 43.75], [-124.5625, 31.5625]]]}, 'event': '2031-01-01', 'srs': 'GEOGCS[\"WGS 84\",DATUM[\"WGS_1984\",SPHEROID[\"WGS 84\",6378137,298.257223563,AUTHORITY[\"EPSG\",\"7030\"]],AUTHORITY[\"EPSG\",\"6326\"]],PRIMEM[\"Greenwich\",0],UNIT[\"degree\",0.0174532925199433],AUTHORITY[\"EPSG\",\"4326\"]]', 'minval': 278.8832092285156, 'maxval': 307.7109375, 'nodata': 1.0000000150474662e+30, 'xpixsize': 0.0625, 'ypixsize': -0.0625, 'name': 'yearly average maximum temperature HadGEM2-ES RCP 8.5', 'slug': 'tasmax_year_HadGEM2-ES_rcp85_2031', 'units': 'K'}, {'id': 12346, 'tileurl': 'http://api.cal-adapt.org/tiles/tasmax_year_HadGEM2-ES_rcp85_2032/{z}/{x}/{y}.png', 'url': 'http://api.cal-adapt.org/api/rstores/tasmax_year_HadGEM2-ES_rcp85_2032/', 'image': 299.4602966308594, 'width': 179, 'height': 195, 'geom': {'type': 'Polygon', 'coordinates': [[[-124.5625, 31.5625], [-113.375, 31.5625], [-113.375, 43.75], [-124.5625, 43.75], [-124.5625, 31.5625]]]}, 'event': '2032-01-01', 'srs': 'GEOGCS[\"WGS 84\",DATUM[\"WGS_1984\",SPHEROID[\"WGS 84\",6378137,298.257223563,AUTHORITY[\"EPSG\",\"7030\"]],AUTHORITY[\"EPSG\",\"6326\"]],PRIMEM[\"Greenwich\",0],UNIT[\"degree\",0.0174532925199433],AUTHORITY[\"EPSG\",\"4326\"]]', 'minval': 279.548583984375, 'maxval': 308.4211730957031, 'nodata': 1.0000000150474662e+30, 'xpixsize': 0.0625, 'ypixsize': -0.0625, 'name': 'yearly average maximum temperature HadGEM2-ES RCP 8.5', 'slug': 'tasmax_year_HadGEM2-ES_rcp85_2032', 'units': 'K'}, {'id': 12347, 'tileurl': 'http://api.cal-adapt.org/tiles/tasmax_year_HadGEM2-ES_rcp85_2033/{z}/{x}/{y}.png', 'url': 'http://api.cal-adapt.org/api/rstores/tasmax_year_HadGEM2-ES_rcp85_2033/', 'image': 298.55194091796875, 'width': 179, 'height': 195, 'geom': {'type': 'Polygon', 'coordinates': [[[-124.5625, 31.5625], [-113.375, 31.5625], [-113.375, 43.75], [-124.5625, 43.75], [-124.5625, 31.5625]]]}, 'event': '2033-01-01', 'srs': 'GEOGCS[\"WGS 84\",DATUM[\"WGS_1984\",SPHEROID[\"WGS 84\",6378137,298.257223563,AUTHORITY[\"EPSG\",\"7030\"]],AUTHORITY[\"EPSG\",\"6326\"]],PRIMEM[\"Greenwich\",0],UNIT[\"degree\",0.0174532925199433],AUTHORITY[\"EPSG\",\"4326\"]]', 'minval': 279.0813903808594, 'maxval': 306.917236328125, 'nodata': 1.0000000150474662e+30, 'xpixsize': 0.0625, 'ypixsize': -0.0625, 'name': 'yearly average maximum temperature HadGEM2-ES RCP 8.5', 'slug': 'tasmax_year_HadGEM2-ES_rcp85_2033', 'units': 'K'}, {'id': 12348, 'tileurl': 'http://api.cal-adapt.org/tiles/tasmax_year_HadGEM2-ES_rcp85_2034/{z}/{x}/{y}.png', 'url': 'http://api.cal-adapt.org/api/rstores/tasmax_year_HadGEM2-ES_rcp85_2034/', 'image': 299.9203186035156, 'width': 179, 'height': 195, 'geom': {'type': 'Polygon', 'coordinates': [[[-124.5625, 31.5625], [-113.375, 31.5625], [-113.375, 43.75], [-124.5625, 43.75], [-124.5625, 31.5625]]]}, 'event': '2034-01-01', 'srs': 'GEOGCS[\"WGS 84\",DATUM[\"WGS_1984\",SPHEROID[\"WGS 84\",6378137,298.257223563,AUTHORITY[\"EPSG\",\"7030\"]],AUTHORITY[\"EPSG\",\"6326\"]],PRIMEM[\"Greenwich\",0],UNIT[\"degree\",0.0174532925199433],AUTHORITY[\"EPSG\",\"4326\"]]', 'minval': 280.2454833984375, 'maxval': 308.8205261230469, 'nodata': 1.0000000150474662e+30, 'xpixsize': 0.0625, 'ypixsize': -0.0625, 'name': 'yearly average maximum temperature HadGEM2-ES RCP 8.5', 'slug': 'tasmax_year_HadGEM2-ES_rcp85_2034', 'units': 'K'}, {'id': 12349, 'tileurl': 'http://api.cal-adapt.org/tiles/tasmax_year_HadGEM2-ES_rcp85_2035/{z}/{x}/{y}.png', 'url': 'http://api.cal-adapt.org/api/rstores/tasmax_year_HadGEM2-ES_rcp85_2035/', 'image': 299.1899108886719, 'width': 179, 'height': 195, 'geom': {'type': 'Polygon', 'coordinates': [[[-124.5625, 31.5625], [-113.375, 31.5625], [-113.375, 43.75], [-124.5625, 43.75], [-124.5625, 31.5625]]]}, 'event': '2035-01-01', 'srs': 'GEOGCS[\"WGS 84\",DATUM[\"WGS_1984\",SPHEROID[\"WGS 84\",6378137,298.257223563,AUTHORITY[\"EPSG\",\"7030\"]],AUTHORITY[\"EPSG\",\"6326\"]],PRIMEM[\"Greenwich\",0],UNIT[\"degree\",0.0174532925199433],AUTHORITY[\"EPSG\",\"4326\"]]', 'minval': 278.7130126953125, 'maxval': 308.11785888671875, 'nodata': 1.0000000150474662e+30, 'xpixsize': 0.0625, 'ypixsize': -0.0625, 'name': 'yearly average maximum temperature HadGEM2-ES RCP 8.5', 'slug': 'tasmax_year_HadGEM2-ES_rcp85_2035', 'units': 'K'}, {'id': 12350, 'tileurl': 'http://api.cal-adapt.org/tiles/tasmax_year_HadGEM2-ES_rcp85_2036/{z}/{x}/{y}.png', 'url': 'http://api.cal-adapt.org/api/rstores/tasmax_year_HadGEM2-ES_rcp85_2036/', 'image': 297.6436767578125, 'width': 179, 'height': 195, 'geom': {'type': 'Polygon', 'coordinates': [[[-124.5625, 31.5625], [-113.375, 31.5625], [-113.375, 43.75], [-124.5625, 43.75], [-124.5625, 31.5625]]]}, 'event': '2036-01-01', 'srs': 'GEOGCS[\"WGS 84\",DATUM[\"WGS_1984\",SPHEROID[\"WGS 84\",6378137,298.257223563,AUTHORITY[\"EPSG\",\"7030\"]],AUTHORITY[\"EPSG\",\"6326\"]],PRIMEM[\"Greenwich\",0],UNIT[\"degree\",0.0174532925199433],AUTHORITY[\"EPSG\",\"4326\"]]', 'minval': 278.1074523925781, 'maxval': 306.87847900390625, 'nodata': 1.0000000150474662e+30, 'xpixsize': 0.0625, 'ypixsize': -0.0625, 'name': 'yearly average maximum temperature HadGEM2-ES RCP 8.5', 'slug': 'tasmax_year_HadGEM2-ES_rcp85_2036', 'units': 'K'}, {'id': 12351, 'tileurl': 'http://api.cal-adapt.org/tiles/tasmax_year_HadGEM2-ES_rcp85_2037/{z}/{x}/{y}.png', 'url': 'http://api.cal-adapt.org/api/rstores/tasmax_year_HadGEM2-ES_rcp85_2037/', 'image': 299.27923583984375, 'width': 179, 'height': 195, 'geom': {'type': 'Polygon', 'coordinates': [[[-124.5625, 31.5625], [-113.375, 31.5625], [-113.375, 43.75], [-124.5625, 43.75], [-124.5625, 31.5625]]]}, 'event': '2037-01-01', 'srs': 'GEOGCS[\"WGS 84\",DATUM[\"WGS_1984\",SPHEROID[\"WGS 84\",6378137,298.257223563,AUTHORITY[\"EPSG\",\"7030\"]],AUTHORITY[\"EPSG\",\"6326\"]],PRIMEM[\"Greenwich\",0],UNIT[\"degree\",0.0174532925199433],AUTHORITY[\"EPSG\",\"4326\"]]', 'minval': 279.59210205078125, 'maxval': 308.5275573730469, 'nodata': 1.0000000150474662e+30, 'xpixsize': 0.0625, 'ypixsize': -0.0625, 'name': 'yearly average maximum temperature HadGEM2-ES RCP 8.5', 'slug': 'tasmax_year_HadGEM2-ES_rcp85_2037', 'units': 'K'}, {'id': 12352, 'tileurl': 'http://api.cal-adapt.org/tiles/tasmax_year_HadGEM2-ES_rcp85_2038/{z}/{x}/{y}.png', 'url': 'http://api.cal-adapt.org/api/rstores/tasmax_year_HadGEM2-ES_rcp85_2038/', 'image': 299.09857177734375, 'width': 179, 'height': 195, 'geom': {'type': 'Polygon', 'coordinates': [[[-124.5625, 31.5625], [-113.375, 31.5625], [-113.375, 43.75], [-124.5625, 43.75], [-124.5625, 31.5625]]]}, 'event': '2038-01-01', 'srs': 'GEOGCS[\"WGS 84\",DATUM[\"WGS_1984\",SPHEROID[\"WGS 84\",6378137,298.257223563,AUTHORITY[\"EPSG\",\"7030\"]],AUTHORITY[\"EPSG\",\"6326\"]],PRIMEM[\"Greenwich\",0],UNIT[\"degree\",0.0174532925199433],AUTHORITY[\"EPSG\",\"4326\"]]', 'minval': 279.5399169921875, 'maxval': 308.4547119140625, 'nodata': 1.0000000150474662e+30, 'xpixsize': 0.0625, 'ypixsize': -0.0625, 'name': 'yearly average maximum temperature HadGEM2-ES RCP 8.5', 'slug': 'tasmax_year_HadGEM2-ES_rcp85_2038', 'units': 'K'}, {'id': 12353, 'tileurl': 'http://api.cal-adapt.org/tiles/tasmax_year_HadGEM2-ES_rcp85_2039/{z}/{x}/{y}.png', 'url': 'http://api.cal-adapt.org/api/rstores/tasmax_year_HadGEM2-ES_rcp85_2039/', 'image': 299.298828125, 'width': 179, 'height': 195, 'geom': {'type': 'Polygon', 'coordinates': [[[-124.5625, 31.5625], [-113.375, 31.5625], [-113.375, 43.75], [-124.5625, 43.75], [-124.5625, 31.5625]]]}, 'event': '2039-01-01', 'srs': 'GEOGCS[\"WGS 84\",DATUM[\"WGS_1984\",SPHEROID[\"WGS 84\",6378137,298.257223563,AUTHORITY[\"EPSG\",\"7030\"]],AUTHORITY[\"EPSG\",\"6326\"]],PRIMEM[\"Greenwich\",0],UNIT[\"degree\",0.0174532925199433],AUTHORITY[\"EPSG\",\"4326\"]]', 'minval': 279.5029296875, 'maxval': 307.7248840332031, 'nodata': 1.0000000150474662e+30, 'xpixsize': 0.0625, 'ypixsize': -0.0625, 'name': 'yearly average maximum temperature HadGEM2-ES RCP 8.5', 'slug': 'tasmax_year_HadGEM2-ES_rcp85_2039', 'units': 'K'}, {'id': 12354, 'tileurl': 'http://api.cal-adapt.org/tiles/tasmax_year_HadGEM2-ES_rcp85_2040/{z}/{x}/{y}.png', 'url': 'http://api.cal-adapt.org/api/rstores/tasmax_year_HadGEM2-ES_rcp85_2040/', 'image': 298.3222351074219, 'width': 179, 'height': 195, 'geom': {'type': 'Polygon', 'coordinates': [[[-124.5625, 31.5625], [-113.375, 31.5625], [-113.375, 43.75], [-124.5625, 43.75], [-124.5625, 31.5625]]]}, 'event': '2040-01-01', 'srs': 'GEOGCS[\"WGS 84\",DATUM[\"WGS_1984\",SPHEROID[\"WGS 84\",6378137,298.257223563,AUTHORITY[\"EPSG\",\"7030\"]],AUTHORITY[\"EPSG\",\"6326\"]],PRIMEM[\"Greenwich\",0],UNIT[\"degree\",0.0174532925199433],AUTHORITY[\"EPSG\",\"4326\"]]', 'minval': 278.7469787597656, 'maxval': 308.0447998046875, 'nodata': 1.0000000150474662e+30, 'xpixsize': 0.0625, 'ypixsize': -0.0625, 'name': 'yearly average maximum temperature HadGEM2-ES RCP 8.5', 'slug': 'tasmax_year_HadGEM2-ES_rcp85_2040', 'units': 'K'}, {'id': 12355, 'tileurl': 'http://api.cal-adapt.org/tiles/tasmax_year_HadGEM2-ES_rcp85_2041/{z}/{x}/{y}.png', 'url': 'http://api.cal-adapt.org/api/rstores/tasmax_year_HadGEM2-ES_rcp85_2041/', 'image': 298.65545654296875, 'width': 179, 'height': 195, 'geom': {'type': 'Polygon', 'coordinates': [[[-124.5625, 31.5625], [-113.375, 31.5625], [-113.375, 43.75], [-124.5625, 43.75], [-124.5625, 31.5625]]]}, 'event': '2041-01-01', 'srs': 'GEOGCS[\"WGS 84\",DATUM[\"WGS_1984\",SPHEROID[\"WGS 84\",6378137,298.257223563,AUTHORITY[\"EPSG\",\"7030\"]],AUTHORITY[\"EPSG\",\"6326\"]],PRIMEM[\"Greenwich\",0],UNIT[\"degree\",0.0174532925199433],AUTHORITY[\"EPSG\",\"4326\"]]', 'minval': 279.0355529785156, 'maxval': 308.40240478515625, 'nodata': 1.0000000150474662e+30, 'xpixsize': 0.0625, 'ypixsize': -0.0625, 'name': 'yearly average maximum temperature HadGEM2-ES RCP 8.5', 'slug': 'tasmax_year_HadGEM2-ES_rcp85_2041', 'units': 'K'}, {'id': 12356, 'tileurl': 'http://api.cal-adapt.org/tiles/tasmax_year_HadGEM2-ES_rcp85_2042/{z}/{x}/{y}.png', 'url': 'http://api.cal-adapt.org/api/rstores/tasmax_year_HadGEM2-ES_rcp85_2042/', 'image': 299.16363525390625, 'width': 179, 'height': 195, 'geom': {'type': 'Polygon', 'coordinates': [[[-124.5625, 31.5625], [-113.375, 31.5625], [-113.375, 43.75], [-124.5625, 43.75], [-124.5625, 31.5625]]]}, 'event': '2042-01-01', 'srs': 'GEOGCS[\"WGS 84\",DATUM[\"WGS_1984\",SPHEROID[\"WGS 84\",6378137,298.257223563,AUTHORITY[\"EPSG\",\"7030\"]],AUTHORITY[\"EPSG\",\"6326\"]],PRIMEM[\"Greenwich\",0],UNIT[\"degree\",0.0174532925199433],AUTHORITY[\"EPSG\",\"4326\"]]', 'minval': 279.2540283203125, 'maxval': 308.7565002441406, 'nodata': 1.0000000150474662e+30, 'xpixsize': 0.0625, 'ypixsize': -0.0625, 'name': 'yearly average maximum temperature HadGEM2-ES RCP 8.5', 'slug': 'tasmax_year_HadGEM2-ES_rcp85_2042', 'units': 'K'}, {'id': 12357, 'tileurl': 'http://api.cal-adapt.org/tiles/tasmax_year_HadGEM2-ES_rcp85_2043/{z}/{x}/{y}.png', 'url': 'http://api.cal-adapt.org/api/rstores/tasmax_year_HadGEM2-ES_rcp85_2043/', 'image': 299.7923889160156, 'width': 179, 'height': 195, 'geom': {'type': 'Polygon', 'coordinates': [[[-124.5625, 31.5625], [-113.375, 31.5625], [-113.375, 43.75], [-124.5625, 43.75], [-124.5625, 31.5625]]]}, 'event': '2043-01-01', 'srs': 'GEOGCS[\"WGS 84\",DATUM[\"WGS_1984\",SPHEROID[\"WGS 84\",6378137,298.257223563,AUTHORITY[\"EPSG\",\"7030\"]],AUTHORITY[\"EPSG\",\"6326\"]],PRIMEM[\"Greenwich\",0],UNIT[\"degree\",0.0174532925199433],AUTHORITY[\"EPSG\",\"4326\"]]', 'minval': 279.52435302734375, 'maxval': 308.55322265625, 'nodata': 1.0000000150474662e+30, 'xpixsize': 0.0625, 'ypixsize': -0.0625, 'name': 'yearly average maximum temperature HadGEM2-ES RCP 8.5', 'slug': 'tasmax_year_HadGEM2-ES_rcp85_2043', 'units': 'K'}, {'id': 12358, 'tileurl': 'http://api.cal-adapt.org/tiles/tasmax_year_HadGEM2-ES_rcp85_2044/{z}/{x}/{y}.png', 'url': 'http://api.cal-adapt.org/api/rstores/tasmax_year_HadGEM2-ES_rcp85_2044/', 'image': 299.0590515136719, 'width': 179, 'height': 195, 'geom': {'type': 'Polygon', 'coordinates': [[[-124.5625, 31.5625], [-113.375, 31.5625], [-113.375, 43.75], [-124.5625, 43.75], [-124.5625, 31.5625]]]}, 'event': '2044-01-01', 'srs': 'GEOGCS[\"WGS 84\",DATUM[\"WGS_1984\",SPHEROID[\"WGS 84\",6378137,298.257223563,AUTHORITY[\"EPSG\",\"7030\"]],AUTHORITY[\"EPSG\",\"6326\"]],PRIMEM[\"Greenwich\",0],UNIT[\"degree\",0.0174532925199433],AUTHORITY[\"EPSG\",\"4326\"]]', 'minval': 279.256591796875, 'maxval': 308.1722412109375, 'nodata': 1.0000000150474662e+30, 'xpixsize': 0.0625, 'ypixsize': -0.0625, 'name': 'yearly average maximum temperature HadGEM2-ES RCP 8.5', 'slug': 'tasmax_year_HadGEM2-ES_rcp85_2044', 'units': 'K'}, {'id': 12359, 'tileurl': 'http://api.cal-adapt.org/tiles/tasmax_year_HadGEM2-ES_rcp85_2045/{z}/{x}/{y}.png', 'url': 'http://api.cal-adapt.org/api/rstores/tasmax_year_HadGEM2-ES_rcp85_2045/', 'image': 298.4462890625, 'width': 179, 'height': 195, 'geom': {'type': 'Polygon', 'coordinates': [[[-124.5625, 31.5625], [-113.375, 31.5625], [-113.375, 43.75], [-124.5625, 43.75], [-124.5625, 31.5625]]]}, 'event': '2045-01-01', 'srs': 'GEOGCS[\"WGS 84\",DATUM[\"WGS_1984\",SPHEROID[\"WGS 84\",6378137,298.257223563,AUTHORITY[\"EPSG\",\"7030\"]],AUTHORITY[\"EPSG\",\"6326\"]],PRIMEM[\"Greenwich\",0],UNIT[\"degree\",0.0174532925199433],AUTHORITY[\"EPSG\",\"4326\"]]', 'minval': 279.6918640136719, 'maxval': 308.5635070800781, 'nodata': 1.0000000150474662e+30, 'xpixsize': 0.0625, 'ypixsize': -0.0625, 'name': 'yearly average maximum temperature HadGEM2-ES RCP 8.5', 'slug': 'tasmax_year_HadGEM2-ES_rcp85_2045', 'units': 'K'}, {'id': 12360, 'tileurl': 'http://api.cal-adapt.org/tiles/tasmax_year_HadGEM2-ES_rcp85_2046/{z}/{x}/{y}.png', 'url': 'http://api.cal-adapt.org/api/rstores/tasmax_year_HadGEM2-ES_rcp85_2046/', 'image': 299.2864990234375, 'width': 179, 'height': 195, 'geom': {'type': 'Polygon', 'coordinates': [[[-124.5625, 31.5625], [-113.375, 31.5625], [-113.375, 43.75], [-124.5625, 43.75], [-124.5625, 31.5625]]]}, 'event': '2046-01-01', 'srs': 'GEOGCS[\"WGS 84\",DATUM[\"WGS_1984\",SPHEROID[\"WGS 84\",6378137,298.257223563,AUTHORITY[\"EPSG\",\"7030\"]],AUTHORITY[\"EPSG\",\"6326\"]],PRIMEM[\"Greenwich\",0],UNIT[\"degree\",0.0174532925199433],AUTHORITY[\"EPSG\",\"4326\"]]', 'minval': 279.08795166015625, 'maxval': 308.6988220214844, 'nodata': 1.0000000150474662e+30, 'xpixsize': 0.0625, 'ypixsize': -0.0625, 'name': 'yearly average maximum temperature HadGEM2-ES RCP 8.5', 'slug': 'tasmax_year_HadGEM2-ES_rcp85_2046', 'units': 'K'}, {'id': 12361, 'tileurl': 'http://api.cal-adapt.org/tiles/tasmax_year_HadGEM2-ES_rcp85_2047/{z}/{x}/{y}.png', 'url': 'http://api.cal-adapt.org/api/rstores/tasmax_year_HadGEM2-ES_rcp85_2047/', 'image': 300.21978759765625, 'width': 179, 'height': 195, 'geom': {'type': 'Polygon', 'coordinates': [[[-124.5625, 31.5625], [-113.375, 31.5625], [-113.375, 43.75], [-124.5625, 43.75], [-124.5625, 31.5625]]]}, 'event': '2047-01-01', 'srs': 'GEOGCS[\"WGS 84\",DATUM[\"WGS_1984\",SPHEROID[\"WGS 84\",6378137,298.257223563,AUTHORITY[\"EPSG\",\"7030\"]],AUTHORITY[\"EPSG\",\"6326\"]],PRIMEM[\"Greenwich\",0],UNIT[\"degree\",0.0174532925199433],AUTHORITY[\"EPSG\",\"4326\"]]', 'minval': 280.4228210449219, 'maxval': 309.11822509765625, 'nodata': 1.0000000150474662e+30, 'xpixsize': 0.0625, 'ypixsize': -0.0625, 'name': 'yearly average maximum temperature HadGEM2-ES RCP 8.5', 'slug': 'tasmax_year_HadGEM2-ES_rcp85_2047', 'units': 'K'}, {'id': 12362, 'tileurl': 'http://api.cal-adapt.org/tiles/tasmax_year_HadGEM2-ES_rcp85_2048/{z}/{x}/{y}.png', 'url': 'http://api.cal-adapt.org/api/rstores/tasmax_year_HadGEM2-ES_rcp85_2048/', 'image': 299.8879699707031, 'width': 179, 'height': 195, 'geom': {'type': 'Polygon', 'coordinates': [[[-124.5625, 31.5625], [-113.375, 31.5625], [-113.375, 43.75], [-124.5625, 43.75], [-124.5625, 31.5625]]]}, 'event': '2048-01-01', 'srs': 'GEOGCS[\"WGS 84\",DATUM[\"WGS_1984\",SPHEROID[\"WGS 84\",6378137,298.257223563,AUTHORITY[\"EPSG\",\"7030\"]],AUTHORITY[\"EPSG\",\"6326\"]],PRIMEM[\"Greenwich\",0],UNIT[\"degree\",0.0174532925199433],AUTHORITY[\"EPSG\",\"4326\"]]', 'minval': 280.6343688964844, 'maxval': 308.5353698730469, 'nodata': 1.0000000150474662e+30, 'xpixsize': 0.0625, 'ypixsize': -0.0625, 'name': 'yearly average maximum temperature HadGEM2-ES RCP 8.5', 'slug': 'tasmax_year_HadGEM2-ES_rcp85_2048', 'units': 'K'}, {'id': 12363, 'tileurl': 'http://api.cal-adapt.org/tiles/tasmax_year_HadGEM2-ES_rcp85_2049/{z}/{x}/{y}.png', 'url': 'http://api.cal-adapt.org/api/rstores/tasmax_year_HadGEM2-ES_rcp85_2049/', 'image': 299.0128173828125, 'width': 179, 'height': 195, 'geom': {'type': 'Polygon', 'coordinates': [[[-124.5625, 31.5625], [-113.375, 31.5625], [-113.375, 43.75], [-124.5625, 43.75], [-124.5625, 31.5625]]]}, 'event': '2049-01-01', 'srs': 'GEOGCS[\"WGS 84\",DATUM[\"WGS_1984\",SPHEROID[\"WGS 84\",6378137,298.257223563,AUTHORITY[\"EPSG\",\"7030\"]],AUTHORITY[\"EPSG\",\"6326\"]],PRIMEM[\"Greenwich\",0],UNIT[\"degree\",0.0174532925199433],AUTHORITY[\"EPSG\",\"4326\"]]', 'minval': 280.0401306152344, 'maxval': 309.4676208496094, 'nodata': 1.0000000150474662e+30, 'xpixsize': 0.0625, 'ypixsize': -0.0625, 'name': 'yearly average maximum temperature HadGEM2-ES RCP 8.5', 'slug': 'tasmax_year_HadGEM2-ES_rcp85_2049', 'units': 'K'}, {'id': 12364, 'tileurl': 'http://api.cal-adapt.org/tiles/tasmax_year_HadGEM2-ES_rcp85_2050/{z}/{x}/{y}.png', 'url': 'http://api.cal-adapt.org/api/rstores/tasmax_year_HadGEM2-ES_rcp85_2050/', 'image': 299.1251220703125, 'width': 179, 'height': 195, 'geom': {'type': 'Polygon', 'coordinates': [[[-124.5625, 31.5625], [-113.375, 31.5625], [-113.375, 43.75], [-124.5625, 43.75], [-124.5625, 31.5625]]]}, 'event': '2050-01-01', 'srs': 'GEOGCS[\"WGS 84\",DATUM[\"WGS_1984\",SPHEROID[\"WGS 84\",6378137,298.257223563,AUTHORITY[\"EPSG\",\"7030\"]],AUTHORITY[\"EPSG\",\"6326\"]],PRIMEM[\"Greenwich\",0],UNIT[\"degree\",0.0174532925199433],AUTHORITY[\"EPSG\",\"4326\"]]', 'minval': 279.8059387207031, 'maxval': 309.03717041015625, 'nodata': 1.0000000150474662e+30, 'xpixsize': 0.0625, 'ypixsize': -0.0625, 'name': 'yearly average maximum temperature HadGEM2-ES RCP 8.5', 'slug': 'tasmax_year_HadGEM2-ES_rcp85_2050', 'units': 'K'}, {'id': 12365, 'tileurl': 'http://api.cal-adapt.org/tiles/tasmax_year_HadGEM2-ES_rcp85_2051/{z}/{x}/{y}.png', 'url': 'http://api.cal-adapt.org/api/rstores/tasmax_year_HadGEM2-ES_rcp85_2051/', 'image': 299.2093200683594, 'width': 179, 'height': 195, 'geom': {'type': 'Polygon', 'coordinates': [[[-124.5625, 31.5625], [-113.375, 31.5625], [-113.375, 43.75], [-124.5625, 43.75], [-124.5625, 31.5625]]]}, 'event': '2051-01-01', 'srs': 'GEOGCS[\"WGS 84\",DATUM[\"WGS_1984\",SPHEROID[\"WGS 84\",6378137,298.257223563,AUTHORITY[\"EPSG\",\"7030\"]],AUTHORITY[\"EPSG\",\"6326\"]],PRIMEM[\"Greenwich\",0],UNIT[\"degree\",0.0174532925199433],AUTHORITY[\"EPSG\",\"4326\"]]', 'minval': 280.06365966796875, 'maxval': 308.7729187011719, 'nodata': 1.0000000150474662e+30, 'xpixsize': 0.0625, 'ypixsize': -0.0625, 'name': 'yearly average maximum temperature HadGEM2-ES RCP 8.5', 'slug': 'tasmax_year_HadGEM2-ES_rcp85_2051', 'units': 'K'}, {'id': 12366, 'tileurl': 'http://api.cal-adapt.org/tiles/tasmax_year_HadGEM2-ES_rcp85_2052/{z}/{x}/{y}.png', 'url': 'http://api.cal-adapt.org/api/rstores/tasmax_year_HadGEM2-ES_rcp85_2052/', 'image': 300.2410583496094, 'width': 179, 'height': 195, 'geom': {'type': 'Polygon', 'coordinates': [[[-124.5625, 31.5625], [-113.375, 31.5625], [-113.375, 43.75], [-124.5625, 43.75], [-124.5625, 31.5625]]]}, 'event': '2052-01-01', 'srs': 'GEOGCS[\"WGS 84\",DATUM[\"WGS_1984\",SPHEROID[\"WGS 84\",6378137,298.257223563,AUTHORITY[\"EPSG\",\"7030\"]],AUTHORITY[\"EPSG\",\"6326\"]],PRIMEM[\"Greenwich\",0],UNIT[\"degree\",0.0174532925199433],AUTHORITY[\"EPSG\",\"4326\"]]', 'minval': 281.078369140625, 'maxval': 309.5298156738281, 'nodata': 1.0000000150474662e+30, 'xpixsize': 0.0625, 'ypixsize': -0.0625, 'name': 'yearly average maximum temperature HadGEM2-ES RCP 8.5', 'slug': 'tasmax_year_HadGEM2-ES_rcp85_2052', 'units': 'K'}, {'id': 12367, 'tileurl': 'http://api.cal-adapt.org/tiles/tasmax_year_HadGEM2-ES_rcp85_2053/{z}/{x}/{y}.png', 'url': 'http://api.cal-adapt.org/api/rstores/tasmax_year_HadGEM2-ES_rcp85_2053/', 'image': 300.1009521484375, 'width': 179, 'height': 195, 'geom': {'type': 'Polygon', 'coordinates': [[[-124.5625, 31.5625], [-113.375, 31.5625], [-113.375, 43.75], [-124.5625, 43.75], [-124.5625, 31.5625]]]}, 'event': '2053-01-01', 'srs': 'GEOGCS[\"WGS 84\",DATUM[\"WGS_1984\",SPHEROID[\"WGS 84\",6378137,298.257223563,AUTHORITY[\"EPSG\",\"7030\"]],AUTHORITY[\"EPSG\",\"6326\"]],PRIMEM[\"Greenwich\",0],UNIT[\"degree\",0.0174532925199433],AUTHORITY[\"EPSG\",\"4326\"]]', 'minval': 281.1636962890625, 'maxval': 309.4005126953125, 'nodata': 1.0000000150474662e+30, 'xpixsize': 0.0625, 'ypixsize': -0.0625, 'name': 'yearly average maximum temperature HadGEM2-ES RCP 8.5', 'slug': 'tasmax_year_HadGEM2-ES_rcp85_2053', 'units': 'K'}, {'id': 12368, 'tileurl': 'http://api.cal-adapt.org/tiles/tasmax_year_HadGEM2-ES_rcp85_2054/{z}/{x}/{y}.png', 'url': 'http://api.cal-adapt.org/api/rstores/tasmax_year_HadGEM2-ES_rcp85_2054/', 'image': 299.978759765625, 'width': 179, 'height': 195, 'geom': {'type': 'Polygon', 'coordinates': [[[-124.5625, 31.5625], [-113.375, 31.5625], [-113.375, 43.75], [-124.5625, 43.75], [-124.5625, 31.5625]]]}, 'event': '2054-01-01', 'srs': 'GEOGCS[\"WGS 84\",DATUM[\"WGS_1984\",SPHEROID[\"WGS 84\",6378137,298.257223563,AUTHORITY[\"EPSG\",\"7030\"]],AUTHORITY[\"EPSG\",\"6326\"]],PRIMEM[\"Greenwich\",0],UNIT[\"degree\",0.0174532925199433],AUTHORITY[\"EPSG\",\"4326\"]]', 'minval': 281.02618408203125, 'maxval': 309.45111083984375, 'nodata': 1.0000000150474662e+30, 'xpixsize': 0.0625, 'ypixsize': -0.0625, 'name': 'yearly average maximum temperature HadGEM2-ES RCP 8.5', 'slug': 'tasmax_year_HadGEM2-ES_rcp85_2054', 'units': 'K'}, {'id': 12369, 'tileurl': 'http://api.cal-adapt.org/tiles/tasmax_year_HadGEM2-ES_rcp85_2055/{z}/{x}/{y}.png', 'url': 'http://api.cal-adapt.org/api/rstores/tasmax_year_HadGEM2-ES_rcp85_2055/', 'image': 300.2235107421875, 'width': 179, 'height': 195, 'geom': {'type': 'Polygon', 'coordinates': [[[-124.5625, 31.5625], [-113.375, 31.5625], [-113.375, 43.75], [-124.5625, 43.75], [-124.5625, 31.5625]]]}, 'event': '2055-01-01', 'srs': 'GEOGCS[\"WGS 84\",DATUM[\"WGS_1984\",SPHEROID[\"WGS 84\",6378137,298.257223563,AUTHORITY[\"EPSG\",\"7030\"]],AUTHORITY[\"EPSG\",\"6326\"]],PRIMEM[\"Greenwich\",0],UNIT[\"degree\",0.0174532925199433],AUTHORITY[\"EPSG\",\"4326\"]]', 'minval': 280.80029296875, 'maxval': 309.5448303222656, 'nodata': 1.0000000150474662e+30, 'xpixsize': 0.0625, 'ypixsize': -0.0625, 'name': 'yearly average maximum temperature HadGEM2-ES RCP 8.5', 'slug': 'tasmax_year_HadGEM2-ES_rcp85_2055', 'units': 'K'}, {'id': 12370, 'tileurl': 'http://api.cal-adapt.org/tiles/tasmax_year_HadGEM2-ES_rcp85_2056/{z}/{x}/{y}.png', 'url': 'http://api.cal-adapt.org/api/rstores/tasmax_year_HadGEM2-ES_rcp85_2056/', 'image': 301.0606384277344, 'width': 179, 'height': 195, 'geom': {'type': 'Polygon', 'coordinates': [[[-124.5625, 31.5625], [-113.375, 31.5625], [-113.375, 43.75], [-124.5625, 43.75], [-124.5625, 31.5625]]]}, 'event': '2056-01-01', 'srs': 'GEOGCS[\"WGS 84\",DATUM[\"WGS_1984\",SPHEROID[\"WGS 84\",6378137,298.257223563,AUTHORITY[\"EPSG\",\"7030\"]],AUTHORITY[\"EPSG\",\"6326\"]],PRIMEM[\"Greenwich\",0],UNIT[\"degree\",0.0174532925199433],AUTHORITY[\"EPSG\",\"4326\"]]', 'minval': 282.2830810546875, 'maxval': 310.11859130859375, 'nodata': 1.0000000150474662e+30, 'xpixsize': 0.0625, 'ypixsize': -0.0625, 'name': 'yearly average maximum temperature HadGEM2-ES RCP 8.5', 'slug': 'tasmax_year_HadGEM2-ES_rcp85_2056', 'units': 'K'}, {'id': 12371, 'tileurl': 'http://api.cal-adapt.org/tiles/tasmax_year_HadGEM2-ES_rcp85_2057/{z}/{x}/{y}.png', 'url': 'http://api.cal-adapt.org/api/rstores/tasmax_year_HadGEM2-ES_rcp85_2057/', 'image': 300.2650146484375, 'width': 179, 'height': 195, 'geom': {'type': 'Polygon', 'coordinates': [[[-124.5625, 31.5625], [-113.375, 31.5625], [-113.375, 43.75], [-124.5625, 43.75], [-124.5625, 31.5625]]]}, 'event': '2057-01-01', 'srs': 'GEOGCS[\"WGS 84\",DATUM[\"WGS_1984\",SPHEROID[\"WGS 84\",6378137,298.257223563,AUTHORITY[\"EPSG\",\"7030\"]],AUTHORITY[\"EPSG\",\"6326\"]],PRIMEM[\"Greenwich\",0],UNIT[\"degree\",0.0174532925199433],AUTHORITY[\"EPSG\",\"4326\"]]', 'minval': 281.1265869140625, 'maxval': 309.08905029296875, 'nodata': 1.0000000150474662e+30, 'xpixsize': 0.0625, 'ypixsize': -0.0625, 'name': 'yearly average maximum temperature HadGEM2-ES RCP 8.5', 'slug': 'tasmax_year_HadGEM2-ES_rcp85_2057', 'units': 'K'}, {'id': 12372, 'tileurl': 'http://api.cal-adapt.org/tiles/tasmax_year_HadGEM2-ES_rcp85_2058/{z}/{x}/{y}.png', 'url': 'http://api.cal-adapt.org/api/rstores/tasmax_year_HadGEM2-ES_rcp85_2058/', 'image': 301.5157470703125, 'width': 179, 'height': 195, 'geom': {'type': 'Polygon', 'coordinates': [[[-124.5625, 31.5625], [-113.375, 31.5625], [-113.375, 43.75], [-124.5625, 43.75], [-124.5625, 31.5625]]]}, 'event': '2058-01-01', 'srs': 'GEOGCS[\"WGS 84\",DATUM[\"WGS_1984\",SPHEROID[\"WGS 84\",6378137,298.257223563,AUTHORITY[\"EPSG\",\"7030\"]],AUTHORITY[\"EPSG\",\"6326\"]],PRIMEM[\"Greenwich\",0],UNIT[\"degree\",0.0174532925199433],AUTHORITY[\"EPSG\",\"4326\"]]', 'minval': 282.0045166015625, 'maxval': 310.7369079589844, 'nodata': 1.0000000150474662e+30, 'xpixsize': 0.0625, 'ypixsize': -0.0625, 'name': 'yearly average maximum temperature HadGEM2-ES RCP 8.5', 'slug': 'tasmax_year_HadGEM2-ES_rcp85_2058', 'units': 'K'}, {'id': 12373, 'tileurl': 'http://api.cal-adapt.org/tiles/tasmax_year_HadGEM2-ES_rcp85_2059/{z}/{x}/{y}.png', 'url': 'http://api.cal-adapt.org/api/rstores/tasmax_year_HadGEM2-ES_rcp85_2059/', 'image': 300.11065673828125, 'width': 179, 'height': 195, 'geom': {'type': 'Polygon', 'coordinates': [[[-124.5625, 31.5625], [-113.375, 31.5625], [-113.375, 43.75], [-124.5625, 43.75], [-124.5625, 31.5625]]]}, 'event': '2059-01-01', 'srs': 'GEOGCS[\"WGS 84\",DATUM[\"WGS_1984\",SPHEROID[\"WGS 84\",6378137,298.257223563,AUTHORITY[\"EPSG\",\"7030\"]],AUTHORITY[\"EPSG\",\"6326\"]],PRIMEM[\"Greenwich\",0],UNIT[\"degree\",0.0174532925199433],AUTHORITY[\"EPSG\",\"4326\"]]', 'minval': 280.71807861328125, 'maxval': 309.7496337890625, 'nodata': 1.0000000150474662e+30, 'xpixsize': 0.0625, 'ypixsize': -0.0625, 'name': 'yearly average maximum temperature HadGEM2-ES RCP 8.5', 'slug': 'tasmax_year_HadGEM2-ES_rcp85_2059', 'units': 'K'}, {'id': 12374, 'tileurl': 'http://api.cal-adapt.org/tiles/tasmax_year_HadGEM2-ES_rcp85_2060/{z}/{x}/{y}.png', 'url': 'http://api.cal-adapt.org/api/rstores/tasmax_year_HadGEM2-ES_rcp85_2060/', 'image': 301.28167724609375, 'width': 179, 'height': 195, 'geom': {'type': 'Polygon', 'coordinates': [[[-124.5625, 31.5625], [-113.375, 31.5625], [-113.375, 43.75], [-124.5625, 43.75], [-124.5625, 31.5625]]]}, 'event': '2060-01-01', 'srs': 'GEOGCS[\"WGS 84\",DATUM[\"WGS_1984\",SPHEROID[\"WGS 84\",6378137,298.257223563,AUTHORITY[\"EPSG\",\"7030\"]],AUTHORITY[\"EPSG\",\"6326\"]],PRIMEM[\"Greenwich\",0],UNIT[\"degree\",0.0174532925199433],AUTHORITY[\"EPSG\",\"4326\"]]', 'minval': 282.10992431640625, 'maxval': 310.8433532714844, 'nodata': 1.0000000150474662e+30, 'xpixsize': 0.0625, 'ypixsize': -0.0625, 'name': 'yearly average maximum temperature HadGEM2-ES RCP 8.5', 'slug': 'tasmax_year_HadGEM2-ES_rcp85_2060', 'units': 'K'}, {'id': 12375, 'tileurl': 'http://api.cal-adapt.org/tiles/tasmax_year_HadGEM2-ES_rcp85_2061/{z}/{x}/{y}.png', 'url': 'http://api.cal-adapt.org/api/rstores/tasmax_year_HadGEM2-ES_rcp85_2061/', 'image': 300.49090576171875, 'width': 179, 'height': 195, 'geom': {'type': 'Polygon', 'coordinates': [[[-124.5625, 31.5625], [-113.375, 31.5625], [-113.375, 43.75], [-124.5625, 43.75], [-124.5625, 31.5625]]]}, 'event': '2061-01-01', 'srs': 'GEOGCS[\"WGS 84\",DATUM[\"WGS_1984\",SPHEROID[\"WGS 84\",6378137,298.257223563,AUTHORITY[\"EPSG\",\"7030\"]],AUTHORITY[\"EPSG\",\"6326\"]],PRIMEM[\"Greenwich\",0],UNIT[\"degree\",0.0174532925199433],AUTHORITY[\"EPSG\",\"4326\"]]', 'minval': 280.5267639160156, 'maxval': 309.4671325683594, 'nodata': 1.0000000150474662e+30, 'xpixsize': 0.0625, 'ypixsize': -0.0625, 'name': 'yearly average maximum temperature HadGEM2-ES RCP 8.5', 'slug': 'tasmax_year_HadGEM2-ES_rcp85_2061', 'units': 'K'}, {'id': 12376, 'tileurl': 'http://api.cal-adapt.org/tiles/tasmax_year_HadGEM2-ES_rcp85_2062/{z}/{x}/{y}.png', 'url': 'http://api.cal-adapt.org/api/rstores/tasmax_year_HadGEM2-ES_rcp85_2062/', 'image': 301.574951171875, 'width': 179, 'height': 195, 'geom': {'type': 'Polygon', 'coordinates': [[[-124.5625, 31.5625], [-113.375, 31.5625], [-113.375, 43.75], [-124.5625, 43.75], [-124.5625, 31.5625]]]}, 'event': '2062-01-01', 'srs': 'GEOGCS[\"WGS 84\",DATUM[\"WGS_1984\",SPHEROID[\"WGS 84\",6378137,298.257223563,AUTHORITY[\"EPSG\",\"7030\"]],AUTHORITY[\"EPSG\",\"6326\"]],PRIMEM[\"Greenwich\",0],UNIT[\"degree\",0.0174532925199433],AUTHORITY[\"EPSG\",\"4326\"]]', 'minval': 282.6394348144531, 'maxval': 311.3824768066406, 'nodata': 1.0000000150474662e+30, 'xpixsize': 0.0625, 'ypixsize': -0.0625, 'name': 'yearly average maximum temperature HadGEM2-ES RCP 8.5', 'slug': 'tasmax_year_HadGEM2-ES_rcp85_2062', 'units': 'K'}, {'id': 12377, 'tileurl': 'http://api.cal-adapt.org/tiles/tasmax_year_HadGEM2-ES_rcp85_2063/{z}/{x}/{y}.png', 'url': 'http://api.cal-adapt.org/api/rstores/tasmax_year_HadGEM2-ES_rcp85_2063/', 'image': 300.8214111328125, 'width': 179, 'height': 195, 'geom': {'type': 'Polygon', 'coordinates': [[[-124.5625, 31.5625], [-113.375, 31.5625], [-113.375, 43.75], [-124.5625, 43.75], [-124.5625, 31.5625]]]}, 'event': '2063-01-01', 'srs': 'GEOGCS[\"WGS 84\",DATUM[\"WGS_1984\",SPHEROID[\"WGS 84\",6378137,298.257223563,AUTHORITY[\"EPSG\",\"7030\"]],AUTHORITY[\"EPSG\",\"6326\"]],PRIMEM[\"Greenwich\",0],UNIT[\"degree\",0.0174532925199433],AUTHORITY[\"EPSG\",\"4326\"]]', 'minval': 281.5384826660156, 'maxval': 310.54229736328125, 'nodata': 1.0000000150474662e+30, 'xpixsize': 0.0625, 'ypixsize': -0.0625, 'name': 'yearly average maximum temperature HadGEM2-ES RCP 8.5', 'slug': 'tasmax_year_HadGEM2-ES_rcp85_2063', 'units': 'K'}, {'id': 12378, 'tileurl': 'http://api.cal-adapt.org/tiles/tasmax_year_HadGEM2-ES_rcp85_2064/{z}/{x}/{y}.png', 'url': 'http://api.cal-adapt.org/api/rstores/tasmax_year_HadGEM2-ES_rcp85_2064/', 'image': 301.0296325683594, 'width': 179, 'height': 195, 'geom': {'type': 'Polygon', 'coordinates': [[[-124.5625, 31.5625], [-113.375, 31.5625], [-113.375, 43.75], [-124.5625, 43.75], [-124.5625, 31.5625]]]}, 'event': '2064-01-01', 'srs': 'GEOGCS[\"WGS 84\",DATUM[\"WGS_1984\",SPHEROID[\"WGS 84\",6378137,298.257223563,AUTHORITY[\"EPSG\",\"7030\"]],AUTHORITY[\"EPSG\",\"6326\"]],PRIMEM[\"Greenwich\",0],UNIT[\"degree\",0.0174532925199433],AUTHORITY[\"EPSG\",\"4326\"]]', 'minval': 281.850830078125, 'maxval': 310.62744140625, 'nodata': 1.0000000150474662e+30, 'xpixsize': 0.0625, 'ypixsize': -0.0625, 'name': 'yearly average maximum temperature HadGEM2-ES RCP 8.5', 'slug': 'tasmax_year_HadGEM2-ES_rcp85_2064', 'units': 'K'}, {'id': 12379, 'tileurl': 'http://api.cal-adapt.org/tiles/tasmax_year_HadGEM2-ES_rcp85_2065/{z}/{x}/{y}.png', 'url': 'http://api.cal-adapt.org/api/rstores/tasmax_year_HadGEM2-ES_rcp85_2065/', 'image': 300.3257141113281, 'width': 179, 'height': 195, 'geom': {'type': 'Polygon', 'coordinates': [[[-124.5625, 31.5625], [-113.375, 31.5625], [-113.375, 43.75], [-124.5625, 43.75], [-124.5625, 31.5625]]]}, 'event': '2065-01-01', 'srs': 'GEOGCS[\"WGS 84\",DATUM[\"WGS_1984\",SPHEROID[\"WGS 84\",6378137,298.257223563,AUTHORITY[\"EPSG\",\"7030\"]],AUTHORITY[\"EPSG\",\"6326\"]],PRIMEM[\"Greenwich\",0],UNIT[\"degree\",0.0174532925199433],AUTHORITY[\"EPSG\",\"4326\"]]', 'minval': 281.5389099121094, 'maxval': 310.2362976074219, 'nodata': 1.0000000150474662e+30, 'xpixsize': 0.0625, 'ypixsize': -0.0625, 'name': 'yearly average maximum temperature HadGEM2-ES RCP 8.5', 'slug': 'tasmax_year_HadGEM2-ES_rcp85_2065', 'units': 'K'}, {'id': 12380, 'tileurl': 'http://api.cal-adapt.org/tiles/tasmax_year_HadGEM2-ES_rcp85_2066/{z}/{x}/{y}.png', 'url': 'http://api.cal-adapt.org/api/rstores/tasmax_year_HadGEM2-ES_rcp85_2066/', 'image': 301.0233154296875, 'width': 179, 'height': 195, 'geom': {'type': 'Polygon', 'coordinates': [[[-124.5625, 31.5625], [-113.375, 31.5625], [-113.375, 43.75], [-124.5625, 43.75], [-124.5625, 31.5625]]]}, 'event': '2066-01-01', 'srs': 'GEOGCS[\"WGS 84\",DATUM[\"WGS_1984\",SPHEROID[\"WGS 84\",6378137,298.257223563,AUTHORITY[\"EPSG\",\"7030\"]],AUTHORITY[\"EPSG\",\"6326\"]],PRIMEM[\"Greenwich\",0],UNIT[\"degree\",0.0174532925199433],AUTHORITY[\"EPSG\",\"4326\"]]', 'minval': 282.4575500488281, 'maxval': 311.14697265625, 'nodata': 1.0000000150474662e+30, 'xpixsize': 0.0625, 'ypixsize': -0.0625, 'name': 'yearly average maximum temperature HadGEM2-ES RCP 8.5', 'slug': 'tasmax_year_HadGEM2-ES_rcp85_2066', 'units': 'K'}, {'id': 12381, 'tileurl': 'http://api.cal-adapt.org/tiles/tasmax_year_HadGEM2-ES_rcp85_2067/{z}/{x}/{y}.png', 'url': 'http://api.cal-adapt.org/api/rstores/tasmax_year_HadGEM2-ES_rcp85_2067/', 'image': 301.2158508300781, 'width': 179, 'height': 195, 'geom': {'type': 'Polygon', 'coordinates': [[[-124.5625, 31.5625], [-113.375, 31.5625], [-113.375, 43.75], [-124.5625, 43.75], [-124.5625, 31.5625]]]}, 'event': '2067-01-01', 'srs': 'GEOGCS[\"WGS 84\",DATUM[\"WGS_1984\",SPHEROID[\"WGS 84\",6378137,298.257223563,AUTHORITY[\"EPSG\",\"7030\"]],AUTHORITY[\"EPSG\",\"6326\"]],PRIMEM[\"Greenwich\",0],UNIT[\"degree\",0.0174532925199433],AUTHORITY[\"EPSG\",\"4326\"]]', 'minval': 281.54876708984375, 'maxval': 311.186767578125, 'nodata': 1.0000000150474662e+30, 'xpixsize': 0.0625, 'ypixsize': -0.0625, 'name': 'yearly average maximum temperature HadGEM2-ES RCP 8.5', 'slug': 'tasmax_year_HadGEM2-ES_rcp85_2067', 'units': 'K'}, {'id': 12382, 'tileurl': 'http://api.cal-adapt.org/tiles/tasmax_year_HadGEM2-ES_rcp85_2068/{z}/{x}/{y}.png', 'url': 'http://api.cal-adapt.org/api/rstores/tasmax_year_HadGEM2-ES_rcp85_2068/', 'image': 301.10968017578125, 'width': 179, 'height': 195, 'geom': {'type': 'Polygon', 'coordinates': [[[-124.5625, 31.5625], [-113.375, 31.5625], [-113.375, 43.75], [-124.5625, 43.75], [-124.5625, 31.5625]]]}, 'event': '2068-01-01', 'srs': 'GEOGCS[\"WGS 84\",DATUM[\"WGS_1984\",SPHEROID[\"WGS 84\",6378137,298.257223563,AUTHORITY[\"EPSG\",\"7030\"]],AUTHORITY[\"EPSG\",\"6326\"]],PRIMEM[\"Greenwich\",0],UNIT[\"degree\",0.0174532925199433],AUTHORITY[\"EPSG\",\"4326\"]]', 'minval': 281.91656494140625, 'maxval': 310.7137451171875, 'nodata': 1.0000000150474662e+30, 'xpixsize': 0.0625, 'ypixsize': -0.0625, 'name': 'yearly average maximum temperature HadGEM2-ES RCP 8.5', 'slug': 'tasmax_year_HadGEM2-ES_rcp85_2068', 'units': 'K'}, {'id': 12383, 'tileurl': 'http://api.cal-adapt.org/tiles/tasmax_year_HadGEM2-ES_rcp85_2069/{z}/{x}/{y}.png', 'url': 'http://api.cal-adapt.org/api/rstores/tasmax_year_HadGEM2-ES_rcp85_2069/', 'image': 301.8194885253906, 'width': 179, 'height': 195, 'geom': {'type': 'Polygon', 'coordinates': [[[-124.5625, 31.5625], [-113.375, 31.5625], [-113.375, 43.75], [-124.5625, 43.75], [-124.5625, 31.5625]]]}, 'event': '2069-01-01', 'srs': 'GEOGCS[\"WGS 84\",DATUM[\"WGS_1984\",SPHEROID[\"WGS 84\",6378137,298.257223563,AUTHORITY[\"EPSG\",\"7030\"]],AUTHORITY[\"EPSG\",\"6326\"]],PRIMEM[\"Greenwich\",0],UNIT[\"degree\",0.0174532925199433],AUTHORITY[\"EPSG\",\"4326\"]]', 'minval': 282.901611328125, 'maxval': 311.45220947265625, 'nodata': 1.0000000150474662e+30, 'xpixsize': 0.0625, 'ypixsize': -0.0625, 'name': 'yearly average maximum temperature HadGEM2-ES RCP 8.5', 'slug': 'tasmax_year_HadGEM2-ES_rcp85_2069', 'units': 'K'}, {'id': 12384, 'tileurl': 'http://api.cal-adapt.org/tiles/tasmax_year_HadGEM2-ES_rcp85_2070/{z}/{x}/{y}.png', 'url': 'http://api.cal-adapt.org/api/rstores/tasmax_year_HadGEM2-ES_rcp85_2070/', 'image': 301.9167175292969, 'width': 179, 'height': 195, 'geom': {'type': 'Polygon', 'coordinates': [[[-124.5625, 31.5625], [-113.375, 31.5625], [-113.375, 43.75], [-124.5625, 43.75], [-124.5625, 31.5625]]]}, 'event': '2070-01-01', 'srs': 'GEOGCS[\"WGS 84\",DATUM[\"WGS_1984\",SPHEROID[\"WGS 84\",6378137,298.257223563,AUTHORITY[\"EPSG\",\"7030\"]],AUTHORITY[\"EPSG\",\"6326\"]],PRIMEM[\"Greenwich\",0],UNIT[\"degree\",0.0174532925199433],AUTHORITY[\"EPSG\",\"4326\"]]', 'minval': 283.1983947753906, 'maxval': 311.6822509765625, 'nodata': 1.0000000150474662e+30, 'xpixsize': 0.0625, 'ypixsize': -0.0625, 'name': 'yearly average maximum temperature HadGEM2-ES RCP 8.5', 'slug': 'tasmax_year_HadGEM2-ES_rcp85_2070', 'units': 'K'}, {'id': 12385, 'tileurl': 'http://api.cal-adapt.org/tiles/tasmax_year_HadGEM2-ES_rcp85_2071/{z}/{x}/{y}.png', 'url': 'http://api.cal-adapt.org/api/rstores/tasmax_year_HadGEM2-ES_rcp85_2071/', 'image': 300.7781982421875, 'width': 179, 'height': 195, 'geom': {'type': 'Polygon', 'coordinates': [[[-124.5625, 31.5625], [-113.375, 31.5625], [-113.375, 43.75], [-124.5625, 43.75], [-124.5625, 31.5625]]]}, 'event': '2071-01-01', 'srs': 'GEOGCS[\"WGS 84\",DATUM[\"WGS_1984\",SPHEROID[\"WGS 84\",6378137,298.257223563,AUTHORITY[\"EPSG\",\"7030\"]],AUTHORITY[\"EPSG\",\"6326\"]],PRIMEM[\"Greenwich\",0],UNIT[\"degree\",0.0174532925199433],AUTHORITY[\"EPSG\",\"4326\"]]', 'minval': 281.8112487792969, 'maxval': 310.12310791015625, 'nodata': 1.0000000150474662e+30, 'xpixsize': 0.0625, 'ypixsize': -0.0625, 'name': 'yearly average maximum temperature HadGEM2-ES RCP 8.5', 'slug': 'tasmax_year_HadGEM2-ES_rcp85_2071', 'units': 'K'}, {'id': 12386, 'tileurl': 'http://api.cal-adapt.org/tiles/tasmax_year_HadGEM2-ES_rcp85_2072/{z}/{x}/{y}.png', 'url': 'http://api.cal-adapt.org/api/rstores/tasmax_year_HadGEM2-ES_rcp85_2072/', 'image': 302.0194396972656, 'width': 179, 'height': 195, 'geom': {'type': 'Polygon', 'coordinates': [[[-124.5625, 31.5625], [-113.375, 31.5625], [-113.375, 43.75], [-124.5625, 43.75], [-124.5625, 31.5625]]]}, 'event': '2072-01-01', 'srs': 'GEOGCS[\"WGS 84\",DATUM[\"WGS_1984\",SPHEROID[\"WGS 84\",6378137,298.257223563,AUTHORITY[\"EPSG\",\"7030\"]],AUTHORITY[\"EPSG\",\"6326\"]],PRIMEM[\"Greenwich\",0],UNIT[\"degree\",0.0174532925199433],AUTHORITY[\"EPSG\",\"4326\"]]', 'minval': 282.783935546875, 'maxval': 311.4726257324219, 'nodata': 1.0000000150474662e+30, 'xpixsize': 0.0625, 'ypixsize': -0.0625, 'name': 'yearly average maximum temperature HadGEM2-ES RCP 8.5', 'slug': 'tasmax_year_HadGEM2-ES_rcp85_2072', 'units': 'K'}, {'id': 12387, 'tileurl': 'http://api.cal-adapt.org/tiles/tasmax_year_HadGEM2-ES_rcp85_2073/{z}/{x}/{y}.png', 'url': 'http://api.cal-adapt.org/api/rstores/tasmax_year_HadGEM2-ES_rcp85_2073/', 'image': 300.7908020019531, 'width': 179, 'height': 195, 'geom': {'type': 'Polygon', 'coordinates': [[[-124.5625, 31.5625], [-113.375, 31.5625], [-113.375, 43.75], [-124.5625, 43.75], [-124.5625, 31.5625]]]}, 'event': '2073-01-01', 'srs': 'GEOGCS[\"WGS 84\",DATUM[\"WGS_1984\",SPHEROID[\"WGS 84\",6378137,298.257223563,AUTHORITY[\"EPSG\",\"7030\"]],AUTHORITY[\"EPSG\",\"6326\"]],PRIMEM[\"Greenwich\",0],UNIT[\"degree\",0.0174532925199433],AUTHORITY[\"EPSG\",\"4326\"]]', 'minval': 282.05657958984375, 'maxval': 310.7239685058594, 'nodata': 1.0000000150474662e+30, 'xpixsize': 0.0625, 'ypixsize': -0.0625, 'name': 'yearly average maximum temperature HadGEM2-ES RCP 8.5', 'slug': 'tasmax_year_HadGEM2-ES_rcp85_2073', 'units': 'K'}, {'id': 12388, 'tileurl': 'http://api.cal-adapt.org/tiles/tasmax_year_HadGEM2-ES_rcp85_2074/{z}/{x}/{y}.png', 'url': 'http://api.cal-adapt.org/api/rstores/tasmax_year_HadGEM2-ES_rcp85_2074/', 'image': 300.8238525390625, 'width': 179, 'height': 195, 'geom': {'type': 'Polygon', 'coordinates': [[[-124.5625, 31.5625], [-113.375, 31.5625], [-113.375, 43.75], [-124.5625, 43.75], [-124.5625, 31.5625]]]}, 'event': '2074-01-01', 'srs': 'GEOGCS[\"WGS 84\",DATUM[\"WGS_1984\",SPHEROID[\"WGS 84\",6378137,298.257223563,AUTHORITY[\"EPSG\",\"7030\"]],AUTHORITY[\"EPSG\",\"6326\"]],PRIMEM[\"Greenwich\",0],UNIT[\"degree\",0.0174532925199433],AUTHORITY[\"EPSG\",\"4326\"]]', 'minval': 281.9207763671875, 'maxval': 310.4089660644531, 'nodata': 1.0000000150474662e+30, 'xpixsize': 0.0625, 'ypixsize': -0.0625, 'name': 'yearly average maximum temperature HadGEM2-ES RCP 8.5', 'slug': 'tasmax_year_HadGEM2-ES_rcp85_2074', 'units': 'K'}, {'id': 12389, 'tileurl': 'http://api.cal-adapt.org/tiles/tasmax_year_HadGEM2-ES_rcp85_2075/{z}/{x}/{y}.png', 'url': 'http://api.cal-adapt.org/api/rstores/tasmax_year_HadGEM2-ES_rcp85_2075/', 'image': 301.3523864746094, 'width': 179, 'height': 195, 'geom': {'type': 'Polygon', 'coordinates': [[[-124.5625, 31.5625], [-113.375, 31.5625], [-113.375, 43.75], [-124.5625, 43.75], [-124.5625, 31.5625]]]}, 'event': '2075-01-01', 'srs': 'GEOGCS[\"WGS 84\",DATUM[\"WGS_1984\",SPHEROID[\"WGS 84\",6378137,298.257223563,AUTHORITY[\"EPSG\",\"7030\"]],AUTHORITY[\"EPSG\",\"6326\"]],PRIMEM[\"Greenwich\",0],UNIT[\"degree\",0.0174532925199433],AUTHORITY[\"EPSG\",\"4326\"]]', 'minval': 282.6560363769531, 'maxval': 310.940673828125, 'nodata': 1.0000000150474662e+30, 'xpixsize': 0.0625, 'ypixsize': -0.0625, 'name': 'yearly average maximum temperature HadGEM2-ES RCP 8.5', 'slug': 'tasmax_year_HadGEM2-ES_rcp85_2075', 'units': 'K'}, {'id': 12390, 'tileurl': 'http://api.cal-adapt.org/tiles/tasmax_year_HadGEM2-ES_rcp85_2076/{z}/{x}/{y}.png', 'url': 'http://api.cal-adapt.org/api/rstores/tasmax_year_HadGEM2-ES_rcp85_2076/', 'image': 301.6162414550781, 'width': 179, 'height': 195, 'geom': {'type': 'Polygon', 'coordinates': [[[-124.5625, 31.5625], [-113.375, 31.5625], [-113.375, 43.75], [-124.5625, 43.75], [-124.5625, 31.5625]]]}, 'event': '2076-01-01', 'srs': 'GEOGCS[\"WGS 84\",DATUM[\"WGS_1984\",SPHEROID[\"WGS 84\",6378137,298.257223563,AUTHORITY[\"EPSG\",\"7030\"]],AUTHORITY[\"EPSG\",\"6326\"]],PRIMEM[\"Greenwich\",0],UNIT[\"degree\",0.0174532925199433],AUTHORITY[\"EPSG\",\"4326\"]]', 'minval': 282.53485107421875, 'maxval': 310.2136535644531, 'nodata': 1.0000000150474662e+30, 'xpixsize': 0.0625, 'ypixsize': -0.0625, 'name': 'yearly average maximum temperature HadGEM2-ES RCP 8.5', 'slug': 'tasmax_year_HadGEM2-ES_rcp85_2076', 'units': 'K'}, {'id': 12391, 'tileurl': 'http://api.cal-adapt.org/tiles/tasmax_year_HadGEM2-ES_rcp85_2077/{z}/{x}/{y}.png', 'url': 'http://api.cal-adapt.org/api/rstores/tasmax_year_HadGEM2-ES_rcp85_2077/', 'image': 301.5267639160156, 'width': 179, 'height': 195, 'geom': {'type': 'Polygon', 'coordinates': [[[-124.5625, 31.5625], [-113.375, 31.5625], [-113.375, 43.75], [-124.5625, 43.75], [-124.5625, 31.5625]]]}, 'event': '2077-01-01', 'srs': 'GEOGCS[\"WGS 84\",DATUM[\"WGS_1984\",SPHEROID[\"WGS 84\",6378137,298.257223563,AUTHORITY[\"EPSG\",\"7030\"]],AUTHORITY[\"EPSG\",\"6326\"]],PRIMEM[\"Greenwich\",0],UNIT[\"degree\",0.0174532925199433],AUTHORITY[\"EPSG\",\"4326\"]]', 'minval': 282.43646240234375, 'maxval': 310.7727355957031, 'nodata': 1.0000000150474662e+30, 'xpixsize': 0.0625, 'ypixsize': -0.0625, 'name': 'yearly average maximum temperature HadGEM2-ES RCP 8.5', 'slug': 'tasmax_year_HadGEM2-ES_rcp85_2077', 'units': 'K'}, {'id': 12392, 'tileurl': 'http://api.cal-adapt.org/tiles/tasmax_year_HadGEM2-ES_rcp85_2078/{z}/{x}/{y}.png', 'url': 'http://api.cal-adapt.org/api/rstores/tasmax_year_HadGEM2-ES_rcp85_2078/', 'image': 301.58868408203125, 'width': 179, 'height': 195, 'geom': {'type': 'Polygon', 'coordinates': [[[-124.5625, 31.5625], [-113.375, 31.5625], [-113.375, 43.75], [-124.5625, 43.75], [-124.5625, 31.5625]]]}, 'event': '2078-01-01', 'srs': 'GEOGCS[\"WGS 84\",DATUM[\"WGS_1984\",SPHEROID[\"WGS 84\",6378137,298.257223563,AUTHORITY[\"EPSG\",\"7030\"]],AUTHORITY[\"EPSG\",\"6326\"]],PRIMEM[\"Greenwich\",0],UNIT[\"degree\",0.0174532925199433],AUTHORITY[\"EPSG\",\"4326\"]]', 'minval': 283.0413818359375, 'maxval': 311.37371826171875, 'nodata': 1.0000000150474662e+30, 'xpixsize': 0.0625, 'ypixsize': -0.0625, 'name': 'yearly average maximum temperature HadGEM2-ES RCP 8.5', 'slug': 'tasmax_year_HadGEM2-ES_rcp85_2078', 'units': 'K'}, {'id': 12393, 'tileurl': 'http://api.cal-adapt.org/tiles/tasmax_year_HadGEM2-ES_rcp85_2079/{z}/{x}/{y}.png', 'url': 'http://api.cal-adapt.org/api/rstores/tasmax_year_HadGEM2-ES_rcp85_2079/', 'image': 302.0182189941406, 'width': 179, 'height': 195, 'geom': {'type': 'Polygon', 'coordinates': [[[-124.5625, 31.5625], [-113.375, 31.5625], [-113.375, 43.75], [-124.5625, 43.75], [-124.5625, 31.5625]]]}, 'event': '2079-01-01', 'srs': 'GEOGCS[\"WGS 84\",DATUM[\"WGS_1984\",SPHEROID[\"WGS 84\",6378137,298.257223563,AUTHORITY[\"EPSG\",\"7030\"]],AUTHORITY[\"EPSG\",\"6326\"]],PRIMEM[\"Greenwich\",0],UNIT[\"degree\",0.0174532925199433],AUTHORITY[\"EPSG\",\"4326\"]]', 'minval': 282.7470397949219, 'maxval': 311.8031921386719, 'nodata': 1.0000000150474662e+30, 'xpixsize': 0.0625, 'ypixsize': -0.0625, 'name': 'yearly average maximum temperature HadGEM2-ES RCP 8.5', 'slug': 'tasmax_year_HadGEM2-ES_rcp85_2079', 'units': 'K'}, {'id': 12394, 'tileurl': 'http://api.cal-adapt.org/tiles/tasmax_year_HadGEM2-ES_rcp85_2080/{z}/{x}/{y}.png', 'url': 'http://api.cal-adapt.org/api/rstores/tasmax_year_HadGEM2-ES_rcp85_2080/', 'image': 301.9528503417969, 'width': 179, 'height': 195, 'geom': {'type': 'Polygon', 'coordinates': [[[-124.5625, 31.5625], [-113.375, 31.5625], [-113.375, 43.75], [-124.5625, 43.75], [-124.5625, 31.5625]]]}, 'event': '2080-01-01', 'srs': 'GEOGCS[\"WGS 84\",DATUM[\"WGS_1984\",SPHEROID[\"WGS 84\",6378137,298.257223563,AUTHORITY[\"EPSG\",\"7030\"]],AUTHORITY[\"EPSG\",\"6326\"]],PRIMEM[\"Greenwich\",0],UNIT[\"degree\",0.0174532925199433],AUTHORITY[\"EPSG\",\"4326\"]]', 'minval': 283.8719177246094, 'maxval': 311.66357421875, 'nodata': 1.0000000150474662e+30, 'xpixsize': 0.0625, 'ypixsize': -0.0625, 'name': 'yearly average maximum temperature HadGEM2-ES RCP 8.5', 'slug': 'tasmax_year_HadGEM2-ES_rcp85_2080', 'units': 'K'}, {'id': 12395, 'tileurl': 'http://api.cal-adapt.org/tiles/tasmax_year_HadGEM2-ES_rcp85_2081/{z}/{x}/{y}.png', 'url': 'http://api.cal-adapt.org/api/rstores/tasmax_year_HadGEM2-ES_rcp85_2081/', 'image': 301.6545104980469, 'width': 179, 'height': 195, 'geom': {'type': 'Polygon', 'coordinates': [[[-124.5625, 31.5625], [-113.375, 31.5625], [-113.375, 43.75], [-124.5625, 43.75], [-124.5625, 31.5625]]]}, 'event': '2081-01-01', 'srs': 'GEOGCS[\"WGS 84\",DATUM[\"WGS_1984\",SPHEROID[\"WGS 84\",6378137,298.257223563,AUTHORITY[\"EPSG\",\"7030\"]],AUTHORITY[\"EPSG\",\"6326\"]],PRIMEM[\"Greenwich\",0],UNIT[\"degree\",0.0174532925199433],AUTHORITY[\"EPSG\",\"4326\"]]', 'minval': 282.8211364746094, 'maxval': 310.9695739746094, 'nodata': 1.0000000150474662e+30, 'xpixsize': 0.0625, 'ypixsize': -0.0625, 'name': 'yearly average maximum temperature HadGEM2-ES RCP 8.5', 'slug': 'tasmax_year_HadGEM2-ES_rcp85_2081', 'units': 'K'}, {'id': 12396, 'tileurl': 'http://api.cal-adapt.org/tiles/tasmax_year_HadGEM2-ES_rcp85_2082/{z}/{x}/{y}.png', 'url': 'http://api.cal-adapt.org/api/rstores/tasmax_year_HadGEM2-ES_rcp85_2082/', 'image': 301.68243408203125, 'width': 179, 'height': 195, 'geom': {'type': 'Polygon', 'coordinates': [[[-124.5625, 31.5625], [-113.375, 31.5625], [-113.375, 43.75], [-124.5625, 43.75], [-124.5625, 31.5625]]]}, 'event': '2082-01-01', 'srs': 'GEOGCS[\"WGS 84\",DATUM[\"WGS_1984\",SPHEROID[\"WGS 84\",6378137,298.257223563,AUTHORITY[\"EPSG\",\"7030\"]],AUTHORITY[\"EPSG\",\"6326\"]],PRIMEM[\"Greenwich\",0],UNIT[\"degree\",0.0174532925199433],AUTHORITY[\"EPSG\",\"4326\"]]', 'minval': 284.0352783203125, 'maxval': 312.15826416015625, 'nodata': 1.0000000150474662e+30, 'xpixsize': 0.0625, 'ypixsize': -0.0625, 'name': 'yearly average maximum temperature HadGEM2-ES RCP 8.5', 'slug': 'tasmax_year_HadGEM2-ES_rcp85_2082', 'units': 'K'}, {'id': 12397, 'tileurl': 'http://api.cal-adapt.org/tiles/tasmax_year_HadGEM2-ES_rcp85_2083/{z}/{x}/{y}.png', 'url': 'http://api.cal-adapt.org/api/rstores/tasmax_year_HadGEM2-ES_rcp85_2083/', 'image': 302.6059875488281, 'width': 179, 'height': 195, 'geom': {'type': 'Polygon', 'coordinates': [[[-124.5625, 31.5625], [-113.375, 31.5625], [-113.375, 43.75], [-124.5625, 43.75], [-124.5625, 31.5625]]]}, 'event': '2083-01-01', 'srs': 'GEOGCS[\"WGS 84\",DATUM[\"WGS_1984\",SPHEROID[\"WGS 84\",6378137,298.257223563,AUTHORITY[\"EPSG\",\"7030\"]],AUTHORITY[\"EPSG\",\"6326\"]],PRIMEM[\"Greenwich\",0],UNIT[\"degree\",0.0174532925199433],AUTHORITY[\"EPSG\",\"4326\"]]', 'minval': 283.6019592285156, 'maxval': 312.88616943359375, 'nodata': 1.0000000150474662e+30, 'xpixsize': 0.0625, 'ypixsize': -0.0625, 'name': 'yearly average maximum temperature HadGEM2-ES RCP 8.5', 'slug': 'tasmax_year_HadGEM2-ES_rcp85_2083', 'units': 'K'}, {'id': 12398, 'tileurl': 'http://api.cal-adapt.org/tiles/tasmax_year_HadGEM2-ES_rcp85_2084/{z}/{x}/{y}.png', 'url': 'http://api.cal-adapt.org/api/rstores/tasmax_year_HadGEM2-ES_rcp85_2084/', 'image': 303.151611328125, 'width': 179, 'height': 195, 'geom': {'type': 'Polygon', 'coordinates': [[[-124.5625, 31.5625], [-113.375, 31.5625], [-113.375, 43.75], [-124.5625, 43.75], [-124.5625, 31.5625]]]}, 'event': '2084-01-01', 'srs': 'GEOGCS[\"WGS 84\",DATUM[\"WGS_1984\",SPHEROID[\"WGS 84\",6378137,298.257223563,AUTHORITY[\"EPSG\",\"7030\"]],AUTHORITY[\"EPSG\",\"6326\"]],PRIMEM[\"Greenwich\",0],UNIT[\"degree\",0.0174532925199433],AUTHORITY[\"EPSG\",\"4326\"]]', 'minval': 283.95684814453125, 'maxval': 313.3366394042969, 'nodata': 1.0000000150474662e+30, 'xpixsize': 0.0625, 'ypixsize': -0.0625, 'name': 'yearly average maximum temperature HadGEM2-ES RCP 8.5', 'slug': 'tasmax_year_HadGEM2-ES_rcp85_2084', 'units': 'K'}, {'id': 12399, 'tileurl': 'http://api.cal-adapt.org/tiles/tasmax_year_HadGEM2-ES_rcp85_2085/{z}/{x}/{y}.png', 'url': 'http://api.cal-adapt.org/api/rstores/tasmax_year_HadGEM2-ES_rcp85_2085/', 'image': 301.89788818359375, 'width': 179, 'height': 195, 'geom': {'type': 'Polygon', 'coordinates': [[[-124.5625, 31.5625], [-113.375, 31.5625], [-113.375, 43.75], [-124.5625, 43.75], [-124.5625, 31.5625]]]}, 'event': '2085-01-01', 'srs': 'GEOGCS[\"WGS 84\",DATUM[\"WGS_1984\",SPHEROID[\"WGS 84\",6378137,298.257223563,AUTHORITY[\"EPSG\",\"7030\"]],AUTHORITY[\"EPSG\",\"6326\"]],PRIMEM[\"Greenwich\",0],UNIT[\"degree\",0.0174532925199433],AUTHORITY[\"EPSG\",\"4326\"]]', 'minval': 283.4419860839844, 'maxval': 311.8042907714844, 'nodata': 1.0000000150474662e+30, 'xpixsize': 0.0625, 'ypixsize': -0.0625, 'name': 'yearly average maximum temperature HadGEM2-ES RCP 8.5', 'slug': 'tasmax_year_HadGEM2-ES_rcp85_2085', 'units': 'K'}, {'id': 12400, 'tileurl': 'http://api.cal-adapt.org/tiles/tasmax_year_HadGEM2-ES_rcp85_2086/{z}/{x}/{y}.png', 'url': 'http://api.cal-adapt.org/api/rstores/tasmax_year_HadGEM2-ES_rcp85_2086/', 'image': 301.8565673828125, 'width': 179, 'height': 195, 'geom': {'type': 'Polygon', 'coordinates': [[[-124.5625, 31.5625], [-113.375, 31.5625], [-113.375, 43.75], [-124.5625, 43.75], [-124.5625, 31.5625]]]}, 'event': '2086-01-01', 'srs': 'GEOGCS[\"WGS 84\",DATUM[\"WGS_1984\",SPHEROID[\"WGS 84\",6378137,298.257223563,AUTHORITY[\"EPSG\",\"7030\"]],AUTHORITY[\"EPSG\",\"6326\"]],PRIMEM[\"Greenwich\",0],UNIT[\"degree\",0.0174532925199433],AUTHORITY[\"EPSG\",\"4326\"]]', 'minval': 283.22198486328125, 'maxval': 311.35028076171875, 'nodata': 1.0000000150474662e+30, 'xpixsize': 0.0625, 'ypixsize': -0.0625, 'name': 'yearly average maximum temperature HadGEM2-ES RCP 8.5', 'slug': 'tasmax_year_HadGEM2-ES_rcp85_2086', 'units': 'K'}, {'id': 12401, 'tileurl': 'http://api.cal-adapt.org/tiles/tasmax_year_HadGEM2-ES_rcp85_2087/{z}/{x}/{y}.png', 'url': 'http://api.cal-adapt.org/api/rstores/tasmax_year_HadGEM2-ES_rcp85_2087/', 'image': 301.3248291015625, 'width': 179, 'height': 195, 'geom': {'type': 'Polygon', 'coordinates': [[[-124.5625, 31.5625], [-113.375, 31.5625], [-113.375, 43.75], [-124.5625, 43.75], [-124.5625, 31.5625]]]}, 'event': '2087-01-01', 'srs': 'GEOGCS[\"WGS 84\",DATUM[\"WGS_1984\",SPHEROID[\"WGS 84\",6378137,298.257223563,AUTHORITY[\"EPSG\",\"7030\"]],AUTHORITY[\"EPSG\",\"6326\"]],PRIMEM[\"Greenwich\",0],UNIT[\"degree\",0.0174532925199433],AUTHORITY[\"EPSG\",\"4326\"]]', 'minval': 282.2738037109375, 'maxval': 310.902099609375, 'nodata': 1.0000000150474662e+30, 'xpixsize': 0.0625, 'ypixsize': -0.0625, 'name': 'yearly average maximum temperature HadGEM2-ES RCP 8.5', 'slug': 'tasmax_year_HadGEM2-ES_rcp85_2087', 'units': 'K'}, {'id': 12402, 'tileurl': 'http://api.cal-adapt.org/tiles/tasmax_year_HadGEM2-ES_rcp85_2088/{z}/{x}/{y}.png', 'url': 'http://api.cal-adapt.org/api/rstores/tasmax_year_HadGEM2-ES_rcp85_2088/', 'image': 302.1773376464844, 'width': 179, 'height': 195, 'geom': {'type': 'Polygon', 'coordinates': [[[-124.5625, 31.5625], [-113.375, 31.5625], [-113.375, 43.75], [-124.5625, 43.75], [-124.5625, 31.5625]]]}, 'event': '2088-01-01', 'srs': 'GEOGCS[\"WGS 84\",DATUM[\"WGS_1984\",SPHEROID[\"WGS 84\",6378137,298.257223563,AUTHORITY[\"EPSG\",\"7030\"]],AUTHORITY[\"EPSG\",\"6326\"]],PRIMEM[\"Greenwich\",0],UNIT[\"degree\",0.0174532925199433],AUTHORITY[\"EPSG\",\"4326\"]]', 'minval': 283.5787658691406, 'maxval': 311.90716552734375, 'nodata': 1.0000000150474662e+30, 'xpixsize': 0.0625, 'ypixsize': -0.0625, 'name': 'yearly average maximum temperature HadGEM2-ES RCP 8.5', 'slug': 'tasmax_year_HadGEM2-ES_rcp85_2088', 'units': 'K'}, {'id': 12403, 'tileurl': 'http://api.cal-adapt.org/tiles/tasmax_year_HadGEM2-ES_rcp85_2089/{z}/{x}/{y}.png', 'url': 'http://api.cal-adapt.org/api/rstores/tasmax_year_HadGEM2-ES_rcp85_2089/', 'image': 301.3674011230469, 'width': 179, 'height': 195, 'geom': {'type': 'Polygon', 'coordinates': [[[-124.5625, 31.5625], [-113.375, 31.5625], [-113.375, 43.75], [-124.5625, 43.75], [-124.5625, 31.5625]]]}, 'event': '2089-01-01', 'srs': 'GEOGCS[\"WGS 84\",DATUM[\"WGS_1984\",SPHEROID[\"WGS 84\",6378137,298.257223563,AUTHORITY[\"EPSG\",\"7030\"]],AUTHORITY[\"EPSG\",\"6326\"]],PRIMEM[\"Greenwich\",0],UNIT[\"degree\",0.0174532925199433],AUTHORITY[\"EPSG\",\"4326\"]]', 'minval': 283.08233642578125, 'maxval': 311.51123046875, 'nodata': 1.0000000150474662e+30, 'xpixsize': 0.0625, 'ypixsize': -0.0625, 'name': 'yearly average maximum temperature HadGEM2-ES RCP 8.5', 'slug': 'tasmax_year_HadGEM2-ES_rcp85_2089', 'units': 'K'}, {'id': 12404, 'tileurl': 'http://api.cal-adapt.org/tiles/tasmax_year_HadGEM2-ES_rcp85_2090/{z}/{x}/{y}.png', 'url': 'http://api.cal-adapt.org/api/rstores/tasmax_year_HadGEM2-ES_rcp85_2090/', 'image': 301.9574890136719, 'width': 179, 'height': 195, 'geom': {'type': 'Polygon', 'coordinates': [[[-124.5625, 31.5625], [-113.375, 31.5625], [-113.375, 43.75], [-124.5625, 43.75], [-124.5625, 31.5625]]]}, 'event': '2090-01-01', 'srs': 'GEOGCS[\"WGS 84\",DATUM[\"WGS_1984\",SPHEROID[\"WGS 84\",6378137,298.257223563,AUTHORITY[\"EPSG\",\"7030\"]],AUTHORITY[\"EPSG\",\"6326\"]],PRIMEM[\"Greenwich\",0],UNIT[\"degree\",0.0174532925199433],AUTHORITY[\"EPSG\",\"4326\"]]', 'minval': 283.6750793457031, 'maxval': 311.6213684082031, 'nodata': 1.0000000150474662e+30, 'xpixsize': 0.0625, 'ypixsize': -0.0625, 'name': 'yearly average maximum temperature HadGEM2-ES RCP 8.5', 'slug': 'tasmax_year_HadGEM2-ES_rcp85_2090', 'units': 'K'}, {'id': 12405, 'tileurl': 'http://api.cal-adapt.org/tiles/tasmax_year_HadGEM2-ES_rcp85_2091/{z}/{x}/{y}.png', 'url': 'http://api.cal-adapt.org/api/rstores/tasmax_year_HadGEM2-ES_rcp85_2091/', 'image': 301.0959167480469, 'width': 179, 'height': 195, 'geom': {'type': 'Polygon', 'coordinates': [[[-124.5625, 31.5625], [-113.375, 31.5625], [-113.375, 43.75], [-124.5625, 43.75], [-124.5625, 31.5625]]]}, 'event': '2091-01-01', 'srs': 'GEOGCS[\"WGS 84\",DATUM[\"WGS_1984\",SPHEROID[\"WGS 84\",6378137,298.257223563,AUTHORITY[\"EPSG\",\"7030\"]],AUTHORITY[\"EPSG\",\"6326\"]],PRIMEM[\"Greenwich\",0],UNIT[\"degree\",0.0174532925199433],AUTHORITY[\"EPSG\",\"4326\"]]', 'minval': 282.2803955078125, 'maxval': 310.9407653808594, 'nodata': 1.0000000150474662e+30, 'xpixsize': 0.0625, 'ypixsize': -0.0625, 'name': 'yearly average maximum temperature HadGEM2-ES RCP 8.5', 'slug': 'tasmax_year_HadGEM2-ES_rcp85_2091', 'units': 'K'}, {'id': 12406, 'tileurl': 'http://api.cal-adapt.org/tiles/tasmax_year_HadGEM2-ES_rcp85_2092/{z}/{x}/{y}.png', 'url': 'http://api.cal-adapt.org/api/rstores/tasmax_year_HadGEM2-ES_rcp85_2092/', 'image': 301.8422546386719, 'width': 179, 'height': 195, 'geom': {'type': 'Polygon', 'coordinates': [[[-124.5625, 31.5625], [-113.375, 31.5625], [-113.375, 43.75], [-124.5625, 43.75], [-124.5625, 31.5625]]]}, 'event': '2092-01-01', 'srs': 'GEOGCS[\"WGS 84\",DATUM[\"WGS_1984\",SPHEROID[\"WGS 84\",6378137,298.257223563,AUTHORITY[\"EPSG\",\"7030\"]],AUTHORITY[\"EPSG\",\"6326\"]],PRIMEM[\"Greenwich\",0],UNIT[\"degree\",0.0174532925199433],AUTHORITY[\"EPSG\",\"4326\"]]', 'minval': 283.2864074707031, 'maxval': 312.45745849609375, 'nodata': 1.0000000150474662e+30, 'xpixsize': 0.0625, 'ypixsize': -0.0625, 'name': 'yearly average maximum temperature HadGEM2-ES RCP 8.5', 'slug': 'tasmax_year_HadGEM2-ES_rcp85_2092', 'units': 'K'}, {'id': 12407, 'tileurl': 'http://api.cal-adapt.org/tiles/tasmax_year_HadGEM2-ES_rcp85_2093/{z}/{x}/{y}.png', 'url': 'http://api.cal-adapt.org/api/rstores/tasmax_year_HadGEM2-ES_rcp85_2093/', 'image': 302.63055419921875, 'width': 179, 'height': 195, 'geom': {'type': 'Polygon', 'coordinates': [[[-124.5625, 31.5625], [-113.375, 31.5625], [-113.375, 43.75], [-124.5625, 43.75], [-124.5625, 31.5625]]]}, 'event': '2093-01-01', 'srs': 'GEOGCS[\"WGS 84\",DATUM[\"WGS_1984\",SPHEROID[\"WGS 84\",6378137,298.257223563,AUTHORITY[\"EPSG\",\"7030\"]],AUTHORITY[\"EPSG\",\"6326\"]],PRIMEM[\"Greenwich\",0],UNIT[\"degree\",0.0174532925199433],AUTHORITY[\"EPSG\",\"4326\"]]', 'minval': 283.4081115722656, 'maxval': 312.2196044921875, 'nodata': 1.0000000150474662e+30, 'xpixsize': 0.0625, 'ypixsize': -0.0625, 'name': 'yearly average maximum temperature HadGEM2-ES RCP 8.5', 'slug': 'tasmax_year_HadGEM2-ES_rcp85_2093', 'units': 'K'}, {'id': 12408, 'tileurl': 'http://api.cal-adapt.org/tiles/tasmax_year_HadGEM2-ES_rcp85_2094/{z}/{x}/{y}.png', 'url': 'http://api.cal-adapt.org/api/rstores/tasmax_year_HadGEM2-ES_rcp85_2094/', 'image': 302.7132568359375, 'width': 179, 'height': 195, 'geom': {'type': 'Polygon', 'coordinates': [[[-124.5625, 31.5625], [-113.375, 31.5625], [-113.375, 43.75], [-124.5625, 43.75], [-124.5625, 31.5625]]]}, 'event': '2094-01-01', 'srs': 'GEOGCS[\"WGS 84\",DATUM[\"WGS_1984\",SPHEROID[\"WGS 84\",6378137,298.257223563,AUTHORITY[\"EPSG\",\"7030\"]],AUTHORITY[\"EPSG\",\"6326\"]],PRIMEM[\"Greenwich\",0],UNIT[\"degree\",0.0174532925199433],AUTHORITY[\"EPSG\",\"4326\"]]', 'minval': 283.55279541015625, 'maxval': 311.9481201171875, 'nodata': 1.0000000150474662e+30, 'xpixsize': 0.0625, 'ypixsize': -0.0625, 'name': 'yearly average maximum temperature HadGEM2-ES RCP 8.5', 'slug': 'tasmax_year_HadGEM2-ES_rcp85_2094', 'units': 'K'}, {'id': 12409, 'tileurl': 'http://api.cal-adapt.org/tiles/tasmax_year_HadGEM2-ES_rcp85_2095/{z}/{x}/{y}.png', 'url': 'http://api.cal-adapt.org/api/rstores/tasmax_year_HadGEM2-ES_rcp85_2095/', 'image': 302.7994079589844, 'width': 179, 'height': 195, 'geom': {'type': 'Polygon', 'coordinates': [[[-124.5625, 31.5625], [-113.375, 31.5625], [-113.375, 43.75], [-124.5625, 43.75], [-124.5625, 31.5625]]]}, 'event': '2095-01-01', 'srs': 'GEOGCS[\"WGS 84\",DATUM[\"WGS_1984\",SPHEROID[\"WGS 84\",6378137,298.257223563,AUTHORITY[\"EPSG\",\"7030\"]],AUTHORITY[\"EPSG\",\"6326\"]],PRIMEM[\"Greenwich\",0],UNIT[\"degree\",0.0174532925199433],AUTHORITY[\"EPSG\",\"4326\"]]', 'minval': 283.9764709472656, 'maxval': 312.4847106933594, 'nodata': 1.0000000150474662e+30, 'xpixsize': 0.0625, 'ypixsize': -0.0625, 'name': 'yearly average maximum temperature HadGEM2-ES RCP 8.5', 'slug': 'tasmax_year_HadGEM2-ES_rcp85_2095', 'units': 'K'}, {'id': 12410, 'tileurl': 'http://api.cal-adapt.org/tiles/tasmax_year_HadGEM2-ES_rcp85_2096/{z}/{x}/{y}.png', 'url': 'http://api.cal-adapt.org/api/rstores/tasmax_year_HadGEM2-ES_rcp85_2096/', 'image': 302.0478820800781, 'width': 179, 'height': 195, 'geom': {'type': 'Polygon', 'coordinates': [[[-124.5625, 31.5625], [-113.375, 31.5625], [-113.375, 43.75], [-124.5625, 43.75], [-124.5625, 31.5625]]]}, 'event': '2096-01-01', 'srs': 'GEOGCS[\"WGS 84\",DATUM[\"WGS_1984\",SPHEROID[\"WGS 84\",6378137,298.257223563,AUTHORITY[\"EPSG\",\"7030\"]],AUTHORITY[\"EPSG\",\"6326\"]],PRIMEM[\"Greenwich\",0],UNIT[\"degree\",0.0174532925199433],AUTHORITY[\"EPSG\",\"4326\"]]', 'minval': 282.8890380859375, 'maxval': 311.8640441894531, 'nodata': 1.0000000150474662e+30, 'xpixsize': 0.0625, 'ypixsize': -0.0625, 'name': 'yearly average maximum temperature HadGEM2-ES RCP 8.5', 'slug': 'tasmax_year_HadGEM2-ES_rcp85_2096', 'units': 'K'}, {'id': 12411, 'tileurl': 'http://api.cal-adapt.org/tiles/tasmax_year_HadGEM2-ES_rcp85_2097/{z}/{x}/{y}.png', 'url': 'http://api.cal-adapt.org/api/rstores/tasmax_year_HadGEM2-ES_rcp85_2097/', 'image': 301.5311279296875, 'width': 179, 'height': 195, 'geom': {'type': 'Polygon', 'coordinates': [[[-124.5625, 31.5625], [-113.375, 31.5625], [-113.375, 43.75], [-124.5625, 43.75], [-124.5625, 31.5625]]]}, 'event': '2097-01-01', 'srs': 'GEOGCS[\"WGS 84\",DATUM[\"WGS_1984\",SPHEROID[\"WGS 84\",6378137,298.257223563,AUTHORITY[\"EPSG\",\"7030\"]],AUTHORITY[\"EPSG\",\"6326\"]],PRIMEM[\"Greenwich\",0],UNIT[\"degree\",0.0174532925199433],AUTHORITY[\"EPSG\",\"4326\"]]', 'minval': 283.20648193359375, 'maxval': 311.46466064453125, 'nodata': 1.0000000150474662e+30, 'xpixsize': 0.0625, 'ypixsize': -0.0625, 'name': 'yearly average maximum temperature HadGEM2-ES RCP 8.5', 'slug': 'tasmax_year_HadGEM2-ES_rcp85_2097', 'units': 'K'}, {'id': 12412, 'tileurl': 'http://api.cal-adapt.org/tiles/tasmax_year_HadGEM2-ES_rcp85_2098/{z}/{x}/{y}.png', 'url': 'http://api.cal-adapt.org/api/rstores/tasmax_year_HadGEM2-ES_rcp85_2098/', 'image': 302.759521484375, 'width': 179, 'height': 195, 'geom': {'type': 'Polygon', 'coordinates': [[[-124.5625, 31.5625], [-113.375, 31.5625], [-113.375, 43.75], [-124.5625, 43.75], [-124.5625, 31.5625]]]}, 'event': '2098-01-01', 'srs': 'GEOGCS[\"WGS 84\",DATUM[\"WGS_1984\",SPHEROID[\"WGS 84\",6378137,298.257223563,AUTHORITY[\"EPSG\",\"7030\"]],AUTHORITY[\"EPSG\",\"6326\"]],PRIMEM[\"Greenwich\",0],UNIT[\"degree\",0.0174532925199433],AUTHORITY[\"EPSG\",\"4326\"]]', 'minval': 284.29962158203125, 'maxval': 313.227294921875, 'nodata': 1.0000000150474662e+30, 'xpixsize': 0.0625, 'ypixsize': -0.0625, 'name': 'yearly average maximum temperature HadGEM2-ES RCP 8.5', 'slug': 'tasmax_year_HadGEM2-ES_rcp85_2098', 'units': 'K'}, {'id': 12413, 'tileurl': 'http://api.cal-adapt.org/tiles/tasmax_year_HadGEM2-ES_rcp85_2099/{z}/{x}/{y}.png', 'url': 'http://api.cal-adapt.org/api/rstores/tasmax_year_HadGEM2-ES_rcp85_2099/', 'image': 301.85040283203125, 'width': 179, 'height': 195, 'geom': {'type': 'Polygon', 'coordinates': [[[-124.5625, 31.5625], [-113.375, 31.5625], [-113.375, 43.75], [-124.5625, 43.75], [-124.5625, 31.5625]]]}, 'event': '2099-01-01', 'srs': 'GEOGCS[\"WGS 84\",DATUM[\"WGS_1984\",SPHEROID[\"WGS 84\",6378137,298.257223563,AUTHORITY[\"EPSG\",\"7030\"]],AUTHORITY[\"EPSG\",\"6326\"]],PRIMEM[\"Greenwich\",0],UNIT[\"degree\",0.0174532925199433],AUTHORITY[\"EPSG\",\"4326\"]]', 'minval': 283.5467529296875, 'maxval': 312.40740966796875, 'nodata': 1.0000000150474662e+30, 'xpixsize': 0.0625, 'ypixsize': -0.0625, 'name': 'yearly average maximum temperature HadGEM2-ES RCP 8.5', 'slug': 'tasmax_year_HadGEM2-ES_rcp85_2099', 'units': 'K'}]\n"
     ]
    }
   ],
   "source": [
    "data = None\n",
    "\n",
    "url = model_ts['url'] +  period + '/?' + params_str\n",
    "print(url)\n",
    "\n",
    "response = requests.get(url, headers=headers)\n",
    "if response.status_code == requests.codes.ok:\n",
    "    json = response.json()\n",
    "    data = json['results']\n",
    "    print(data)"
   ]
  },
  {
   "cell_type": "markdown",
   "metadata": {
    "deletable": true,
    "editable": true
   },
   "source": [
    "### Create pandas dataframe from data."
   ]
  },
  {
   "cell_type": "code",
   "execution_count": 10,
   "metadata": {
    "collapsed": false,
    "deletable": true,
    "editable": true,
    "scrolled": true
   },
   "outputs": [
    {
     "data": {
      "text/html": [
       "<div>\n",
       "<table border=\"1\" class=\"dataframe\">\n",
       "  <thead>\n",
       "    <tr style=\"text-align: right;\">\n",
       "      <th></th>\n",
       "      <th>geom</th>\n",
       "      <th>height</th>\n",
       "      <th>id</th>\n",
       "      <th>image</th>\n",
       "      <th>maxval</th>\n",
       "      <th>minval</th>\n",
       "      <th>name</th>\n",
       "      <th>nodata</th>\n",
       "      <th>slug</th>\n",
       "      <th>srs</th>\n",
       "      <th>tileurl</th>\n",
       "      <th>units</th>\n",
       "      <th>url</th>\n",
       "      <th>width</th>\n",
       "      <th>xpixsize</th>\n",
       "      <th>ypixsize</th>\n",
       "    </tr>\n",
       "    <tr>\n",
       "      <th>event</th>\n",
       "      <th></th>\n",
       "      <th></th>\n",
       "      <th></th>\n",
       "      <th></th>\n",
       "      <th></th>\n",
       "      <th></th>\n",
       "      <th></th>\n",
       "      <th></th>\n",
       "      <th></th>\n",
       "      <th></th>\n",
       "      <th></th>\n",
       "      <th></th>\n",
       "      <th></th>\n",
       "      <th></th>\n",
       "      <th></th>\n",
       "      <th></th>\n",
       "    </tr>\n",
       "  </thead>\n",
       "  <tbody>\n",
       "    <tr>\n",
       "      <th>2006-01-01</th>\n",
       "      <td>{'type': 'Polygon', 'coordinates': [[[-124.562...</td>\n",
       "      <td>195</td>\n",
       "      <td>12320</td>\n",
       "      <td>297.077057</td>\n",
       "      <td>306.680267</td>\n",
       "      <td>277.294617</td>\n",
       "      <td>yearly average maximum temperature HadGEM2-ES ...</td>\n",
       "      <td>1.000000e+30</td>\n",
       "      <td>tasmax_year_HadGEM2-ES_rcp85_2006</td>\n",
       "      <td>GEOGCS[\"WGS 84\",DATUM[\"WGS_1984\",SPHEROID[\"WGS...</td>\n",
       "      <td>http://api.cal-adapt.org/tiles/tasmax_year_Had...</td>\n",
       "      <td>K</td>\n",
       "      <td>http://api.cal-adapt.org/api/rstores/tasmax_ye...</td>\n",
       "      <td>179</td>\n",
       "      <td>0.0625</td>\n",
       "      <td>-0.0625</td>\n",
       "    </tr>\n",
       "    <tr>\n",
       "      <th>2007-01-01</th>\n",
       "      <td>{'type': 'Polygon', 'coordinates': [[[-124.562...</td>\n",
       "      <td>195</td>\n",
       "      <td>12321</td>\n",
       "      <td>298.839325</td>\n",
       "      <td>306.515289</td>\n",
       "      <td>279.461761</td>\n",
       "      <td>yearly average maximum temperature HadGEM2-ES ...</td>\n",
       "      <td>1.000000e+30</td>\n",
       "      <td>tasmax_year_HadGEM2-ES_rcp85_2007</td>\n",
       "      <td>GEOGCS[\"WGS 84\",DATUM[\"WGS_1984\",SPHEROID[\"WGS...</td>\n",
       "      <td>http://api.cal-adapt.org/tiles/tasmax_year_Had...</td>\n",
       "      <td>K</td>\n",
       "      <td>http://api.cal-adapt.org/api/rstores/tasmax_ye...</td>\n",
       "      <td>179</td>\n",
       "      <td>0.0625</td>\n",
       "      <td>-0.0625</td>\n",
       "    </tr>\n",
       "    <tr>\n",
       "      <th>2008-01-01</th>\n",
       "      <td>{'type': 'Polygon', 'coordinates': [[[-124.562...</td>\n",
       "      <td>195</td>\n",
       "      <td>12322</td>\n",
       "      <td>297.425262</td>\n",
       "      <td>306.392303</td>\n",
       "      <td>277.135956</td>\n",
       "      <td>yearly average maximum temperature HadGEM2-ES ...</td>\n",
       "      <td>1.000000e+30</td>\n",
       "      <td>tasmax_year_HadGEM2-ES_rcp85_2008</td>\n",
       "      <td>GEOGCS[\"WGS 84\",DATUM[\"WGS_1984\",SPHEROID[\"WGS...</td>\n",
       "      <td>http://api.cal-adapt.org/tiles/tasmax_year_Had...</td>\n",
       "      <td>K</td>\n",
       "      <td>http://api.cal-adapt.org/api/rstores/tasmax_ye...</td>\n",
       "      <td>179</td>\n",
       "      <td>0.0625</td>\n",
       "      <td>-0.0625</td>\n",
       "    </tr>\n",
       "    <tr>\n",
       "      <th>2009-01-01</th>\n",
       "      <td>{'type': 'Polygon', 'coordinates': [[[-124.562...</td>\n",
       "      <td>195</td>\n",
       "      <td>12323</td>\n",
       "      <td>297.414825</td>\n",
       "      <td>306.001038</td>\n",
       "      <td>277.822418</td>\n",
       "      <td>yearly average maximum temperature HadGEM2-ES ...</td>\n",
       "      <td>1.000000e+30</td>\n",
       "      <td>tasmax_year_HadGEM2-ES_rcp85_2009</td>\n",
       "      <td>GEOGCS[\"WGS 84\",DATUM[\"WGS_1984\",SPHEROID[\"WGS...</td>\n",
       "      <td>http://api.cal-adapt.org/tiles/tasmax_year_Had...</td>\n",
       "      <td>K</td>\n",
       "      <td>http://api.cal-adapt.org/api/rstores/tasmax_ye...</td>\n",
       "      <td>179</td>\n",
       "      <td>0.0625</td>\n",
       "      <td>-0.0625</td>\n",
       "    </tr>\n",
       "    <tr>\n",
       "      <th>2010-01-01</th>\n",
       "      <td>{'type': 'Polygon', 'coordinates': [[[-124.562...</td>\n",
       "      <td>195</td>\n",
       "      <td>12324</td>\n",
       "      <td>296.677643</td>\n",
       "      <td>305.385651</td>\n",
       "      <td>277.153900</td>\n",
       "      <td>yearly average maximum temperature HadGEM2-ES ...</td>\n",
       "      <td>1.000000e+30</td>\n",
       "      <td>tasmax_year_HadGEM2-ES_rcp85_2010</td>\n",
       "      <td>GEOGCS[\"WGS 84\",DATUM[\"WGS_1984\",SPHEROID[\"WGS...</td>\n",
       "      <td>http://api.cal-adapt.org/tiles/tasmax_year_Had...</td>\n",
       "      <td>K</td>\n",
       "      <td>http://api.cal-adapt.org/api/rstores/tasmax_ye...</td>\n",
       "      <td>179</td>\n",
       "      <td>0.0625</td>\n",
       "      <td>-0.0625</td>\n",
       "    </tr>\n",
       "  </tbody>\n",
       "</table>\n",
       "</div>"
      ],
      "text/plain": [
       "                                                         geom  height     id  \\\n",
       "event                                                                          \n",
       "2006-01-01  {'type': 'Polygon', 'coordinates': [[[-124.562...     195  12320   \n",
       "2007-01-01  {'type': 'Polygon', 'coordinates': [[[-124.562...     195  12321   \n",
       "2008-01-01  {'type': 'Polygon', 'coordinates': [[[-124.562...     195  12322   \n",
       "2009-01-01  {'type': 'Polygon', 'coordinates': [[[-124.562...     195  12323   \n",
       "2010-01-01  {'type': 'Polygon', 'coordinates': [[[-124.562...     195  12324   \n",
       "\n",
       "                 image      maxval      minval  \\\n",
       "event                                            \n",
       "2006-01-01  297.077057  306.680267  277.294617   \n",
       "2007-01-01  298.839325  306.515289  279.461761   \n",
       "2008-01-01  297.425262  306.392303  277.135956   \n",
       "2009-01-01  297.414825  306.001038  277.822418   \n",
       "2010-01-01  296.677643  305.385651  277.153900   \n",
       "\n",
       "                                                         name        nodata  \\\n",
       "event                                                                         \n",
       "2006-01-01  yearly average maximum temperature HadGEM2-ES ...  1.000000e+30   \n",
       "2007-01-01  yearly average maximum temperature HadGEM2-ES ...  1.000000e+30   \n",
       "2008-01-01  yearly average maximum temperature HadGEM2-ES ...  1.000000e+30   \n",
       "2009-01-01  yearly average maximum temperature HadGEM2-ES ...  1.000000e+30   \n",
       "2010-01-01  yearly average maximum temperature HadGEM2-ES ...  1.000000e+30   \n",
       "\n",
       "                                         slug  \\\n",
       "event                                           \n",
       "2006-01-01  tasmax_year_HadGEM2-ES_rcp85_2006   \n",
       "2007-01-01  tasmax_year_HadGEM2-ES_rcp85_2007   \n",
       "2008-01-01  tasmax_year_HadGEM2-ES_rcp85_2008   \n",
       "2009-01-01  tasmax_year_HadGEM2-ES_rcp85_2009   \n",
       "2010-01-01  tasmax_year_HadGEM2-ES_rcp85_2010   \n",
       "\n",
       "                                                          srs  \\\n",
       "event                                                           \n",
       "2006-01-01  GEOGCS[\"WGS 84\",DATUM[\"WGS_1984\",SPHEROID[\"WGS...   \n",
       "2007-01-01  GEOGCS[\"WGS 84\",DATUM[\"WGS_1984\",SPHEROID[\"WGS...   \n",
       "2008-01-01  GEOGCS[\"WGS 84\",DATUM[\"WGS_1984\",SPHEROID[\"WGS...   \n",
       "2009-01-01  GEOGCS[\"WGS 84\",DATUM[\"WGS_1984\",SPHEROID[\"WGS...   \n",
       "2010-01-01  GEOGCS[\"WGS 84\",DATUM[\"WGS_1984\",SPHEROID[\"WGS...   \n",
       "\n",
       "                                                      tileurl units  \\\n",
       "event                                                                 \n",
       "2006-01-01  http://api.cal-adapt.org/tiles/tasmax_year_Had...     K   \n",
       "2007-01-01  http://api.cal-adapt.org/tiles/tasmax_year_Had...     K   \n",
       "2008-01-01  http://api.cal-adapt.org/tiles/tasmax_year_Had...     K   \n",
       "2009-01-01  http://api.cal-adapt.org/tiles/tasmax_year_Had...     K   \n",
       "2010-01-01  http://api.cal-adapt.org/tiles/tasmax_year_Had...     K   \n",
       "\n",
       "                                                          url  width  \\\n",
       "event                                                                  \n",
       "2006-01-01  http://api.cal-adapt.org/api/rstores/tasmax_ye...    179   \n",
       "2007-01-01  http://api.cal-adapt.org/api/rstores/tasmax_ye...    179   \n",
       "2008-01-01  http://api.cal-adapt.org/api/rstores/tasmax_ye...    179   \n",
       "2009-01-01  http://api.cal-adapt.org/api/rstores/tasmax_ye...    179   \n",
       "2010-01-01  http://api.cal-adapt.org/api/rstores/tasmax_ye...    179   \n",
       "\n",
       "            xpixsize  ypixsize  \n",
       "event                           \n",
       "2006-01-01    0.0625   -0.0625  \n",
       "2007-01-01    0.0625   -0.0625  \n",
       "2008-01-01    0.0625   -0.0625  \n",
       "2009-01-01    0.0625   -0.0625  \n",
       "2010-01-01    0.0625   -0.0625  "
      ]
     },
     "execution_count": 10,
     "metadata": {},
     "output_type": "execute_result"
    }
   ],
   "source": [
    "import pandas as pd\n",
    "\n",
    "df = pd.DataFrame.from_records([s for s in data])\n",
    "# Change format of `event` field from string to datetime\n",
    "df['event'] = pd.to_datetime(df['event'], format='%Y-%m-%d')\n",
    "# Set event field as index\n",
    "df = df.set_index(['event'])\n",
    "df.head()"
   ]
  },
  {
   "cell_type": "markdown",
   "metadata": {
    "deletable": true,
    "editable": true
   },
   "source": [
    "### Filter dataframe for years 2031 - 2060"
   ]
  },
  {
   "cell_type": "code",
   "execution_count": 11,
   "metadata": {
    "collapsed": false,
    "deletable": true,
    "editable": true,
    "scrolled": true
   },
   "outputs": [
    {
     "data": {
      "text/html": [
       "<div>\n",
       "<table border=\"1\" class=\"dataframe\">\n",
       "  <thead>\n",
       "    <tr style=\"text-align: right;\">\n",
       "      <th></th>\n",
       "      <th>geom</th>\n",
       "      <th>height</th>\n",
       "      <th>id</th>\n",
       "      <th>image</th>\n",
       "      <th>maxval</th>\n",
       "      <th>minval</th>\n",
       "      <th>name</th>\n",
       "      <th>nodata</th>\n",
       "      <th>slug</th>\n",
       "      <th>srs</th>\n",
       "      <th>tileurl</th>\n",
       "      <th>units</th>\n",
       "      <th>url</th>\n",
       "      <th>width</th>\n",
       "      <th>xpixsize</th>\n",
       "      <th>ypixsize</th>\n",
       "    </tr>\n",
       "    <tr>\n",
       "      <th>event</th>\n",
       "      <th></th>\n",
       "      <th></th>\n",
       "      <th></th>\n",
       "      <th></th>\n",
       "      <th></th>\n",
       "      <th></th>\n",
       "      <th></th>\n",
       "      <th></th>\n",
       "      <th></th>\n",
       "      <th></th>\n",
       "      <th></th>\n",
       "      <th></th>\n",
       "      <th></th>\n",
       "      <th></th>\n",
       "      <th></th>\n",
       "      <th></th>\n",
       "    </tr>\n",
       "  </thead>\n",
       "  <tbody>\n",
       "    <tr>\n",
       "      <th>2031-01-01</th>\n",
       "      <td>{'type': 'Polygon', 'coordinates': [[[-124.562...</td>\n",
       "      <td>195</td>\n",
       "      <td>12345</td>\n",
       "      <td>298.168671</td>\n",
       "      <td>307.710938</td>\n",
       "      <td>278.883209</td>\n",
       "      <td>yearly average maximum temperature HadGEM2-ES ...</td>\n",
       "      <td>1.000000e+30</td>\n",
       "      <td>tasmax_year_HadGEM2-ES_rcp85_2031</td>\n",
       "      <td>GEOGCS[\"WGS 84\",DATUM[\"WGS_1984\",SPHEROID[\"WGS...</td>\n",
       "      <td>http://api.cal-adapt.org/tiles/tasmax_year_Had...</td>\n",
       "      <td>K</td>\n",
       "      <td>http://api.cal-adapt.org/api/rstores/tasmax_ye...</td>\n",
       "      <td>179</td>\n",
       "      <td>0.0625</td>\n",
       "      <td>-0.0625</td>\n",
       "    </tr>\n",
       "    <tr>\n",
       "      <th>2032-01-01</th>\n",
       "      <td>{'type': 'Polygon', 'coordinates': [[[-124.562...</td>\n",
       "      <td>195</td>\n",
       "      <td>12346</td>\n",
       "      <td>299.460297</td>\n",
       "      <td>308.421173</td>\n",
       "      <td>279.548584</td>\n",
       "      <td>yearly average maximum temperature HadGEM2-ES ...</td>\n",
       "      <td>1.000000e+30</td>\n",
       "      <td>tasmax_year_HadGEM2-ES_rcp85_2032</td>\n",
       "      <td>GEOGCS[\"WGS 84\",DATUM[\"WGS_1984\",SPHEROID[\"WGS...</td>\n",
       "      <td>http://api.cal-adapt.org/tiles/tasmax_year_Had...</td>\n",
       "      <td>K</td>\n",
       "      <td>http://api.cal-adapt.org/api/rstores/tasmax_ye...</td>\n",
       "      <td>179</td>\n",
       "      <td>0.0625</td>\n",
       "      <td>-0.0625</td>\n",
       "    </tr>\n",
       "    <tr>\n",
       "      <th>2033-01-01</th>\n",
       "      <td>{'type': 'Polygon', 'coordinates': [[[-124.562...</td>\n",
       "      <td>195</td>\n",
       "      <td>12347</td>\n",
       "      <td>298.551941</td>\n",
       "      <td>306.917236</td>\n",
       "      <td>279.081390</td>\n",
       "      <td>yearly average maximum temperature HadGEM2-ES ...</td>\n",
       "      <td>1.000000e+30</td>\n",
       "      <td>tasmax_year_HadGEM2-ES_rcp85_2033</td>\n",
       "      <td>GEOGCS[\"WGS 84\",DATUM[\"WGS_1984\",SPHEROID[\"WGS...</td>\n",
       "      <td>http://api.cal-adapt.org/tiles/tasmax_year_Had...</td>\n",
       "      <td>K</td>\n",
       "      <td>http://api.cal-adapt.org/api/rstores/tasmax_ye...</td>\n",
       "      <td>179</td>\n",
       "      <td>0.0625</td>\n",
       "      <td>-0.0625</td>\n",
       "    </tr>\n",
       "    <tr>\n",
       "      <th>2034-01-01</th>\n",
       "      <td>{'type': 'Polygon', 'coordinates': [[[-124.562...</td>\n",
       "      <td>195</td>\n",
       "      <td>12348</td>\n",
       "      <td>299.920319</td>\n",
       "      <td>308.820526</td>\n",
       "      <td>280.245483</td>\n",
       "      <td>yearly average maximum temperature HadGEM2-ES ...</td>\n",
       "      <td>1.000000e+30</td>\n",
       "      <td>tasmax_year_HadGEM2-ES_rcp85_2034</td>\n",
       "      <td>GEOGCS[\"WGS 84\",DATUM[\"WGS_1984\",SPHEROID[\"WGS...</td>\n",
       "      <td>http://api.cal-adapt.org/tiles/tasmax_year_Had...</td>\n",
       "      <td>K</td>\n",
       "      <td>http://api.cal-adapt.org/api/rstores/tasmax_ye...</td>\n",
       "      <td>179</td>\n",
       "      <td>0.0625</td>\n",
       "      <td>-0.0625</td>\n",
       "    </tr>\n",
       "    <tr>\n",
       "      <th>2035-01-01</th>\n",
       "      <td>{'type': 'Polygon', 'coordinates': [[[-124.562...</td>\n",
       "      <td>195</td>\n",
       "      <td>12349</td>\n",
       "      <td>299.189911</td>\n",
       "      <td>308.117859</td>\n",
       "      <td>278.713013</td>\n",
       "      <td>yearly average maximum temperature HadGEM2-ES ...</td>\n",
       "      <td>1.000000e+30</td>\n",
       "      <td>tasmax_year_HadGEM2-ES_rcp85_2035</td>\n",
       "      <td>GEOGCS[\"WGS 84\",DATUM[\"WGS_1984\",SPHEROID[\"WGS...</td>\n",
       "      <td>http://api.cal-adapt.org/tiles/tasmax_year_Had...</td>\n",
       "      <td>K</td>\n",
       "      <td>http://api.cal-adapt.org/api/rstores/tasmax_ye...</td>\n",
       "      <td>179</td>\n",
       "      <td>0.0625</td>\n",
       "      <td>-0.0625</td>\n",
       "    </tr>\n",
       "  </tbody>\n",
       "</table>\n",
       "</div>"
      ],
      "text/plain": [
       "                                                         geom  height     id  \\\n",
       "event                                                                          \n",
       "2031-01-01  {'type': 'Polygon', 'coordinates': [[[-124.562...     195  12345   \n",
       "2032-01-01  {'type': 'Polygon', 'coordinates': [[[-124.562...     195  12346   \n",
       "2033-01-01  {'type': 'Polygon', 'coordinates': [[[-124.562...     195  12347   \n",
       "2034-01-01  {'type': 'Polygon', 'coordinates': [[[-124.562...     195  12348   \n",
       "2035-01-01  {'type': 'Polygon', 'coordinates': [[[-124.562...     195  12349   \n",
       "\n",
       "                 image      maxval      minval  \\\n",
       "event                                            \n",
       "2031-01-01  298.168671  307.710938  278.883209   \n",
       "2032-01-01  299.460297  308.421173  279.548584   \n",
       "2033-01-01  298.551941  306.917236  279.081390   \n",
       "2034-01-01  299.920319  308.820526  280.245483   \n",
       "2035-01-01  299.189911  308.117859  278.713013   \n",
       "\n",
       "                                                         name        nodata  \\\n",
       "event                                                                         \n",
       "2031-01-01  yearly average maximum temperature HadGEM2-ES ...  1.000000e+30   \n",
       "2032-01-01  yearly average maximum temperature HadGEM2-ES ...  1.000000e+30   \n",
       "2033-01-01  yearly average maximum temperature HadGEM2-ES ...  1.000000e+30   \n",
       "2034-01-01  yearly average maximum temperature HadGEM2-ES ...  1.000000e+30   \n",
       "2035-01-01  yearly average maximum temperature HadGEM2-ES ...  1.000000e+30   \n",
       "\n",
       "                                         slug  \\\n",
       "event                                           \n",
       "2031-01-01  tasmax_year_HadGEM2-ES_rcp85_2031   \n",
       "2032-01-01  tasmax_year_HadGEM2-ES_rcp85_2032   \n",
       "2033-01-01  tasmax_year_HadGEM2-ES_rcp85_2033   \n",
       "2034-01-01  tasmax_year_HadGEM2-ES_rcp85_2034   \n",
       "2035-01-01  tasmax_year_HadGEM2-ES_rcp85_2035   \n",
       "\n",
       "                                                          srs  \\\n",
       "event                                                           \n",
       "2031-01-01  GEOGCS[\"WGS 84\",DATUM[\"WGS_1984\",SPHEROID[\"WGS...   \n",
       "2032-01-01  GEOGCS[\"WGS 84\",DATUM[\"WGS_1984\",SPHEROID[\"WGS...   \n",
       "2033-01-01  GEOGCS[\"WGS 84\",DATUM[\"WGS_1984\",SPHEROID[\"WGS...   \n",
       "2034-01-01  GEOGCS[\"WGS 84\",DATUM[\"WGS_1984\",SPHEROID[\"WGS...   \n",
       "2035-01-01  GEOGCS[\"WGS 84\",DATUM[\"WGS_1984\",SPHEROID[\"WGS...   \n",
       "\n",
       "                                                      tileurl units  \\\n",
       "event                                                                 \n",
       "2031-01-01  http://api.cal-adapt.org/tiles/tasmax_year_Had...     K   \n",
       "2032-01-01  http://api.cal-adapt.org/tiles/tasmax_year_Had...     K   \n",
       "2033-01-01  http://api.cal-adapt.org/tiles/tasmax_year_Had...     K   \n",
       "2034-01-01  http://api.cal-adapt.org/tiles/tasmax_year_Had...     K   \n",
       "2035-01-01  http://api.cal-adapt.org/tiles/tasmax_year_Had...     K   \n",
       "\n",
       "                                                          url  width  \\\n",
       "event                                                                  \n",
       "2031-01-01  http://api.cal-adapt.org/api/rstores/tasmax_ye...    179   \n",
       "2032-01-01  http://api.cal-adapt.org/api/rstores/tasmax_ye...    179   \n",
       "2033-01-01  http://api.cal-adapt.org/api/rstores/tasmax_ye...    179   \n",
       "2034-01-01  http://api.cal-adapt.org/api/rstores/tasmax_ye...    179   \n",
       "2035-01-01  http://api.cal-adapt.org/api/rstores/tasmax_ye...    179   \n",
       "\n",
       "            xpixsize  ypixsize  \n",
       "event                           \n",
       "2031-01-01    0.0625   -0.0625  \n",
       "2032-01-01    0.0625   -0.0625  \n",
       "2033-01-01    0.0625   -0.0625  \n",
       "2034-01-01    0.0625   -0.0625  \n",
       "2035-01-01    0.0625   -0.0625  "
      ]
     },
     "execution_count": 11,
     "metadata": {},
     "output_type": "execute_result"
    }
   ],
   "source": [
    "filtered = df.ix['2031-01-01':'2060-01-01']\n",
    "filtered.head()"
   ]
  },
  {
   "cell_type": "markdown",
   "metadata": {
    "deletable": true,
    "editable": true
   },
   "source": [
    "#### The `image` field contains the value for climate variable, in this case maximum temeperature. The `units` field indicates units for the data, in this case Kelvin. Calculate average temperature."
   ]
  },
  {
   "cell_type": "code",
   "execution_count": 12,
   "metadata": {
    "collapsed": false,
    "deletable": true,
    "editable": true
   },
   "outputs": [
    {
     "data": {
      "text/plain": [
       "299.5190012613932"
      ]
     },
     "execution_count": 12,
     "metadata": {},
     "output_type": "execute_result"
    }
   ],
   "source": [
    "avgK = filtered['image'].mean()\n",
    "avgK"
   ]
  },
  {
   "cell_type": "markdown",
   "metadata": {
    "deletable": true,
    "editable": true
   },
   "source": [
    "Convert to degrees Fahrenheit"
   ]
  },
  {
   "cell_type": "code",
   "execution_count": 13,
   "metadata": {
    "collapsed": false,
    "deletable": true,
    "editable": true
   },
   "outputs": [
    {
     "name": "stdout",
     "output_type": "stream",
     "text": [
      "yearly average maximum temperature HadGEM2-ES RCP 8.5\n",
      "2031-2060 Average - 79.5 degrees Fahrenheit\n"
     ]
    }
   ],
   "source": [
    "avgF = (avgK * 9/5) - 459.67\n",
    "print(model_ts['name'])\n",
    "print('2031-2060 Average -', round(avgF, 1), 'degrees Fahrenheit', sep = ' ')"
   ]
  },
  {
   "cell_type": "markdown",
   "metadata": {
    "deletable": true,
    "editable": true
   },
   "source": [
    "### Note:\n",
    "* The Livneh timeseries (1950 -2013) contains the historical observed data \n",
    "* The modeled projections are available for two different periods:\n",
    "    * One historical hindcast period from 1950-2005\n",
    "    * Two future scenarios RCP 4.5 and RCP 8.5 from 2006–2100 (although some models stop in 2099).\n",
    "* Additionally, an envelope of modeled variability was generated by selecting the highest and lowest values from annual averages of all 32 LOCA downscaled climate models. This envelope is available as two different timeseries:\n",
    "    * Modelled Variability Envelope (Max)\n",
    "    * Modelled Variability Envelope (Min)"
   ]
  },
  {
   "cell_type": "code",
   "execution_count": 14,
   "metadata": {
    "collapsed": false,
    "deletable": true,
    "editable": true
   },
   "outputs": [
    {
     "name": "stdout",
     "output_type": "stream",
     "text": [
      "maximum allmodels maximum temperature historical\n",
      "maximum allmodels maximum temperature RCP 4.5\n",
      "maximum allmodels maximum temperature RCP 8.5\n",
      "minimum allmodels maximum temperature historical\n",
      "minimum allmodels maximum temperature RCP 4.5\n",
      "minimum allmodels maximum temperature RCP 8.5\n"
     ]
    }
   ],
   "source": [
    "search_str = 'allmodels+maximum+temperature'\n",
    "params = {'name': search_str, 'pagesize': 10}\n",
    "params_str = \"&\".join(\"%s=%s\" % (k,v) for k,v in params.items())\n",
    "url = api + '/' + resource + '/' + '?' + params_str\n",
    "response = requests.get(url, headers=headers)\n",
    "if response.status_code == requests.codes.ok:\n",
    "    data = response.json()\n",
    "    timeseries = data['results']\n",
    "    for item in timeseries:\n",
    "        print(item['name'])"
   ]
  },
  {
   "cell_type": "code",
   "execution_count": null,
   "metadata": {
    "collapsed": true,
    "deletable": true,
    "editable": true
   },
   "outputs": [],
   "source": []
  }
 ],
 "metadata": {
  "kernelspec": {
   "display_name": "Python 3",
   "language": "python",
   "name": "python3"
  },
  "language_info": {
   "codemirror_mode": {
    "name": "ipython",
    "version": 3
   },
   "file_extension": ".py",
   "mimetype": "text/x-python",
   "name": "python",
   "nbconvert_exporter": "python",
   "pygments_lexer": "ipython3",
   "version": "3.6.0"
  }
 },
 "nbformat": 4,
 "nbformat_minor": 2
}

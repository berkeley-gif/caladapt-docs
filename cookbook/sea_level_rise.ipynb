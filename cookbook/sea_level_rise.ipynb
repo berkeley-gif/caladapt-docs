{
 "cells": [
  {
   "cell_type": "markdown",
   "metadata": {},
   "source": [
    "# Working with Sea Level Rise data in Cal-Adapt API"
   ]
  },
  {
   "cell_type": "code",
   "execution_count": 1,
   "metadata": {
    "collapsed": false
   },
   "outputs": [],
   "source": [
    "import requests \n",
    "import json\n",
    "headers = {'ContentType': 'json'}\n",
    "\n",
    "api = 'http://api.cal-adapt.org/api'\n",
    "resource = 'rstores'"
   ]
  },
  {
   "cell_type": "markdown",
   "metadata": {},
   "source": [
    "### Get a list of sea level rise datasets from Cal-Adapt API"
   ]
  },
  {
   "cell_type": "code",
   "execution_count": 2,
   "metadata": {
    "collapsed": false
   },
   "outputs": [
    {
     "data": {
      "text/plain": [
       "'http://api.cal-adapt.org/api/rstores/?name=Sea+Level+Rise&pagesize=20'"
      ]
     },
     "execution_count": 2,
     "metadata": {},
     "output_type": "execute_result"
    }
   ],
   "source": [
    "search_str = 'Sea+Level+Rise'\n",
    "params = {'name': search_str, 'pagesize': 20}\n",
    "url = '%s/%s/' % (api, resource)"
   ]
  },
  {
   "cell_type": "code",
   "execution_count": 3,
   "metadata": {
    "collapsed": false
   },
   "outputs": [
    {
     "name": "stdout",
     "output_type": "stream",
     "text": [
      "http://api.cal-adapt.org/api/rstores/slr_coast_0_0m_jdr/ Coast Mosaic Sea Level Rise 0.0m\n",
      "http://api.cal-adapt.org/api/rstores/slr_coast_0_5m_jdr/ Coast Mosaic Sea Level Rise 0.5m\n",
      "http://api.cal-adapt.org/api/rstores/slr_coast_1_0m_jdr/ Coast Mosaic Sea Level Rise 1.0m\n",
      "http://api.cal-adapt.org/api/rstores/slr_coast_1_41m_jdr/ Coast Mosaic Sea Level Rise 1.41m\n",
      "http://api.cal-adapt.org/api/rstores/slr_delta_0_0m_jdr/ Delta Sea Level Rise 0.0m\n",
      "http://api.cal-adapt.org/api/rstores/slr_delta_0_5m_jdr/ Delta Sea Level Rise 0.5m\n",
      "http://api.cal-adapt.org/api/rstores/slr_delta_1_0m_jdr/ Delta Sea Level Rise 1.0m\n",
      "http://api.cal-adapt.org/api/rstores/slr_delta_1_41m_jdr/ Delta Sea Level Rise 1.41m\n",
      "http://api.cal-adapt.org/api/rstores/slr_sfbay_0_0m_jdr/ San Francisco Bay Sea Level Rise 0.0m\n",
      "http://api.cal-adapt.org/api/rstores/slr_sfbay_0_5m_jdr/ San Francisco Bay Sea Level Rise 0.5m\n",
      "http://api.cal-adapt.org/api/rstores/slr_sfbay_1_0m_jdr/ San Francisco Bay Sea Level Rise 1.0m\n",
      "http://api.cal-adapt.org/api/rstores/slr_sfbay_1_41m_jdr/ San Francisco Bay Sea Level Rise 1.41m\n"
     ]
    }
   ],
   "source": [
    "response = requests.get(url, params, headers=headers)\n",
    "data = response.json()\n",
    "results = data['results']\n",
    "for item in results:\n",
    "    print(item['url'], item['name'])"
   ]
  },
  {
   "cell_type": "markdown",
   "metadata": {},
   "source": [
    "### Generate parameter for your location"
   ]
  },
  {
   "cell_type": "code",
   "execution_count": 4,
   "metadata": {
    "collapsed": false
   },
   "outputs": [],
   "source": [
    "coord = (-121.4687, 38.5938)\n",
    "point = '{\"type\":\"Point\",\"coordinates\":[%s,%s]}' % coord #geojson format\n",
    "point = 'POINT(%s %s)' % coord #WKT format"
   ]
  },
  {
   "cell_type": "markdown",
   "metadata": {},
   "source": [
    "### Query SLR datasets for your location"
   ]
  },
  {
   "cell_type": "code",
   "execution_count": 5,
   "metadata": {
    "collapsed": false
   },
   "outputs": [
    {
     "name": "stdout",
     "output_type": "stream",
     "text": [
      "Depth of flooding depth (meters) for point location: 38.106914 -121.456679\n",
      "\n",
      "Coast Mosaic Sea Level Rise 0.0m - No Data\n",
      "Coast Mosaic Sea Level Rise 0.5m - No Data\n",
      "Coast Mosaic Sea Level Rise 1.0m - No Data\n",
      "Coast Mosaic Sea Level Rise 1.41m - No Data\n",
      "Delta Sea Level Rise 0.0m - 0.8650000095367432\n",
      "Delta Sea Level Rise 0.5m - 0.949999988079071\n",
      "Delta Sea Level Rise 1.0m - 6.008999824523926\n",
      "Delta Sea Level Rise 1.41m - 7.077000141143799\n",
      "San Francisco Bay Sea Level Rise 0.0m - Outside extent\n",
      "San Francisco Bay Sea Level Rise 0.5m - Outside extent\n",
      "San Francisco Bay Sea Level Rise 1.0m - Outside extent\n",
      "San Francisco Bay Sea Level Rise 1.41m - Outside extent\n"
     ]
    }
   ],
   "source": [
    "params = {'g': point}\n",
    "print('Depth of flooding depth (meters) for point location:', coord)\n",
    "print()\n",
    "for item in results:\n",
    "    response = requests.get(url, params, headers=headers)\n",
    "    # Request will return a server error if point is outside spatial extent of SLR dataset\n",
    "    if response.ok:\n",
    "        data = response.json()\n",
    "        if float(data['image']) == float(data['nodata']):\n",
    "            print(item['name'], 'No Data', sep=' - ')\n",
    "        else:\n",
    "            print(item['name'], data['image'], sep=' - ')\n",
    "    else:\n",
    "        print(item['name'], 'Outside extent', sep=' - ')"
   ]
  },
  {
   "cell_type": "markdown",
   "metadata": {},
   "source": [
    "### Notes:\n",
    "* The `image` field contains the value for Sea Level Rise. If the location does not have any Sea Level Rise, the `image` field will have the same value as the `nodata` field\n",
    "* Cal-Adapt provides inundation depth mosaics derived from the original source layers for 3 areas:\n",
    "    * San Francisco Bay Area (3 meter resolution)\n",
    "    * Sacramento-SanJoaquin Delta (3 meter resolution)\n",
    "    * California coast (50 meter resolution)\n",
    "* For 4 different SLR scenarios\n",
    "    * 0 meters\n",
    "    * 0.5 meters\n",
    "    * 1 meter\n",
    "    * 1.41 meters\n",
    "* There are overlaps between spatial extents of the 3 areas. So querying all the SLR datasets for a point location may return results for multiple areas. If a point is not contained within spatial extent of a SLR dataset, you will get a server (500) error."
   ]
  },
  {
   "cell_type": "code",
   "execution_count": null,
   "metadata": {
    "collapsed": true
   },
   "outputs": [],
   "source": []
  }
 ],
 "metadata": {
  "kernelspec": {
   "display_name": "Python 2",
   "language": "python",
   "name": "python2"
  },
  "language_info": {
   "codemirror_mode": {
    "name": "ipython",
    "version": 2
   },
   "file_extension": ".py",
   "mimetype": "text/x-python",
   "name": "python",
   "nbconvert_exporter": "python",
   "pygments_lexer": "ipython2",
   "version": "2.7.15rc1"
  }
 },
 "nbformat": 4,
 "nbformat_minor": 2
}

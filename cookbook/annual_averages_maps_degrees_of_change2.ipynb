{
 "cells": [
  {
   "cell_type": "markdown",
   "metadata": {},
   "source": [
    "# Degrees of Change map"
   ]
  },
  {
   "cell_type": "markdown",
   "metadata": {},
   "source": [
    "These maps display the projected differences in maximum temperature between a baseline time period (1961-1990) and end of century (2070-2099) period."
   ]
  },
  {
   "cell_type": "code",
   "execution_count": 31,
   "metadata": {},
   "outputs": [],
   "source": [
    "# A 'magic' command that displays plots inline inside the notebook as static images\n",
    "%matplotlib inline\n",
    "\n",
    "import numpy as np\n",
    "import requests\n",
    "import json\n",
    "import matplotlib.pyplot as plt\n",
    "import gdal\n",
    "from mpl_toolkits.basemap import Basemap\n",
    "from PIL import Image\n",
    "from io import BytesIO\n",
    "\n",
    "# entry point of the API\n",
    "api = 'http://api.cal-adapt.org/api'"
   ]
  },
  {
   "cell_type": "markdown",
   "metadata": {},
   "source": [
    "### Let's look at data for Sacramento County\n",
    "\n",
    "If you open [this link](http://api.cal-adapt.org/api/), you can see a list of resources currently available through the api. The list of climate datasets is under `series`. You can pass in your own geometry to query the climate data or use geometry available through the api. For this exercise we will use the `counties` resource available through the Cal-Adapt api. \n",
    "\n",
    "The code below gets the `id` for the polygon feature (Sacramento County) by querying the `counties` resource."
   ]
  },
  {
   "cell_type": "code",
   "execution_count": 6,
   "metadata": {
    "scrolled": true
   },
   "outputs": [
    {
     "name": "stdout",
     "output_type": "stream",
     "text": [
      "http://api.cal-adapt.org/api/counties/?intersects={\"type\":\"Point\",\"coordinates\":[-121.4687,38.5938]}&srs=4326&precision=4\n"
     ]
    }
   ],
   "source": [
    "feature_resource = 'counties'\n",
    "feature = None\n",
    "\n",
    "# Point location (within Sacramento County) in geojson format\n",
    "lat = 38.5938\n",
    "lng = -121.4687\n",
    "point = '{\"type\":\"Point\",\"coordinates\":[' + str(lng) + ',' + str(lat) + ']}'\n",
    "\n",
    "# Params\n",
    "params = {'intersects': point, 'srs': 4326, 'precision': 4}\n",
    "params_str = \"&\".join(\"%s=%s\" % (k,v) for k,v in params.items())\n",
    "\n",
    "# Construct url\n",
    "url = api + '/' + feature_resource + '/' + '?' + params_str\n",
    "print(url)\n",
    "\n",
    "# Get county geometry from api\n",
    "# Construct a uri string which we will pass to the api later\n",
    "try:\n",
    "    response = requests.get(url, headers=headers)\n",
    "    json = response.json()\n",
    "    feature = json['features'][0]\n",
    "except requests.exceptions.HTTPError as err:\n",
    "    print (err)"
   ]
  },
  {
   "cell_type": "markdown",
   "metadata": {},
   "source": [
    "### Get Maximum Temperature for HadGEM2-ES model for both RCP4.5 and RCP 8.5 scenarios\n",
    "\n",
    "Url's for resources are hardcoded below, if you want to explore how to get other climate data check out these [Jupyter Notebooks](https://github.com/berkeley-gif/caladapt-public)"
   ]
  },
  {
   "cell_type": "code",
   "execution_count": 37,
   "metadata": {
    "scrolled": true
   },
   "outputs": [
    {
     "data": {
      "text/plain": [
       "[masked_array(data =\n",
       "  [[-- -- -- ..., 283.90924072265625 282.8677978515625 285.150146484375]\n",
       "  [-- -- -- ..., 283.6562194824219 285.348876953125 286.0563659667969]\n",
       "  [-- -- -- ..., 284.540283203125 286.1128845214844 286.41070556640625]\n",
       "  ..., \n",
       "  [-- -- -- ..., 301.7541809082031 301.53350830078125 303.1330871582031]\n",
       "  [-- -- -- ..., 302.6947937011719 302.7872314453125 303.4317626953125]\n",
       "  [-- -- -- ..., 302.7048645019531 302.9548645019531 303.3791198730469]],\n",
       "              mask =\n",
       "  [[ True  True  True ..., False False False]\n",
       "  [ True  True  True ..., False False False]\n",
       "  [ True  True  True ..., False False False]\n",
       "  ..., \n",
       "  [ True  True  True ..., False False False]\n",
       "  [ True  True  True ..., False False False]\n",
       "  [ True  True  True ..., False False False]],\n",
       "        fill_value = 1e+30), masked_array(data =\n",
       "  [[-- -- -- ..., 283.8445129394531 282.8127136230469 285.1479187011719]\n",
       "  [-- -- -- ..., 283.6246032714844 285.3237609863281 286.0760803222656]\n",
       "  [-- -- -- ..., 284.5011901855469 286.08648681640625 286.4142761230469]\n",
       "  ..., \n",
       "  [-- -- -- ..., 301.27587890625 301.04156494140625 302.7104797363281]\n",
       "  [-- -- -- ..., 302.1450500488281 302.2685241699219 302.9334411621094]\n",
       "  [-- -- -- ..., 302.0753479003906 302.3653869628906 302.8102111816406]],\n",
       "              mask =\n",
       "  [[ True  True  True ..., False False False]\n",
       "  [ True  True  True ..., False False False]\n",
       "  [ True  True  True ..., False False False]\n",
       "  ..., \n",
       "  [ True  True  True ..., False False False]\n",
       "  [ True  True  True ..., False False False]\n",
       "  [ True  True  True ..., False False False]],\n",
       "        fill_value = 1e+30), masked_array(data =\n",
       "  [[-- -- -- ..., 282.8167724609375 281.800537109375 284.1070861816406]\n",
       "  [-- -- -- ..., 282.59417724609375 284.2837219238281 284.99273681640625]\n",
       "  [-- -- -- ..., 283.48583984375 285.0304260253906 285.29437255859375]\n",
       "  ..., \n",
       "  [-- -- -- ..., 300.93157958984375 300.7084655761719 302.3771667480469]\n",
       "  [-- -- -- ..., 301.7807922363281 301.9114074707031 302.5872497558594]\n",
       "  [-- -- -- ..., 301.72271728515625 302.001708984375 302.4537048339844]],\n",
       "              mask =\n",
       "  [[ True  True  True ..., False False False]\n",
       "  [ True  True  True ..., False False False]\n",
       "  [ True  True  True ..., False False False]\n",
       "  ..., \n",
       "  [ True  True  True ..., False False False]\n",
       "  [ True  True  True ..., False False False]\n",
       "  [ True  True  True ..., False False False]],\n",
       "        fill_value = 1e+30)]"
      ]
     },
     "execution_count": 37,
     "metadata": {},
     "output_type": "execute_result"
    }
   ],
   "source": [
    "# Period\n",
    "startYear = 1961\n",
    "endYear = 1963\n",
    "\n",
    "# Query parameters dict\n",
    "params = {\n",
    "    'pagesize': 100,\n",
    "    'ref': '/api/' + feature_resource + '/' + str(feature['id']) + '/',\n",
    "}\n",
    "\n",
    "url = 'http://api.cal-adapt.org/api/series/tasmax_year_HadGEM2-ES_historical/' + str(startYear) + '-01-01/' + str(endYear) + '-12-31/'\n",
    "\n",
    "# Make request\n",
    "response = requests.get(url)\n",
    "\n",
    "array_list = []\n",
    "\n",
    "if response.ok:\n",
    "    data = response.json()\n",
    "    # Get a list of Raster Stores\n",
    "    results = data['results']\n",
    "    nodata = results[0]['nodata']\n",
    "    #rasterArray = np.ma.masked_equal(data, nodata)\n",
    "    # Iterate through the list and print the event and image property of each Raster Store\n",
    "    for item in results:\n",
    "        im = Image.open(requests.get(item['image'], stream=True).raw)\n",
    "        # Creates a numpy array from image \n",
    "        data = np.array(im)\n",
    "        # Any calculations will be wrong if nodata values are not taken care of\n",
    "        # Create a masked array for making calculations without nodata values\n",
    "        rasterArray = np.ma.masked_equal(data, nodata)\n",
    "        array_list.append(rasterArray)"
   ]
  },
  {
   "cell_type": "markdown",
   "metadata": {},
   "source": [
    "### Define function for processing each geotiff file\n",
    "\n",
    "Function `read_file` takes a text string representing path to a geotiff file and returns a masked numpy array."
   ]
  },
  {
   "cell_type": "code",
   "execution_count": null,
   "metadata": {
    "collapsed": true
   },
   "outputs": [],
   "source": []
  },
  {
   "cell_type": "code",
   "execution_count": 5,
   "metadata": {
    "collapsed": true
   },
   "outputs": [],
   "source": [
    "def read_file(file):\n",
    "    ds = gdal.Open(file)\n",
    "    band = ds.GetRasterBand(1)\n",
    "    # Get nodata value from the GDAL band object\n",
    "    nodata = band.GetNoDataValue()\n",
    "    # Creates a numpy array that contains the original nodata values. \n",
    "    data = band.ReadAsArray()\n",
    "    # Any calculations will be wrong if nodata values are not taken care of\n",
    "    # Create a masked array for making calculations without nodata values\n",
    "    rasterArray = np.ma.masked_equal(data, nodata)\n",
    "    band = None\n",
    "    ds = None\n",
    "    return rasterArray"
   ]
  },
  {
   "cell_type": "markdown",
   "metadata": {},
   "source": [
    "### Calculate baseline average (1961-1990) using observed historical"
   ]
  },
  {
   "cell_type": "code",
   "execution_count": 6,
   "metadata": {
    "collapsed": true
   },
   "outputs": [],
   "source": [
    "# Make a list of files for observed historical\n",
    "file_list = glob(os.path.join(data_dir, 'livneh', '*.tif'))\n",
    "# Read all geotiff files as a list of numpy arrays \n",
    "array_list = [read_file(x) for x in file_list]"
   ]
  },
  {
   "cell_type": "code",
   "execution_count": 7,
   "metadata": {},
   "outputs": [
    {
     "name": "stdout",
     "output_type": "stream",
     "text": [
      "3.51469150666 32.4824297505 <class 'numpy.ma.core.MaskedArray'>\n"
     ]
    }
   ],
   "source": [
    "# Perform averaging\n",
    "hist_observed_1961_1990 = np.ma.array(tuple(array_list)).mean(axis=0)\n",
    "print(hist_observed_1961_1990.min(), hist_observed_1961_1990.max(), type(hist_observed_1961_1990))\n",
    "file_list = None\n",
    "array_list = None"
   ]
  },
  {
   "cell_type": "markdown",
   "metadata": {},
   "source": [
    "### Calculate baseline average (1961-1990) using modeled historical"
   ]
  },
  {
   "cell_type": "code",
   "execution_count": 8,
   "metadata": {},
   "outputs": [
    {
     "name": "stdout",
     "output_type": "stream",
     "text": [
      "3.60989163306 32.3798639113\n"
     ]
    }
   ],
   "source": [
    "# Make a list of files for observed historical\n",
    "file_list = glob(os.path.join(data_dir, 'HadGEM2-ES_historical', '*.tif'))\n",
    "# Read all geotiff files as a list of numpy arrays \n",
    "array_list = [read_file(x) for x in file_list]\n",
    "# Perform averaging\n",
    "hist_modeled_1961_1990 = np.ma.array(tuple(array_list)).mean(axis=0)\n",
    "# Convert Kelvin to Degrees Celsius\n",
    "hist_modeled_1961_1990 = hist_modeled_1961_1990 - 273.15\n",
    "print(hist_modeled_1961_1990.min(), hist_modeled_1961_1990.max())\n",
    "file_list = None\n",
    "array_list = None"
   ]
  },
  {
   "cell_type": "markdown",
   "metadata": {},
   "source": [
    "### Calculate future average (2070-2099) using modeled projections for RCP4.5 and RCP8.5"
   ]
  },
  {
   "cell_type": "code",
   "execution_count": 9,
   "metadata": {},
   "outputs": [
    {
     "name": "stdout",
     "output_type": "stream",
     "text": [
      "7.70198567708 36.2791015625\n"
     ]
    }
   ],
   "source": [
    "# Make a list of files for observed historical\n",
    "file_list = glob(os.path.join(data_dir, 'HadGEM2-ES_rcp45', '*.tif'))\n",
    "# Read all geotiff files as a list of numpy arrays \n",
    "array_list = [read_file(x) for x in file_list]\n",
    "# Perform averaging\n",
    "rcp45_modeled_2070_2099 = np.ma.array(tuple(array_list)).mean(axis=0)\n",
    "# Convert Kelvin to Degrees Celsius\n",
    "rcp45_modeled_2070_2099 = rcp45_modeled_2070_2099 - 273.15\n",
    "print(rcp45_modeled_2070_2099.min(), rcp45_modeled_2070_2099.max())\n",
    "file_list = None\n",
    "array_list = None"
   ]
  },
  {
   "cell_type": "code",
   "execution_count": 10,
   "metadata": {},
   "outputs": [
    {
     "name": "stdout",
     "output_type": "stream",
     "text": [
      "9.96204427083 38.4527018229\n"
     ]
    }
   ],
   "source": [
    "# Make a list of files for observed historical\n",
    "file_list = glob(os.path.join(data_dir, 'HadGEM2-ES_rcp85', '*.tif'))\n",
    "# Read all geotiff files as a list of numpy arrays \n",
    "array_list = [read_file(x) for x in file_list]\n",
    "# Perform averaging\n",
    "rcp85_modeled_2070_2099 = np.ma.array(tuple(array_list)).mean(axis=0)\n",
    "# Convert Kelvin to Degrees Celsius\n",
    "rcp85_modeled_2070_2099 = rcp85_modeled_2070_2099 - 273.15\n",
    "print(rcp85_modeled_2070_2099.min(), rcp85_modeled_2070_2099.max())\n",
    "file_list = None\n",
    "array_list = None"
   ]
  },
  {
   "cell_type": "markdown",
   "metadata": {},
   "source": [
    "### Export to geotiff\n",
    "\n",
    "If you want to save the decadal averages out to a new geotiff file, you could use the following code. Repeat for all the new arrays. "
   ]
  },
  {
   "cell_type": "code",
   "execution_count": 11,
   "metadata": {
    "collapsed": true
   },
   "outputs": [],
   "source": [
    "# Get metadata from one of the input files\n",
    "inFileName = glob(os.path.join(data_dir, 'HadGEM2-ES_rcp85', '*.tif'))[0]\n",
    "ds = gdal.Open(inFileName)\n",
    "\n",
    "gt = ds.GetGeoTransform()   \n",
    "proj = ds.GetProjection()\n",
    "\n",
    "xres = gt[1]\n",
    "yres = gt[5]\n",
    "\n",
    "rows = ds.RasterXSize\n",
    "cols = ds.RasterYSize\n",
    "\n",
    "xmin = gt[0] + xres * 0.5\n",
    "xmax = gt[0] + (xres * rows) - xres * 0.5\n",
    "ymin = gt[3] + (yres * cols) + yres * 0.5\n",
    "ymax = gt[3] - yres * 0.5\n",
    "\n",
    "outFileName = os.path.join(data_dir, 'rcp85_modeled_2070_2099.tif')\n",
    "\n",
    "driver = gdal.GetDriverByName(\"GTiff\")\n",
    "outdata = driver.Create(outFileName, rows, cols, 1, gdal.GDT_Float32)\n",
    "outdata.SetGeoTransform(ds.GetGeoTransform()) # sets same geotransform as input\n",
    "outdata.SetProjection(ds.GetProjection()) # sets same projection as input\n",
    "outdata.GetRasterBand(1).WriteArray(rcp85_modeled_2070_2099)\n",
    "outdata.FlushCache() # saves to disk!!\n",
    "outdata = None\n",
    "ds = None"
   ]
  },
  {
   "cell_type": "code",
   "execution_count": 12,
   "metadata": {
    "collapsed": true
   },
   "outputs": [],
   "source": [
    "#data = read_file(outFileName)\n",
    "# fig, ax = plt.subplots(1, 1)\n",
    "# img = plt.imshow(data, extent=[xmin, xmax, ymin, ymax], cmap='hot')\n",
    "# fig.colorbar(img)\n",
    "# plt.show()"
   ]
  },
  {
   "cell_type": "code",
   "execution_count": 13,
   "metadata": {
    "collapsed": true
   },
   "outputs": [],
   "source": [
    "#data = np.flipud(data)"
   ]
  },
  {
   "cell_type": "markdown",
   "metadata": {},
   "source": [
    "### Calculate degrees of change"
   ]
  },
  {
   "cell_type": "code",
   "execution_count": 14,
   "metadata": {},
   "outputs": [
    {
     "data": {
      "text/plain": [
       "(2.0609889532930197, 5.0766979586693424)"
      ]
     },
     "execution_count": 14,
     "metadata": {},
     "output_type": "execute_result"
    }
   ],
   "source": [
    "#rcp45 = rcp45_modeled_2070_2099 - hist_observed_1961_1990\n",
    "rcp45 = rcp45_modeled_2070_2099 - hist_modeled_1961_1990\n",
    "rcp45.min(), rcp45.max()"
   ]
  },
  {
   "cell_type": "code",
   "execution_count": 15,
   "metadata": {},
   "outputs": [
    {
     "data": {
      "text/plain": [
       "(3.778957703293031, 7.9547641549058881)"
      ]
     },
     "execution_count": 15,
     "metadata": {},
     "output_type": "execute_result"
    }
   ],
   "source": [
    "#rcp85 = rcp85_modeled_2070_2099 - hist_observed_1961_1990\n",
    "rcp85 = rcp85_modeled_2070_2099 - hist_modeled_1961_1990\n",
    "rcp85.min(), rcp85.max()"
   ]
  },
  {
   "cell_type": "markdown",
   "metadata": {},
   "source": [
    "### Plot degrees of change maps\n",
    "\n",
    "Create a list of values for binning the data"
   ]
  },
  {
   "cell_type": "code",
   "execution_count": 16,
   "metadata": {},
   "outputs": [
    {
     "data": {
      "text/plain": [
       "[0.0, 1.0, 2.0, 3.0, 4.0, 5.0, 6.0, 7.0, 8.0, 9.0]"
      ]
     },
     "execution_count": 16,
     "metadata": {},
     "output_type": "execute_result"
    }
   ],
   "source": [
    "data_bins = [x*1.0 for x in range(10)]\n",
    "data_bins"
   ]
  },
  {
   "cell_type": "markdown",
   "metadata": {},
   "source": [
    "Define a function that takes two arguments - (1) axes to plot figure on, (2) data array and returns a map"
   ]
  },
  {
   "cell_type": "code",
   "execution_count": 17,
   "metadata": {
    "collapsed": true
   },
   "outputs": [],
   "source": [
    "# Projection used in California Albers (EPSG 3310)\n",
    "def setup_map(ax, data):\n",
    "    m = Basemap(resolution = 'l',\n",
    "              epsg = '3310',\n",
    "              llcrnrlon = xmin, urcrnrlon = xmax,\n",
    "              llcrnrlat = ymin, urcrnrlat = ymax,\n",
    "              ax = ax\n",
    "             )\n",
    "    x = np.linspace(0, m.urcrnrx, data.shape[1])\n",
    "    y = np.linspace(0, m.urcrnry, data.shape[0])\n",
    "    xx, yy = np.meshgrid(x, y)\n",
    "    cs = m.contourf(xx, yy, np.flipud(data), tuple(data_bins))\n",
    "    cbar = m.colorbar(cs ,location='bottom', pad=\"5%\")\n",
    "    cbar.set_label('C')\n",
    "    return m"
   ]
  },
  {
   "cell_type": "code",
   "execution_count": 18,
   "metadata": {},
   "outputs": [
    {
     "data": {
      "image/png": "[encoded data removed]",
      "text/plain": [
       "<matplotlib.figure.Figure at 0x7f097ce8e2e8>"
      ]
     },
     "metadata": {},
     "output_type": "display_data"
    }
   ],
   "source": [
    "fig, ax = plt.subplots(1, 2, figsize=(20,10))\n",
    "\n",
    "ax[0].set_title('RCP 4.5 and HadGEM2-ES')\n",
    "map1 = setup_map(ax[0], rcp45)\n",
    "\n",
    "ax[1].set_title('RCP 8.5 and HadGEM2-ES')\n",
    "map2 = setup_map(ax[1], rcp85)\n",
    "\n",
    "plt.subplots_adjust(wspace=0, hspace=0)\n",
    "plt.gcf().text(0.5, 0.975, 'Degrees of Change', fontsize=18, ha='center')\n",
    "desc_str1 = 'Projected differences in maximum temperature between a baseline time period (1961-1990)'\n",
    "desc_str2 = 'and end of century (2070-2099) period';\n",
    "plt.gcf().text(0.5, 0.95, desc_str1, fontsize=14, ha='center')\n",
    "plt.gcf().text(0.5, 0.925, desc_str2, fontsize=14, ha='center')\n",
    "plt.show()"
   ]
  },
  {
   "cell_type": "code",
   "execution_count": null,
   "metadata": {
    "collapsed": true
   },
   "outputs": [],
   "source": []
  },
  {
   "cell_type": "code",
   "execution_count": null,
   "metadata": {
    "collapsed": true
   },
   "outputs": [],
   "source": []
  }
 ],
 "metadata": {
  "kernelspec": {
   "display_name": "Python 3",
   "language": "python",
   "name": "python3"
  },
  "language_info": {
   "codemirror_mode": {
    "name": "ipython",
    "version": 3
   },
   "file_extension": ".py",
   "mimetype": "text/x-python",
   "name": "python",
   "nbconvert_exporter": "python",
   "pygments_lexer": "ipython3",
   "version": "3.5.2"
  }
 },
 "nbformat": 4,
 "nbformat_minor": 2
}

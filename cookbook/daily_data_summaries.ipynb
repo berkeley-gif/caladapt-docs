{
 "cells": [
  {
   "cell_type": "markdown",
   "metadata": {},
   "source": [
    "# Calculating monthly averages and other summaries from daily projections from Cal-Adapt API"
   ]
  },
  {
   "cell_type": "markdown",
   "metadata": {},
   "source": [
    "Begin by importing all python modules we will need."
   ]
  },
  {
   "cell_type": "code",
   "execution_count": 1,
   "metadata": {
    "collapsed": true
   },
   "outputs": [],
   "source": [
    "# A 'magic' command that displays plots inline inside the notebook as static images\n",
    "%matplotlib inline\n",
    "\n",
    "import requests \n",
    "import numpy as np\n",
    "import pandas as pd\n",
    "from datetime import datetime"
   ]
  },
  {
   "cell_type": "markdown",
   "metadata": {},
   "source": [
    "Defining some functions and values that we use later in the code. "
   ]
  },
  {
   "cell_type": "code",
   "execution_count": 2,
   "metadata": {
    "collapsed": true
   },
   "outputs": [],
   "source": [
    "# Convert value from degrees Celsius to degrees Fahrenheit (used for observed data)\n",
    "def celsius_to_F(val):\n",
    "    return val * 9/5 + 32 \n",
    "\n",
    "# Convert value from Kelvin to degrees Fahrenheit (used for modeled data)\n",
    "def kelvin_to_F(val):\n",
    "    return  (val - 273.15) * 9/5 + 32\n",
    "\n",
    "# Request header\n",
    "headers = {'ContentType': 'json'}"
   ]
  },
  {
   "cell_type": "markdown",
   "metadata": {},
   "source": [
    "### You can get data for a point or an area of your interest\n",
    "\n",
    "If you are requesting data for a point or polygon use the `g` parameter to specify geometry. Geometry can be written in various formats including WKT, GeoJSON, KML. The examples below use WKT (Well Known Text) format."
   ]
  },
  {
   "cell_type": "code",
   "execution_count": 3,
   "metadata": {
    "collapsed": true
   },
   "outputs": [],
   "source": [
    "# Uncomment the following lines to get data for a point location\n",
    "#point = 'POINT(-121.4687 38.5938)'\n",
    "#params = {'g': point}\n",
    "\n",
    "# Uncomment the following lines to get data for a polygon\n",
    "#polygon = 'POLYGON ((-123.35449 39.09596, -122.27783 39.09596, -122.27783 39.97712, -123.35449 39.97712, -123.35449 39.09596))' \n",
    "#params = {'g': polygon, 'stat': 'mean'}"
   ]
  },
  {
   "cell_type": "markdown",
   "metadata": {},
   "source": [
    "### If you want to use polygon geometry from Cal-Adapt API, it's a 2-step process\n",
    "\n",
    "- First get a polygon from a boundary layer in the API (e.g. counties, census tracts, place, etc.) that intersects your point of interest. Build a string that references the id of the polygon.\n",
    "- Then use the `ref` param instead of the `g` param to request data\n",
    "\n",
    "[Complete list of boundaries in Cal-Adapt API](https://berkeley-gif.github.io/caladapt-docs/data-catalog.html#vector-data). **Note: Requests might time out if the polygon is too large**. Subsetting the daily data has been tested with counties, census tracts, places and hydrounits. If you need data for a large boundary we reccomend downloading the daily rasters and processing the data locally. "
   ]
  },
  {
   "cell_type": "code",
   "execution_count": 4,
   "metadata": {
    "collapsed": false
   },
   "outputs": [
    {
     "name": "stdout",
     "output_type": "stream",
     "text": [
      "/api/counties/34/\n"
     ]
    }
   ],
   "source": [
    "# Your point of interest\n",
    "point = 'POINT(-121.4687 38.5938)'\n",
    "# Name of boundary layer in API\n",
    "resource = 'counties'\n",
    "# Request url\n",
    "url = 'http://api.cal-adapt.org/api/%s/' % resource\n",
    "# Request params to find intersecting boundaries\n",
    "params = {'intersects': point, 'srs': 4326, 'simplify': .0001, 'precision': 4}\n",
    "ref = ''\n",
    "\n",
    "# Get geometry\n",
    "response = requests.get(url, params=params, headers=headers)\n",
    "if response.ok:\n",
    "    data = response.json()\n",
    "    feature = data['features'][0]\n",
    "    if (feature):\n",
    "        ref = '/api/%s/%s/' % (resource, feature['id'])\n",
    "        print(ref)\n",
    "    else:\n",
    "        print('Did not find any polygons that intersect your point')\n",
    "\n",
    "params = {'ref': ref, 'stat': 'mean'}"
   ]
  },
  {
   "cell_type": "markdown",
   "metadata": {
    "collapsed": true
   },
   "source": [
    "## 1. Get daily data\n",
    "\n",
    "For this example we will get modeled projections for one scenario (RCP 8.5) and one model (HadGEM2-ES) for a county boundary in the Cal-Adapt API (see `params` in the previous code block)."
   ]
  },
  {
   "cell_type": "code",
   "execution_count": 5,
   "metadata": {
    "collapsed": false
   },
   "outputs": [],
   "source": [
    "# Request url\n",
    "url = 'http://api.cal-adapt.org/api/series/tasmax_day_HadGEM2-ES_rcp85/' + 'rasters/'\n",
    "\n",
    "# Make request\n",
    "response = requests.get(url, params=params, headers=headers)\n",
    "\n",
    "# Variable stores modeled daily data in a Pandas dataframe\n",
    "df = None\n",
    "\n",
    "if response.ok:\n",
    "    json = response.json()\n",
    "    data = json['results'][0]\n",
    "    \n",
    "    # Multiband raster data is returned by the API as a 3D array having a shape (233376, 1, 1)\n",
    "    # Flatten the 3D array into a 1D array\n",
    "    values_arr = np.array(data['image'])\n",
    "    values_arr = values_arr.flatten()\n",
    "    \n",
    "    # Get start date of timeseries\n",
    "    start_date = datetime.strptime(data['event'], '%Y-%m-%d')\n",
    "    \n",
    "    # Get total number of values -> number of days\n",
    "    length = len(values_arr)\n",
    "    \n",
    "    # Create new pandas dataframe and map each value in list to a date index\n",
    "    df = pd.DataFrame(values_arr,\n",
    "        index=pd.date_range(start_date, freq='1D', periods=length),\n",
    "        columns=['value'])\n",
    "    \n",
    "    # Convert Kelvin to Fahrenheit\n",
    "    df.value = df.value.apply(lambda x: kelvin_to_F(x))"
   ]
  },
  {
   "cell_type": "markdown",
   "metadata": {},
   "source": [
    "Print the first and last 5 values of the daily timeseries"
   ]
  },
  {
   "cell_type": "code",
   "execution_count": 6,
   "metadata": {
    "collapsed": false
   },
   "outputs": [
    {
     "name": "stdout",
     "output_type": "stream",
     "text": [
      "                value\n",
      "2006-01-01  54.075602\n",
      "2006-01-02  51.549680\n",
      "2006-01-03  51.462877\n",
      "2006-01-04  51.992432\n",
      "2006-01-05  45.609325\n",
      "\n",
      "                value\n",
      "2099-12-27  56.904231\n",
      "2099-12-28  61.793922\n",
      "2099-12-29  61.170569\n",
      "2099-12-30  62.885722\n",
      "2099-12-31  64.597578\n"
     ]
    }
   ],
   "source": [
    "print(df.head())\n",
    "print()\n",
    "print(df.tail())"
   ]
  },
  {
   "cell_type": "markdown",
   "metadata": {},
   "source": [
    "### 2. Calculate annual averages from daily timeseries"
   ]
  },
  {
   "cell_type": "code",
   "execution_count": 7,
   "metadata": {
    "collapsed": false,
    "scrolled": true
   },
   "outputs": [
    {
     "data": {
      "text/plain": [
       "2006-01-01    74.940755\n",
       "2007-01-01    78.062283\n",
       "2008-01-01    75.513896\n",
       "2009-01-01    75.522799\n",
       "2010-01-01    74.213921\n",
       "2011-01-01    76.076347\n",
       "2012-01-01    76.867439\n",
       "2013-01-01    76.582322\n",
       "2014-01-01    76.598499\n",
       "2015-01-01    74.755401\n",
       "2016-01-01    76.388079\n",
       "2017-01-01    77.075282\n",
       "2018-01-01    75.074902\n",
       "2019-01-01    76.852992\n",
       "2020-01-01    78.881004\n",
       "2021-01-01    76.545227\n",
       "2022-01-01    79.619940\n",
       "2023-01-01    78.296650\n",
       "2024-01-01    76.994133\n",
       "2025-01-01    77.551377\n",
       "2026-01-01    78.296732\n",
       "2027-01-01    77.240043\n",
       "2028-01-01    78.353793\n",
       "2029-01-01    77.749436\n",
       "2030-01-01    76.343695\n",
       "2031-01-01    76.771049\n",
       "2032-01-01    79.227882\n",
       "2033-01-01    77.548279\n",
       "2034-01-01    79.993947\n",
       "2035-01-01    78.555741\n",
       "                ...    \n",
       "2070-01-01    83.843379\n",
       "2071-01-01    81.675994\n",
       "2072-01-01    83.960937\n",
       "2073-01-01    81.763037\n",
       "2074-01-01    81.878724\n",
       "2075-01-01    82.892739\n",
       "2076-01-01    83.425516\n",
       "2077-01-01    83.217695\n",
       "2078-01-01    83.340424\n",
       "2079-01-01    83.934939\n",
       "2080-01-01    83.997449\n",
       "2081-01-01    83.246102\n",
       "2082-01-01    83.570185\n",
       "2083-01-01    85.092979\n",
       "2084-01-01    85.869732\n",
       "2085-01-01    83.742759\n",
       "2086-01-01    83.869999\n",
       "2087-01-01    82.742459\n",
       "2088-01-01    84.361816\n",
       "2089-01-01    82.837424\n",
       "2090-01-01    84.143912\n",
       "2091-01-01    82.262571\n",
       "2092-01-01    83.995119\n",
       "2093-01-01    85.128558\n",
       "2094-01-01    85.366144\n",
       "2095-01-01    85.572161\n",
       "2096-01-01    84.138140\n",
       "2097-01-01    83.154485\n",
       "2098-01-01    85.417807\n",
       "2099-01-01    83.788988\n",
       "Freq: AS-JAN, Name: value, dtype: float64"
      ]
     },
     "execution_count": 7,
     "metadata": {},
     "output_type": "execute_result"
    }
   ],
   "source": [
    "df.value.resample('1AS').mean()"
   ]
  },
  {
   "cell_type": "code",
   "execution_count": 8,
   "metadata": {
    "collapsed": false
   },
   "outputs": [
    {
     "data": {
      "text/plain": [
       "<matplotlib.axes._subplots.AxesSubplot at 0x119160cc0>"
      ]
     },
     "execution_count": 8,
     "metadata": {},
     "output_type": "execute_result"
    },
    {
     "data": {
      "image/png": "[encoded data removed]",
      "text/plain": [
       "<matplotlib.figure.Figure at 0x11907e4a8>"
      ]
     },
     "metadata": {},
     "output_type": "display_data"
    }
   ],
   "source": [
    "df.value.resample('1AS').mean().plot()"
   ]
  },
  {
   "cell_type": "markdown",
   "metadata": {},
   "source": [
    "### 3. Calculate monthly averages from daily timeseries"
   ]
  },
  {
   "cell_type": "code",
   "execution_count": 9,
   "metadata": {
    "collapsed": false,
    "scrolled": true
   },
   "outputs": [
    {
     "data": {
      "text/plain": [
       "2006-01-01     55.908003\n",
       "2006-02-01     64.956621\n",
       "2006-03-01     67.036066\n",
       "2006-04-01     77.682815\n",
       "2006-05-01     79.368712\n",
       "2006-06-01     82.762550\n",
       "2006-07-01     93.973568\n",
       "2006-08-01     92.006714\n",
       "2006-09-01     91.265109\n",
       "2006-10-01     75.086864\n",
       "2006-11-01     63.915263\n",
       "2006-12-01     54.872271\n",
       "2007-01-01     51.811407\n",
       "2007-02-01     64.152211\n",
       "2007-03-01     68.536818\n",
       "2007-04-01     78.953530\n",
       "2007-05-01     85.376784\n",
       "2007-06-01     96.497335\n",
       "2007-07-01    100.102504\n",
       "2007-08-01     99.149998\n",
       "2007-09-01     89.435285\n",
       "2007-10-01     75.208942\n",
       "2007-11-01     64.862380\n",
       "2007-12-01     61.878563\n",
       "2008-01-01     57.405202\n",
       "2008-02-01     63.789031\n",
       "2008-03-01     66.629260\n",
       "2008-04-01     73.182721\n",
       "2008-05-01     79.566522\n",
       "2008-06-01     90.628852\n",
       "                 ...    \n",
       "2097-07-01    101.427537\n",
       "2097-08-01    100.988321\n",
       "2097-09-01     97.522921\n",
       "2097-10-01     88.978502\n",
       "2097-11-01     73.268641\n",
       "2097-12-01     65.744710\n",
       "2098-01-01     60.939684\n",
       "2098-02-01     66.752057\n",
       "2098-03-01     74.747442\n",
       "2098-04-01     78.285739\n",
       "2098-05-01     95.575140\n",
       "2098-06-01    103.353666\n",
       "2098-07-01    100.893882\n",
       "2098-08-01    105.345454\n",
       "2098-09-01    105.682705\n",
       "2098-10-01     93.187373\n",
       "2098-11-01     76.163026\n",
       "2098-12-01     62.984824\n",
       "2099-01-01     62.261821\n",
       "2099-02-01     68.772955\n",
       "2099-03-01     73.484564\n",
       "2099-04-01     83.128811\n",
       "2099-05-01     92.086955\n",
       "2099-06-01     99.682751\n",
       "2099-07-01    103.913823\n",
       "2099-08-01     97.088811\n",
       "2099-09-01    100.276702\n",
       "2099-10-01     86.355553\n",
       "2099-11-01     72.823485\n",
       "2099-12-01     64.808006\n",
       "Freq: MS, Name: value, dtype: float64"
      ]
     },
     "execution_count": 9,
     "metadata": {},
     "output_type": "execute_result"
    }
   ],
   "source": [
    "monthly_avg = df.value.resample('MS').mean()\n",
    "monthly_avg"
   ]
  },
  {
   "cell_type": "code",
   "execution_count": 10,
   "metadata": {
    "collapsed": false
   },
   "outputs": [
    {
     "data": {
      "text/plain": [
       "<matplotlib.axes._subplots.AxesSubplot at 0x119f6d1d0>"
      ]
     },
     "execution_count": 10,
     "metadata": {},
     "output_type": "execute_result"
    },
    {
     "data": {
      "image/png": "[encoded data removed]",
      "text/plain": [
       "<matplotlib.figure.Figure at 0x11927a278>"
      ]
     },
     "metadata": {},
     "output_type": "display_data"
    }
   ],
   "source": [
    "jun_avg = monthly_avg[monthly_avg.index.month == 6]\n",
    "jun_avg.plot()"
   ]
  },
  {
   "cell_type": "code",
   "execution_count": 11,
   "metadata": {
    "collapsed": false
   },
   "outputs": [
    {
     "data": {
      "text/plain": [
       "<matplotlib.axes._subplots.AxesSubplot at 0x119f4e668>"
      ]
     },
     "execution_count": 11,
     "metadata": {},
     "output_type": "execute_result"
    },
    {
     "data": {
      "image/png": "[encoded data removed]",
      "text/plain": [
       "<matplotlib.figure.Figure at 0x119d93fd0>"
      ]
     },
     "metadata": {},
     "output_type": "display_data"
    }
   ],
   "source": [
    "jan_avg = monthly_avg[monthly_avg.index.month == 1]\n",
    "jan_avg.plot()"
   ]
  },
  {
   "cell_type": "markdown",
   "metadata": {},
   "source": [
    "### 4. Export dataframe to csv file"
   ]
  },
  {
   "cell_type": "code",
   "execution_count": 12,
   "metadata": {
    "collapsed": true
   },
   "outputs": [],
   "source": [
    "monthly_avg.to_csv('monthly_avg.csv')"
   ]
  }
 ],
 "metadata": {
  "kernelspec": {
   "display_name": "Python 3",
   "language": "python",
   "name": "python3"
  },
  "language_info": {
   "codemirror_mode": {
    "name": "ipython",
    "version": 3
   },
   "file_extension": ".py",
   "mimetype": "text/x-python",
   "name": "python",
   "nbconvert_exporter": "python",
   "pygments_lexer": "ipython3",
   "version": "3.6.0"
  }
 },
 "nbformat": 4,
 "nbformat_minor": 2
}

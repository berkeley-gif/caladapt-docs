{
 "cells": [
  {
   "cell_type": "code",
   "execution_count": 123,
   "metadata": {
    "collapsed": true
   },
   "outputs": [],
   "source": [
    "%matplotlib inline\n",
    "import numpy as np\n",
    "from glob import glob\n",
    "import os\n",
    "import matplotlib.pyplot as plt\n",
    "import gdal\n",
    "from mpl_toolkits.basemap import Basemap\n",
    "import math"
   ]
  },
  {
   "cell_type": "code",
   "execution_count": 124,
   "metadata": {},
   "outputs": [
    {
     "name": "stdout",
     "output_type": "stream",
     "text": [
      "['test_data/livneh_year_Tmax_clip_15Oct2014.1961.tif', 'test_data/livneh_year_Tmax_clip_15Oct2014.1963.tif', 'test_data/livneh_year_Tmax_clip_15Oct2014.1962.tif', 'test_data/output.tif']\n"
     ]
    }
   ],
   "source": [
    "data_dir = 'test_data'\n",
    "file_list = glob(os.path.join(data_dir, '*.tif'))\n",
    "print(file_list)"
   ]
  },
  {
   "cell_type": "code",
   "execution_count": 125,
   "metadata": {
    "collapsed": true
   },
   "outputs": [],
   "source": [
    "def read_file(file):\n",
    "    ds = gdal.Open(file)\n",
    "    band = ds.GetRasterBand(1)\n",
    "    # Get nodata value from the GDAL band object\n",
    "    nodata = band.GetNoDataValue()\n",
    "    # Creates a numpy array that contains the original nodata values. \n",
    "    data = band.ReadAsArray()\n",
    "    # Any calculations will be wrong if nodata values are not taken care of\n",
    "    # Create a masked array for making calculations without nodata values\n",
    "    rasterArray = np.ma.masked_equal(data, nodata)\n",
    "    band = None\n",
    "    ds = None\n",
    "    return rasterArray"
   ]
  },
  {
   "cell_type": "code",
   "execution_count": 126,
   "metadata": {},
   "outputs": [],
   "source": [
    "# Read all data as a list of numpy arrays \n",
    "array_list = [read_file(x) for x in file_list]"
   ]
  },
  {
   "cell_type": "code",
   "execution_count": 127,
   "metadata": {},
   "outputs": [
    {
     "name": "stdout",
     "output_type": "stream",
     "text": [
      "0.0 34.7185096741 <class 'numpy.ma.core.MaskedArray'>\n"
     ]
    }
   ],
   "source": [
    "# Perform averaging\n",
    "array_out = np.ma.array(tuple(array_list)).mean(axis=0)\n",
    "print(array_out.min(), array_out.max(), type(array_out))"
   ]
  },
  {
   "cell_type": "code",
   "execution_count": 130,
   "metadata": {},
   "outputs": [],
   "source": [
    "# Get metadata from one of the input files\n",
    "ds = gdal.Open(file_list[0])\n",
    "\n",
    "gt = ds.GetGeoTransform()   \n",
    "proj = ds.GetProjection()\n",
    "\n",
    "xres = gt[1]\n",
    "yres = gt[5]\n",
    "\n",
    "rows = ds.RasterXSize\n",
    "cols = ds.RasterYSize\n",
    "\n",
    "xmin = gt[0] + xres * 0.5\n",
    "xmax = gt[0] + (xres * rows) - xres * 0.5\n",
    "ymin = gt[3] + (yres * cols) + yres * 0.5\n",
    "ymax = gt[3] - yres * 0.5\n",
    "\n",
    "outFileName = os.path.join(data_dir, 'output.tif')\n",
    "\n",
    "driver = gdal.GetDriverByName(\"GTiff\")\n",
    "outdata = driver.Create(outFileName, rows, cols, 1, gdal.GDT_Float32)\n",
    "outdata.SetGeoTransform(ds.GetGeoTransform()) # sets same geotransform as input\n",
    "outdata.SetProjection(ds.GetProjection()) # sets same projection as input\n",
    "outdata.GetRasterBand(1).WriteArray(array_out)\n",
    "outdata.FlushCache() # saves to disk!!\n",
    "outdata = None\n",
    "ds = None"
   ]
  },
  {
   "cell_type": "code",
   "execution_count": 193,
   "metadata": {},
   "outputs": [],
   "source": [
    "data = read_file(outFileName)\n",
    "# fig, ax = plt.subplots(1, 1)\n",
    "# img = plt.imshow(data, extent=[xmin, xmax, ymin, ymax], cmap='hot')\n",
    "# fig.colorbar(img)\n",
    "# plt.show()"
   ]
  },
  {
   "cell_type": "code",
   "execution_count": 194,
   "metadata": {
    "collapsed": true
   },
   "outputs": [],
   "source": [
    "data = np.flipud(data)"
   ]
  },
  {
   "cell_type": "code",
   "execution_count": 217,
   "metadata": {},
   "outputs": [],
   "source": [
    "levels = range(math.ceil(data.min()), math.ceil(data.max()), 2)"
   ]
  },
  {
   "cell_type": "code",
   "execution_count": 241,
   "metadata": {
    "collapsed": true
   },
   "outputs": [],
   "source": [
    "# California Albers - +proj=aea +lat_1=34 +lat_2=40.5 +lat_0=0 +lon_0=-120 +x_0=0 +y_0=-4000000 +ellps=GRS80 +datum=NAD83 +units=m +no_defs\";\n",
    "def setup_map(ax):\n",
    "    m = Basemap(resolution = 'l',\n",
    "              epsg = '3310',\n",
    "#               projection = 'aea',\n",
    "#               lat_1 = 34,\n",
    "#               lat_2 = 40.5,\n",
    "#               lon_0 = -120,\n",
    "#               lat_0 = 0,\n",
    "              llcrnrlon = xmin, urcrnrlon = xmax,\n",
    "              llcrnrlat = ymin, urcrnrlat = ymax,\n",
    "              ax = ax\n",
    "             )\n",
    "    x = np.linspace(0, m.urcrnrx, data.shape[1])\n",
    "    y = np.linspace(0, m.urcrnry, data.shape[0])\n",
    "    xx, yy = np.meshgrid(x, y)\n",
    "    cs = m.contourf(xx, yy, data, tuple(levels))\n",
    "    cbar = m.colorbar(cs ,location='bottom', pad=\"5%\")\n",
    "    cbar.set_label('C')\n",
    "    return m"
   ]
  },
  {
   "cell_type": "code",
   "execution_count": 242,
   "metadata": {},
   "outputs": [
    {
     "name": "stderr",
     "output_type": "stream",
     "text": [
      "/Users/shruti/Projects/caladapt-docs/env/lib/python3.6/site-packages/mpl_toolkits/basemap/__init__.py:3608: MatplotlibDeprecationWarning: The ishold function was deprecated in version 2.0.\n",
      "  b = ax.ishold()\n",
      "/Users/shruti/Projects/caladapt-docs/env/lib/python3.6/site-packages/mpl_toolkits/basemap/__init__.py:3677: MatplotlibDeprecationWarning: axes.hold is deprecated.\n",
      "    See the API Changes document (http://matplotlib.org/api/api_changes.html)\n",
      "    for more details.\n",
      "  ax.hold(b)\n"
     ]
    },
    {
     "data": {
      "text/plain": [
       "<matplotlib.figure.Figure at 0x1182b42e8>"
      ]
     },
     "metadata": {},
     "output_type": "display_data"
    },
    {
     "data": {
      "image/png": "[encoded data removed]",
      "text/plain": [
       "<matplotlib.figure.Figure at 0x1182b4358>"
      ]
     },
     "metadata": {},
     "output_type": "display_data"
    }
   ],
   "source": [
    "plt.figure(figsize=(5,10))\n",
    "\n",
    "fig, ax = plt.subplots(1, 2)\n",
    "\n",
    "ax[0].set_title('0')\n",
    "map1 = setup_map(ax[0])\n",
    "\n",
    "ax[1].set_title('1')\n",
    "map2 = setup_map(ax[1])\n",
    "\n",
    "plt.show()\n"
   ]
  },
  {
   "cell_type": "code",
   "execution_count": null,
   "metadata": {
    "collapsed": true
   },
   "outputs": [],
   "source": []
  }
 ],
 "metadata": {
  "kernelspec": {
   "display_name": "Python 3",
   "language": "python",
   "name": "python3"
  },
  "language_info": {
   "codemirror_mode": {
    "name": "ipython",
    "version": 3
   },
   "file_extension": ".py",
   "mimetype": "text/x-python",
   "name": "python",
   "nbconvert_exporter": "python",
   "pygments_lexer": "ipython3",
   "version": "3.6.1"
  }
 },
 "nbformat": 4,
 "nbformat_minor": 2
}
